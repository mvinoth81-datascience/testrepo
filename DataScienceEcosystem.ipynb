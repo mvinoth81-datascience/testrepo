{
 "cells": [
  {
   "cell_type": "markdown",
   "id": "216b73aa-d608-46cb-9ff8-b6315cdca3c2",
   "metadata": {},
   "source": [
    "<h1>  Data Science Tools and Ecosystem<h1>"
   ]
  },
  {
   "cell_type": "markdown",
   "id": "1c3b6b25-0413-40fa-8541-28f540d7dcb7",
   "metadata": {},
   "source": [
    "In this notebook, Data Science Tools and Ecosystem are summarized."
   ]
  },
  {
   "cell_type": "markdown",
   "id": "e49976ca-dabd-403f-8ae9-16826882b227",
   "metadata": {},
   "source": [
    "<h2> Author <h2>\n",
    "Vinoth Marudhachalam"
   ]
  },
  {
   "cell_type": "markdown",
   "id": "f67d791f-0e06-44d6-922b-684267c355a2",
   "metadata": {},
   "source": [
    "**Objectives:**\n",
    "<ul>\n",
    "    <li>List popular languages for Data Science</li>\n",
    "    <li>commonly used libraries used by Data Scientists</li>\n",
    "    <li>commonly used development environments used by Data Scientists</li>\n",
    "<ul>"
   ]
  },
  {
   "cell_type": "code",
   "execution_count": null,
   "id": "50130317-bd0d-467b-981d-f8b98e1b9e6f",
   "metadata": {},
   "outputs": [],
   "source": []
  },
  {
   "cell_type": "markdown",
   "id": "f86ca62b-e4a6-46f8-a6fb-c8306b11ebc2",
   "metadata": {},
   "source": [
    "Some of the Popular Languages that Data Scientists use are:\n",
    "1. R\n",
    "2. Python\n",
    "3. Scala"
   ]
  },
  {
   "cell_type": "markdown",
   "id": "ca401aae-7925-454c-ae7e-d8d82148365b",
   "metadata": {},
   "source": [
    "Some of the commonly used libraries used by Data Scientists include:\n",
    "1. Numpy\n",
    "2. Pandas\n",
    "3. scikit-learn\n",
    "4. Tensorflow\n",
    "5. pytorch"
   ]
  },
  {
   "cell_type": "markdown",
   "id": "11b04597-46ec-4aee-806f-3295a0e232cc",
   "metadata": {},
   "source": [
    "|Data Science Tools||---------------||R Studio||Jupyter Notebook||VisualStudio Code|"
   ]
  },
  {
   "cell_type": "markdown",
   "id": "13b3490d-78d3-4d73-ad9a-52325b623a89",
   "metadata": {},
   "source": [
    "<table>\n",
    "<tr>\n",
    "<th><Data Science Tools><th>\n",
    "<tr>\n",
    "<tr>\n",
    "<td><R Studio><td>\n",
    "<td><Jupyter Notebook><td>\n",
    "<td><VisualStudio Code><td>\n",
    "<tr>\n",
    "<table>"
   ]
  },
  {
   "cell_type": "markdown",
   "id": "25a52ed4-0161-41ae-9494-9b830718d3f5",
   "metadata": {},
   "source": [
    "|Sno||Data Science Tools||-----|---------------||1||R Studio||2||Jupyter Notebook||3||VisualStudio Code|"
   ]
  },
  {
   "cell_type": "markdown",
   "id": "f5e0f51b-7bb2-4b7a-bdd2-2e8dca77e72b",
   "metadata": {},
   "source": [
    "<table >\n",
    "<tr><th >Data Science Tools <th><tr>\n",
    "<tr><td> R Studio <td><tr><td> Jupyter Notebook <td><tr><td> VisualStudio Code <td><tr><table>"
   ]
  },
  {
   "cell_type": "markdown",
   "id": "ac8fa055-4932-4160-879b-ffafdbe80754",
   "metadata": {},
   "source": [
    "# (Header 3, Below are a few examples of evaluating arithmetic expressions in Python.)"
   ]
  },
  {
   "cell_type": "code",
   "execution_count": 10,
   "id": "679880f9-bbca-4337-a61b-0cabcfc5f6ee",
   "metadata": {},
   "outputs": [
    {
     "data": {
      "text/plain": [
       "17"
      ]
     },
     "execution_count": 10,
     "metadata": {},
     "output_type": "execute_result"
    }
   ],
   "source": [
    "# This is a simple arthmetic expression to multiply then add integers\n",
    "(3*4)+5"
   ]
  },
  {
   "cell_type": "code",
   "execution_count": 11,
   "id": "a9e4840f-5f5b-47a4-8e63-73dbe37b790f",
   "metadata": {},
   "outputs": [
    {
     "data": {
      "text/plain": [
       "3.3333333333333335"
      ]
     },
     "execution_count": 11,
     "metadata": {},
     "output_type": "execute_result"
    }
   ],
   "source": [
    "#This will convert 200 minutes to hours by dividing by 60\n",
    "200/60"
   ]
  },
  {
   "cell_type": "code",
   "execution_count": null,
   "id": "1f464cea-4818-4630-8c43-24839b95dc86",
   "metadata": {},
   "outputs": [],
   "source": []
  }
 ],
 "metadata": {
  "kernelspec": {
   "display_name": "Python [conda env:base] *",
   "language": "python",
   "name": "conda-base-py"
  },
  "language_info": {
   "codemirror_mode": {
    "name": "ipython",
    "version": 3
   },
   "file_extension": ".py",
   "mimetype": "text/x-python",
   "name": "python",
   "nbconvert_exporter": "python",
   "pygments_lexer": "ipython3",
   "version": "3.13.5"
  }
 },
 "nbformat": 4,
 "nbformat_minor": 5
}
