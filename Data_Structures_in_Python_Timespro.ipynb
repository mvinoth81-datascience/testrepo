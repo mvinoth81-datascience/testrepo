{
  "nbformat": 4,
  "nbformat_minor": 0,
  "metadata": {
    "colab": {
      "provenance": []
    },
    "kernelspec": {
      "name": "python3",
      "display_name": "Python 3"
    },
    "language_info": {
      "name": "python"
    }
  },
  "cells": [
    {
      "cell_type": "markdown",
      "source": [
        "# Sequence Data Types"
      ],
      "metadata": {
        "id": "rNh9xSsniwYV"
      }
    },
    {
      "cell_type": "markdown",
      "source": [
        "Sequence data types are built-in types in Python that store ordered collections of items. These data types allow you to access elements by index, iterate over them, and perform common operations like slicing, joining, and sorting."
      ],
      "metadata": {
        "id": "p0oQLx9GiLJv"
      }
    },
    {
      "cell_type": "markdown",
      "source": [
        " In Python, data structures are tools you use to:\n",
        "\n",
        "\n",
        "\n",
        "*   Store data\n",
        "*   Access data quickly\n",
        "*   Modify or organize data\n",
        "\n",
        "\n",
        "\n",
        "\n"
      ],
      "metadata": {
        "id": "Gm2pCNghi7MF"
      }
    },
    {
      "cell_type": "markdown",
      "source": [
        "## Sequence Data types"
      ],
      "metadata": {
        "id": "V60npqyQjw5C"
      }
    },
    {
      "cell_type": "markdown",
      "source": [
        "There are basic common Built-in data types below\n",
        "\n",
        "\n",
        "\n",
        "*   List\n",
        "\n",
        "*   Tuples\n",
        "*   Set\n",
        "\n",
        "*   Dictionaries\n",
        "\n",
        "*   String\n",
        "\n",
        "\n",
        "\n"
      ],
      "metadata": {
        "id": "sNjAx6FxltIX"
      }
    },
    {
      "cell_type": "markdown",
      "source": [
        "## List"
      ],
      "metadata": {
        "id": "KkEOe55pk0PM"
      }
    },
    {
      "cell_type": "markdown",
      "source": [
        "Features of List:\n",
        "\n",
        "\n",
        "\n",
        "*   Ordered  -The items in a list maintain the order in which you add them\n",
        "*   Mutable  -You can add, remove, or change items after the list is created.\n",
        "*   Allows Duplicates -Lists can have repeated values.\n",
        "*   Heterogeneous Data -A list can store different types of data: numbers, strings, even other lists\n",
        "*   Index-Based Access -You can access items using their index number (starts from 0)\n",
        "\n",
        "\n",
        "\n",
        "\n",
        "\n"
      ],
      "metadata": {
        "id": "TCWWHsR3lXqd"
      }
    },
    {
      "cell_type": "markdown",
      "source": [
        "### 1.Basic List Operations\n",
        "\n",
        "\n",
        "\n"
      ],
      "metadata": {
        "id": "Myrr6U4yk3PW"
      }
    },
    {
      "cell_type": "markdown",
      "source": [
        "Creating a List"
      ],
      "metadata": {
        "id": "IB9BxmDWk96g"
      }
    },
    {
      "cell_type": "code",
      "source": [
        "tech_stack = [\"Python\", \"Java\", \"JavaScript\", \"C#\", \"Go\", \"Ruby\"]\n"
      ],
      "metadata": {
        "id": "E7Mj_H5DlJ85"
      },
      "execution_count": null,
      "outputs": []
    },
    {
      "cell_type": "code",
      "source": [
        "print(tech_stack[1:5])"
      ],
      "metadata": {
        "colab": {
          "base_uri": "https://localhost:8080/"
        },
        "id": "-urJupr7GpUv",
        "outputId": "38576e0e-03f9-4968-aee5-9b99271219f1"
      },
      "execution_count": null,
      "outputs": [
        {
          "output_type": "stream",
          "name": "stdout",
          "text": [
            "['Java', 'JavaScript', 'C#', 'Go']\n"
          ]
        }
      ]
    },
    {
      "cell_type": "code",
      "source": [
        "# Check the type\n",
        "type(tech_stack)"
      ],
      "metadata": {
        "colab": {
          "base_uri": "https://localhost:8080/"
        },
        "id": "ywZi1BqvlMQ7",
        "outputId": "caaf47d7-7685-499c-a900-b20902bdfe11"
      },
      "execution_count": null,
      "outputs": [
        {
          "output_type": "execute_result",
          "data": {
            "text/plain": [
              "tuple"
            ]
          },
          "metadata": {},
          "execution_count": 76
        }
      ]
    },
    {
      "cell_type": "markdown",
      "source": [
        "Accessing Elements (Indexing)"
      ],
      "metadata": {
        "id": "MXAUnyVomRTF"
      }
    },
    {
      "cell_type": "code",
      "source": [
        "print(tech_stack[0])"
      ],
      "metadata": {
        "id": "dq8OHBjkmUTp",
        "colab": {
          "base_uri": "https://localhost:8080/"
        },
        "outputId": "cd226ffc-a014-4cfe-cd9d-66f7f17da352"
      },
      "execution_count": null,
      "outputs": [
        {
          "output_type": "stream",
          "name": "stdout",
          "text": [
            "Python\n"
          ]
        }
      ]
    },
    {
      "cell_type": "code",
      "source": [
        "tech_stack = [\"Python\",\"Java\",\"Javascript\",\"C#\",\"test\"]\n",
        "print (tech_stack[1:3])"
      ],
      "metadata": {
        "colab": {
          "base_uri": "https://localhost:8080/"
        },
        "id": "iR8AFG1x0osG",
        "outputId": "5e46687e-2a45-4226-e42a-ac761ff88bb2"
      },
      "execution_count": null,
      "outputs": [
        {
          "output_type": "stream",
          "name": "stdout",
          "text": [
            "['Java', 'Javascript']\n"
          ]
        }
      ]
    },
    {
      "cell_type": "markdown",
      "source": [
        " Slicing a List"
      ],
      "metadata": {
        "id": "wzyhx9JJmfMq"
      }
    },
    {
      "cell_type": "code",
      "source": [
        "print(tech_stack[1:])\n",
        "print(tech_stack[:2])"
      ],
      "metadata": {
        "id": "-2W1fjvumfpw",
        "colab": {
          "base_uri": "https://localhost:8080/"
        },
        "outputId": "7c2fe46d-d5be-4a4b-ede9-eb672afb6c2e"
      },
      "execution_count": null,
      "outputs": [
        {
          "output_type": "stream",
          "name": "stdout",
          "text": [
            "['Java', 'JavaScript', 'C#', 'Go', 'Ruby']\n",
            "['Python', 'Java']\n"
          ]
        }
      ]
    },
    {
      "cell_type": "code",
      "source": [
        "tech_stack"
      ],
      "metadata": {
        "colab": {
          "base_uri": "https://localhost:8080/"
        },
        "id": "uOCqBqpA0NR1",
        "outputId": "0de15627-1dab-493e-ed56-6c52ef3dda5e"
      },
      "execution_count": null,
      "outputs": [
        {
          "output_type": "execute_result",
          "data": {
            "text/plain": [
              "['Python', 'Java', 'JavaScript', 'C#', 'Go', 'Ruby']"
            ]
          },
          "metadata": {},
          "execution_count": 5
        }
      ]
    },
    {
      "cell_type": "markdown",
      "source": [
        "Modifying Elements"
      ],
      "metadata": {
        "id": "QUrEqbuXmkZf"
      }
    },
    {
      "cell_type": "code",
      "source": [
        "tech_stack[1] = \"TypeScript\"  # Replacing JavaScript with TypeScript\n",
        "print(tech_stack)"
      ],
      "metadata": {
        "id": "ct0H4JCvmkv4",
        "colab": {
          "base_uri": "https://localhost:8080/"
        },
        "outputId": "7775eb9c-40d1-405f-e38b-2090d4f8b756"
      },
      "execution_count": null,
      "outputs": [
        {
          "output_type": "stream",
          "name": "stdout",
          "text": [
            "['Python', 'TypeScript', 'JavaScript', 'C#', 'Go', 'Ruby']\n"
          ]
        }
      ]
    },
    {
      "cell_type": "markdown",
      "source": [
        "### Common List Methods"
      ],
      "metadata": {
        "id": "FVVDQx46mW2x"
      }
    },
    {
      "cell_type": "code",
      "source": [
        "devops_tools = [\"Docker\", \"Kubernetes\", \"Terraform\", \"Ansible\", \"Jenkins\", \"Prometheus\"]\n",
        "# Represents tools in a CI/CD and infrastructure management pipeline\n",
        "\n"
      ],
      "metadata": {
        "id": "D8XfIV8Rmwao"
      },
      "execution_count": null,
      "outputs": []
    },
    {
      "cell_type": "code",
      "source": [
        "devops_tools.append(\"Grafana\")"
      ],
      "metadata": {
        "id": "WwnpEQzrHX1e"
      },
      "execution_count": null,
      "outputs": []
    },
    {
      "cell_type": "code",
      "source": [
        "devops_tools"
      ],
      "metadata": {
        "colab": {
          "base_uri": "https://localhost:8080/"
        },
        "id": "Axvo0wclHiE-",
        "outputId": "f61c4651-cb39-4ffc-f38d-36e12a1f0304"
      },
      "execution_count": null,
      "outputs": [
        {
          "output_type": "execute_result",
          "data": {
            "text/plain": [
              "['Ansible',\n",
              " 'Docker',\n",
              " 'Grafana',\n",
              " 'Jenkins',\n",
              " 'Kubernetes',\n",
              " 'Prometheus',\n",
              " 'Terraform']"
            ]
          },
          "metadata": {},
          "execution_count": 94
        }
      ]
    },
    {
      "cell_type": "code",
      "source": [
        "devops_tools.sort()"
      ],
      "metadata": {
        "id": "t1TxKkghJQIc"
      },
      "execution_count": null,
      "outputs": []
    },
    {
      "cell_type": "code",
      "source": [
        "a = [10,20,30,40]\n",
        "b = [50,60,70]"
      ],
      "metadata": {
        "id": "qutnRMze0gyH"
      },
      "execution_count": null,
      "outputs": []
    },
    {
      "cell_type": "code",
      "source": [
        "c=a.append(b)"
      ],
      "metadata": {
        "id": "5pQ5jeQ91Et6"
      },
      "execution_count": null,
      "outputs": []
    },
    {
      "cell_type": "code",
      "source": [
        "print(c)"
      ],
      "metadata": {
        "colab": {
          "base_uri": "https://localhost:8080/"
        },
        "id": "M9WlCL2W1I5u",
        "outputId": "58dacb21-2677-4115-c0c3-a9455ea80935"
      },
      "execution_count": null,
      "outputs": [
        {
          "output_type": "stream",
          "name": "stdout",
          "text": [
            "None\n"
          ]
        }
      ]
    },
    {
      "cell_type": "code",
      "source": [
        "devops_tools = [\"Docker\", \"Kubernetes\", \"Terraform\", \"Ansible\", \"Jenkins\", \"Prometheus\"]\n",
        "# Represents tools in a CI/CD and infrastructure management pipeline\n",
        "\n",
        "devops_tools.append(\"Grafana\")  # Adds a monitoring tool at the end\n",
        "devops_tools.insert(1, \"Helm\")  # Adds a package manager at a specific position\n",
        "devops_tools.extend([\"Vault\", \"Consul\"])  # Adds multiple tools from another list\n",
        "devops_tools.remove(\"Docker\")  # Removes the first matching tool\n",
        "devops_tools.pop()  # Removes the last tool by default\n",
        "print(devops_tools.index(\"Ansible\"))  # Returns first index of a specific tool\n",
        "print(devops_tools.count(\"Terraform\"))  # Counts how many times a tool appears\n",
        "devops_tools.sort()  # Sorts tools alphabetically\n",
        "devops_tools.reverse()  # Reverses the order of the tools\n",
        "\n",
        "print(devops_tools)"
      ],
      "metadata": {
        "id": "cCcjGQNynde-",
        "colab": {
          "base_uri": "https://localhost:8080/"
        },
        "outputId": "403d2c30-4cd0-47f0-a091-04153c2acdec"
      },
      "execution_count": null,
      "outputs": [
        {
          "output_type": "stream",
          "name": "stdout",
          "text": [
            "3\n",
            "1\n",
            "['Vault', 'Terraform', 'Prometheus', 'Kubernetes', 'Jenkins', 'Helm', 'Grafana', 'Ansible']\n"
          ]
        }
      ]
    },
    {
      "cell_type": "markdown",
      "source": [
        "Membership Test (in, not in)"
      ],
      "metadata": {
        "id": "sonxFlXIoPN7"
      }
    },
    {
      "cell_type": "code",
      "source": [
        "print(\"Docker\" in devops_tools)       # True or False — check if Docker is part of the toolset\n",
        "print(\"Grafana\" not in devops_tools)  # True or False — check if Grafana is *not* in the toolset"
      ],
      "metadata": {
        "id": "f-Oh-jWsnfY8",
        "colab": {
          "base_uri": "https://localhost:8080/"
        },
        "outputId": "eeaba366-07e3-47db-c705-3a173322100e"
      },
      "execution_count": null,
      "outputs": [
        {
          "output_type": "stream",
          "name": "stdout",
          "text": [
            "False\n",
            "False\n"
          ]
        }
      ]
    },
    {
      "cell_type": "markdown",
      "source": [
        " List Concatenation"
      ],
      "metadata": {
        "id": "JO-ZTh5NoTYQ"
      }
    },
    {
      "cell_type": "code",
      "source": [
        "monitoring_tools = [\"Prometheus\", \"Grafana\"]\n",
        "automation_tools = [\"Ansible\", \"Terraform\"]\n",
        "all_tools = monitoring_tools + automation_tools\n",
        "\n",
        "print(all_tools)  # ['Prometheus', 'Grafana', 'Ansible', 'Terraform']"
      ],
      "metadata": {
        "id": "HY8AzHU8oUnJ",
        "colab": {
          "base_uri": "https://localhost:8080/"
        },
        "outputId": "82452311-bb02-48f4-d995-05a81200c168"
      },
      "execution_count": null,
      "outputs": [
        {
          "output_type": "stream",
          "name": "stdout",
          "text": [
            "['Prometheus', 'Grafana', 'Ansible', 'Terraform']\n"
          ]
        }
      ]
    },
    {
      "cell_type": "markdown",
      "source": [
        "Repetition"
      ],
      "metadata": {
        "id": "sX33hGxHoVjm"
      }
    },
    {
      "cell_type": "code",
      "source": [
        "job_status = [\"Pending\"] * 3\n",
        "print(job_status)  # ['Pending', 'Pending', 'Pending']"
      ],
      "metadata": {
        "id": "nv8YQYotoWkp",
        "colab": {
          "base_uri": "https://localhost:8080/"
        },
        "outputId": "ae2e678a-ff85-4809-8682-3009ecc97365"
      },
      "execution_count": null,
      "outputs": [
        {
          "output_type": "stream",
          "name": "stdout",
          "text": [
            "['Pending', 'Pending', 'Pending']\n"
          ]
        }
      ]
    },
    {
      "cell_type": "markdown",
      "source": [
        "## Tuples"
      ],
      "metadata": {
        "id": "nJUmzZ8wohhi"
      }
    },
    {
      "cell_type": "markdown",
      "source": [
        "Tuples Features:\n",
        "\n",
        "*   Ordered  -The items in a list maintain the order in which you add them\n",
        "*   Immutable  -Once created, you cannot change, add, or remove elements in a tuple\n",
        "*   Allows Duplicates -Tuples can have repeated values.\n",
        "*   Heterogeneous Data -Tuples can store different types of data: numbers, strings, even other lists\n",
        "*   Index-Based Access -You can access items using their index number (starts from 0)\n",
        "\n",
        "\n"
      ],
      "metadata": {
        "id": "AeF-Zse3oi-7"
      }
    },
    {
      "cell_type": "markdown",
      "source": [
        "###Creating tuple"
      ],
      "metadata": {
        "id": "StMXHQLcpKop"
      }
    },
    {
      "cell_type": "code",
      "source": [
        "hardware_inventory = (\"Laptop\", \"Router\", \"Monitor\", \"Printer\",  \"Laptop\")"
      ],
      "metadata": {
        "id": "hDBBcfydpN1q"
      },
      "execution_count": null,
      "outputs": []
    },
    {
      "cell_type": "markdown",
      "source": [
        "Indexing"
      ],
      "metadata": {
        "id": "k6yTFLtapPQm"
      }
    },
    {
      "cell_type": "code",
      "source": [
        "print(hardware_inventory[0])  # Output: Laptop\n",
        "print(hardware_inventory[3])  # Output: Printer"
      ],
      "metadata": {
        "id": "Oj_cG1uIpQfF",
        "colab": {
          "base_uri": "https://localhost:8080/"
        },
        "outputId": "fbd3bbfb-ab0f-40a0-a480-ad6177fb4fe8"
      },
      "execution_count": null,
      "outputs": [
        {
          "output_type": "stream",
          "name": "stdout",
          "text": [
            "Laptop\n",
            "Printer\n"
          ]
        }
      ]
    },
    {
      "cell_type": "markdown",
      "source": [
        "Slicing"
      ],
      "metadata": {
        "id": "8j1N-TCKpSEQ"
      }
    },
    {
      "cell_type": "code",
      "source": [
        "print(hardware_inventory[1:4])"
      ],
      "metadata": {
        "id": "e-UdQx9bpS7d",
        "colab": {
          "base_uri": "https://localhost:8080/"
        },
        "outputId": "3fcb4742-8295-40fd-de24-3badd9f3d785"
      },
      "execution_count": null,
      "outputs": [
        {
          "output_type": "stream",
          "name": "stdout",
          "text": [
            "('Router', 'Monitor', 'Printer')\n"
          ]
        }
      ]
    },
    {
      "cell_type": "code",
      "source": [
        "print(len(hardware_inventory))\n",
        "# Membership checks\n",
        "print(\"Monitor\" in hardware_inventory)    # Output: True\n",
        "print(\"Scanner\" not in hardware_inventory)"
      ],
      "metadata": {
        "id": "CvADd3dcpWib",
        "colab": {
          "base_uri": "https://localhost:8080/"
        },
        "outputId": "42b5dd96-29e9-4faa-c4c0-f51b923c4104"
      },
      "execution_count": null,
      "outputs": [
        {
          "output_type": "stream",
          "name": "stdout",
          "text": [
            "5\n",
            "True\n",
            "True\n"
          ]
        }
      ]
    },
    {
      "cell_type": "code",
      "source": [
        "playerList=[\"Sachin\",\"dhoni\",\"dravid\",\"gangully\"]\n",
        "\n",
        "playerList.reverse\n"
      ],
      "metadata": {
        "id": "jM_I6fek3YEN",
        "outputId": "f6e0f8d3-a663-4455-b8d4-b79477fd0cb9",
        "colab": {
          "base_uri": "https://localhost:8080/"
        }
      },
      "execution_count": null,
      "outputs": [
        {
          "output_type": "execute_result",
          "data": {
            "text/plain": [
              "<function list.reverse()>"
            ]
          },
          "metadata": {},
          "execution_count": 4
        }
      ]
    },
    {
      "cell_type": "code",
      "source": [
        "# Adding more hardware items\n",
        "new_hardware = (\"Scanner\", \"Projector\")\n",
        "full_inventory = hardware_inventory + new_hardware"
      ],
      "metadata": {
        "id": "Z-0sk5MiTwAc"
      },
      "execution_count": null,
      "outputs": []
    },
    {
      "cell_type": "code",
      "source": [
        "# Repeating devices (e.g., stock replenishment or bulk entry)\n",
        "repeated_hardware = (\"Switch\", \"Firewall\") * 2\n",
        "\n",
        "print(full_inventory)\n",
        "print(repeated_hardware)"
      ],
      "metadata": {
        "colab": {
          "base_uri": "https://localhost:8080/"
        },
        "id": "aIAz9RhoTys7",
        "outputId": "e83adc78-7d14-459f-f5a7-4e991bf2d84a"
      },
      "execution_count": null,
      "outputs": [
        {
          "output_type": "stream",
          "name": "stdout",
          "text": [
            "('Laptop', 'Router', 'Monitor', 'Printer', 'Laptop', 'Scanner', 'Projector')\n",
            "('Switch', 'Firewall', 'Switch', 'Firewall')\n"
          ]
        }
      ]
    },
    {
      "cell_type": "markdown",
      "source": [
        "Tuple Methods"
      ],
      "metadata": {
        "id": "8nPHcVH9phis"
      }
    },
    {
      "cell_type": "code",
      "source": [
        "print(hardware_inventory .count(\"Laptop\"))\n",
        "print(hardware_inventory .count(\"Router\"))\n",
        "print(hardware_inventory.index(\"Monitor\"))"
      ],
      "metadata": {
        "id": "GH2sGTCYpgXJ",
        "colab": {
          "base_uri": "https://localhost:8080/"
        },
        "outputId": "cf238fb9-8f6b-411b-8a79-a179777278f5"
      },
      "execution_count": null,
      "outputs": [
        {
          "output_type": "stream",
          "name": "stdout",
          "text": [
            "2\n",
            "1\n",
            "2\n"
          ]
        }
      ]
    },
    {
      "cell_type": "markdown",
      "source": [
        "## Set"
      ],
      "metadata": {
        "id": "FKexpiiPprJ2"
      }
    },
    {
      "cell_type": "markdown",
      "source": [
        "Set Features:\n",
        "\n",
        "\n",
        "\n",
        "*   Unordered - Items have no fixed position (no indexing)\n",
        "\n",
        "*   No Duplicates - \tAutomatically removes repeated values\n",
        "*   Mutable  - You can add/remove items\n",
        "\n",
        "\n",
        "*   Heterogeneous - Can store different data types\n",
        "\n",
        "\n",
        "*   Unindexed - You can't access items using index numbers\n",
        "\n",
        "\n",
        "\n",
        "\n"
      ],
      "metadata": {
        "id": "QhKrrYs5p2_v"
      }
    },
    {
      "cell_type": "code",
      "source": [
        "network_protocols = {\"HTTP\", \"FTP\", \"TCP\", \"UDP\", \"FTP\"}  # Duplicate 'FTP' will be removed\n",
        "print(network_protocols)  # Output will not have duplicates, order may vary"
      ],
      "metadata": {
        "colab": {
          "base_uri": "https://localhost:8080/"
        },
        "id": "48zpm_42qP-q",
        "outputId": "b7fd4cac-21dc-4034-b01f-83474125fc5d"
      },
      "execution_count": null,
      "outputs": [
        {
          "output_type": "stream",
          "name": "stdout",
          "text": [
            "{'HTTP', 'UDP', 'TCP', 'FTP'}\n"
          ]
        }
      ]
    },
    {
      "cell_type": "code",
      "source": [
        "network_protocols"
      ],
      "metadata": {
        "colab": {
          "base_uri": "https://localhost:8080/"
        },
        "id": "AOjbR2sZLFIx",
        "outputId": "ded591bb-2a23-405d-b3b1-79e1f1b0f72d"
      },
      "execution_count": null,
      "outputs": [
        {
          "output_type": "execute_result",
          "data": {
            "text/plain": [
              "{'DNS', 'FTP', 'HTTP', 'TCP', 'UDP'}"
            ]
          },
          "metadata": {},
          "execution_count": 99
        }
      ]
    },
    {
      "cell_type": "code",
      "source": [
        "network_protocols.add(\"DNS\")"
      ],
      "metadata": {
        "id": "gAOzrZpzLC3M"
      },
      "execution_count": null,
      "outputs": []
    },
    {
      "cell_type": "markdown",
      "source": [
        "Methods"
      ],
      "metadata": {
        "id": "WXvep7EIqWuo"
      }
    },
    {
      "cell_type": "code",
      "source": [
        "network_protocols.add(\"DNS\")\n",
        "network_protocols.remove(\"TCP\")\n",
        "network_protocols.pop()\n",
        "network_protocols.clear()"
      ],
      "metadata": {
        "id": "4FgMXDSQqaAD"
      },
      "execution_count": null,
      "outputs": []
    },
    {
      "cell_type": "markdown",
      "source": [
        "#### Operations"
      ],
      "metadata": {
        "id": "LN0jVsHtqlr0"
      }
    },
    {
      "cell_type": "markdown",
      "source": [
        "1.union() or |:\n",
        "\n",
        "Combines all unique items from both sets\n"
      ],
      "metadata": {
        "id": "MY9DUsSKqqcL"
      }
    },
    {
      "cell_type": "code",
      "source": [
        "server1_protocols = {\"HTTP\", \"HTTPS\", \"DNS\", \"SSH\"}\n",
        "server2_protocols = {\"HTTPS\", \"DNS\", \"FTP\", \"SMTP\"}"
      ],
      "metadata": {
        "id": "wbU7r-Eiqo2s"
      },
      "execution_count": null,
      "outputs": []
    },
    {
      "cell_type": "code",
      "source": [
        "result1 = server1_protocols | server2_protocols\n",
        "result2 = server1_protocols.union(server2_protocols )\n",
        "\n",
        "print(\"Union using | :\", result1)\n",
        "print(\"Union using union():\", result2)"
      ],
      "metadata": {
        "colab": {
          "base_uri": "https://localhost:8080/"
        },
        "id": "tqzrUqnxrEvH",
        "outputId": "11a039a6-83a8-4e89-d8af-069143f60cf4"
      },
      "execution_count": null,
      "outputs": [
        {
          "output_type": "stream",
          "name": "stdout",
          "text": [
            "Union using | : {'HTTP', 'SMTP', 'FTP', 'SSH', 'HTTPS', 'DNS'}\n",
            "Union using union(): {'HTTP', 'SMTP', 'FTP', 'SSH', 'HTTPS', 'DNS'}\n"
          ]
        }
      ]
    },
    {
      "cell_type": "markdown",
      "source": [
        "2.Intersection:\n",
        "\n",
        "Keeps only items common to both sets"
      ],
      "metadata": {
        "id": "xSomeb8WrP1E"
      }
    },
    {
      "cell_type": "code",
      "source": [
        "result1 = server1_protocols & server2_protocols\n",
        "result2 = server1_protocols.intersection(server2_protocols)\n",
        "\n",
        "print(\"Intersection using & :\", result1)\n",
        "print(\"Intersection using intersection():\", result2)"
      ],
      "metadata": {
        "id": "q8EbIcZ4rV1d",
        "colab": {
          "base_uri": "https://localhost:8080/"
        },
        "outputId": "14f9170a-1abb-4c38-8d85-80482c71f32e"
      },
      "execution_count": null,
      "outputs": [
        {
          "output_type": "stream",
          "name": "stdout",
          "text": [
            "Intersection using & : {'HTTPS', 'DNS'}\n",
            "Intersection using intersection(): {'HTTPS', 'DNS'}\n"
          ]
        }
      ]
    },
    {
      "cell_type": "markdown",
      "source": [
        "Difference:\n",
        "\n",
        "Items in set1 that are not in set2"
      ],
      "metadata": {
        "id": "foe2MFdFrbus"
      }
    },
    {
      "cell_type": "code",
      "source": [
        "server1_protocols = {\"HTTP\", \"HTTPS\", \"DNS\", \"SSH\"}\n",
        "server2_protocols = {\"HTTPS\", \"DNS\", \"FTP\", \"SMTP\"}"
      ],
      "metadata": {
        "id": "ksMhwg744tjD"
      },
      "execution_count": null,
      "outputs": []
    },
    {
      "cell_type": "code",
      "source": [
        "print(server1_protocols)\n",
        "print(server2_protocols)"
      ],
      "metadata": {
        "id": "GslxS8-V4v0f",
        "outputId": "eb255398-ed96-4d95-c731-ddaa208018d5",
        "colab": {
          "base_uri": "https://localhost:8080/"
        }
      },
      "execution_count": null,
      "outputs": [
        {
          "output_type": "stream",
          "name": "stdout",
          "text": [
            "{'HTTP', 'SSH', 'HTTPS', 'DNS'}\n",
            "{'FTP', 'SMTP', 'HTTPS', 'DNS'}\n"
          ]
        }
      ]
    },
    {
      "cell_type": "code",
      "source": [
        "result1 = server1_protocols - server2_protocols\n",
        "result2 = server1_protocols.difference(server2_protocols)\n",
        "\n",
        "print(\"Difference (set1 - set2) using - :\", result1)\n",
        "print(\"Difference (set1 - set2) using difference():\", result2)"
      ],
      "metadata": {
        "colab": {
          "base_uri": "https://localhost:8080/"
        },
        "id": "AlZZkFMrrgX9",
        "outputId": "2981fcec-037c-4552-eb1d-edafb66bc710"
      },
      "execution_count": null,
      "outputs": [
        {
          "output_type": "stream",
          "name": "stdout",
          "text": [
            "Difference (set1 - set2) using - : {'HTTP', 'SSH'}\n",
            "Difference (set1 - set2) using difference(): {'HTTP', 'SSH'}\n"
          ]
        }
      ]
    },
    {
      "cell_type": "markdown",
      "source": [
        " Symmetric Difference – Items not common to both sets"
      ],
      "metadata": {
        "id": "1Oh6CSk_rkjV"
      }
    },
    {
      "cell_type": "code",
      "source": [
        "result1 = server1_protocols ^ server2_protocols\n",
        "result2 = server1_protocols.symmetric_difference(server2_protocols)\n",
        "\n",
        "print(\"Symmetric Difference using ^ :\", result1)\n",
        "print(\"Symmetric Difference using symmetric_difference():\", result2)"
      ],
      "metadata": {
        "id": "0odHjQEDrl6I",
        "colab": {
          "base_uri": "https://localhost:8080/"
        },
        "outputId": "a57a5b93-5693-4db8-9a26-e32aad00d285"
      },
      "execution_count": null,
      "outputs": [
        {
          "output_type": "stream",
          "name": "stdout",
          "text": [
            "Symmetric Difference using ^ : {'HTTP', 'SMTP', 'FTP', 'SSH'}\n",
            "Symmetric Difference using symmetric_difference(): {'HTTP', 'SMTP', 'FTP', 'SSH'}\n"
          ]
        }
      ]
    },
    {
      "cell_type": "markdown",
      "source": [
        "## Dictionaries"
      ],
      "metadata": {
        "id": "6ZYSC7KYrpAF"
      }
    },
    {
      "cell_type": "markdown",
      "source": [
        "Features:\n",
        "\n",
        "\n",
        "*   Key-Value Pairing\t- Each item is stored as key: value\n",
        "\n",
        "*   Unordered  - \tItems had no guaranteed order\n",
        "*   Mutable - You can add, change, or remove items\n",
        "\n",
        "\n",
        "*   Keys are Unique - No duplicates allowed in keys\n",
        "\n",
        "*   Indexing by Key\t -You access values using the key, not position/index\n",
        "\n",
        "\n",
        "\n",
        "\n",
        "\n",
        "\n"
      ],
      "metadata": {
        "id": "ksc5HHSlrrnJ"
      }
    },
    {
      "cell_type": "markdown",
      "source": [],
      "metadata": {
        "id": "uWrLiRFB5oIL"
      }
    },
    {
      "cell_type": "code",
      "source": [
        "developer = {\n",
        "    \"name\": \"Suraj\",\n",
        "    \"age\": 28,\n",
        "    \"role\": \"Backend Developer\",\n",
        "    \"location\": \"Bangalore\",\n",
        "    \"employee_id\": 1024\n",
        "}"
      ],
      "metadata": {
        "id": "tATdzrKHsXuZ"
      },
      "execution_count": null,
      "outputs": []
    },
    {
      "cell_type": "code",
      "source": [
        "print(developer.keys())"
      ],
      "metadata": {
        "colab": {
          "base_uri": "https://localhost:8080/"
        },
        "id": "8nXY74M4NLzU",
        "outputId": "5135b010-78a7-4177-a479-cccb33c80ac2"
      },
      "execution_count": null,
      "outputs": [
        {
          "output_type": "stream",
          "name": "stdout",
          "text": [
            "dict_keys(['name', 'age', 'role', 'location', 'employee_id'])\n"
          ]
        }
      ]
    },
    {
      "cell_type": "code",
      "source": [
        "print(developer.get(\"name\"))\n",
        "print(developer.get(\"skills\"))\n",
        "print(developer.keys())               # Get all keys\n",
        "print(developer.values())             # Get all values\n",
        "print(developer.items())              # Get key-value pairs\n",
        "\n",
        "developer.update({\"age\": 29, \"skills\": [\"Python\", \"Django\"]})  # Add or modify entries\n",
        "\n",
        "developer.pop(\"role\")                 # Remove 'role' key\n",
        "developer.popitem()                   # Removes the last inserted item (e.g., 'skills')\n",
        "developer.clear()                     # Clears the dictionary\n"
      ],
      "metadata": {
        "id": "78wMIfJOseDa",
        "colab": {
          "base_uri": "https://localhost:8080/"
        },
        "outputId": "feabc0f1-4eb0-4d77-dccc-b98ccdb65729"
      },
      "execution_count": null,
      "outputs": [
        {
          "output_type": "stream",
          "name": "stdout",
          "text": [
            "Suraj\n",
            "None\n",
            "dict_keys(['name', 'age', 'role', 'location', 'employee_id'])\n",
            "dict_values(['Suraj', 28, 'Backend Developer', 'Bangalore', 1024])\n",
            "dict_items([('name', 'Suraj'), ('age', 28), ('role', 'Backend Developer'), ('location', 'Bangalore'), ('employee_id', 1024)])\n"
          ]
        }
      ]
    },
    {
      "cell_type": "markdown",
      "source": [
        "### Dictionaries Operations"
      ],
      "metadata": {
        "id": "cdBCvJ5BtNV9"
      }
    },
    {
      "cell_type": "markdown",
      "source": [
        "Accessing a value by key"
      ],
      "metadata": {
        "id": "CPOqiTvHtRba"
      }
    },
    {
      "cell_type": "code",
      "source": [
        "print(developer[\"name\"])"
      ],
      "metadata": {
        "id": "J4J02vBBtSdz",
        "colab": {
          "base_uri": "https://localhost:8080/"
        },
        "outputId": "3cb89ca3-6ef9-49d9-c544-e54b33fa325c"
      },
      "execution_count": null,
      "outputs": [
        {
          "output_type": "stream",
          "name": "stdout",
          "text": [
            "Suraj\n"
          ]
        }
      ]
    },
    {
      "cell_type": "markdown",
      "source": [
        "Adding a new key-value pair"
      ],
      "metadata": {
        "id": "idfi7gOftTuu"
      }
    },
    {
      "cell_type": "code",
      "source": [
        "developer[\"city\"] = \"Mumbai\""
      ],
      "metadata": {
        "id": "44XqIERdtJfS"
      },
      "execution_count": null,
      "outputs": []
    },
    {
      "cell_type": "markdown",
      "source": [
        "Modifying an existing value"
      ],
      "metadata": {
        "id": "v5mi8vf-tc5n"
      }
    },
    {
      "cell_type": "code",
      "source": [
        "developer[\"age\"] = 22"
      ],
      "metadata": {
        "id": "0fJv4QwUtaBn"
      },
      "execution_count": null,
      "outputs": []
    },
    {
      "cell_type": "markdown",
      "source": [
        "Deleting a key-value pair"
      ],
      "metadata": {
        "id": "mrUvdBdUtfvO"
      }
    },
    {
      "cell_type": "code",
      "source": [
        "del developer[\"city\"]"
      ],
      "metadata": {
        "id": "FvByKVBntgsy"
      },
      "execution_count": null,
      "outputs": []
    },
    {
      "cell_type": "markdown",
      "source": [
        "## String"
      ],
      "metadata": {
        "id": "TS4KD04JBRxI"
      }
    },
    {
      "cell_type": "markdown",
      "source": [
        "Features:\n",
        "\n",
        "*   Immutable: Once created, a string cannot be changed\n",
        "\n",
        "*   Sequence Type: Strings are sequences of characters and support indexing/slicing\n",
        "*   Enclosed in quotes: Use 'single', \"double\", or '''triple''' quotes\n",
        "\n",
        "\n",
        "*   Iterable: You can loop through characters in a string."
      ],
      "metadata": {
        "id": "NZEXxYvSBZJv"
      }
    },
    {
      "cell_type": "code",
      "source": [
        "log_message = \"  Deployment completed successfully!  \""
      ],
      "metadata": {
        "id": "eGyJiBrHB1ec"
      },
      "execution_count": null,
      "outputs": []
    },
    {
      "cell_type": "code",
      "source": [
        "log_message.strip()"
      ],
      "metadata": {
        "colab": {
          "base_uri": "https://localhost:8080/",
          "height": 36
        },
        "id": "asykDVm3OrnT",
        "outputId": "37cb7027-c796-4867-80ca-fa4c467fbea6"
      },
      "execution_count": null,
      "outputs": [
        {
          "output_type": "execute_result",
          "data": {
            "text/plain": [
              "'Deployment completed successfully!'"
            ],
            "application/vnd.google.colaboratory.intrinsic+json": {
              "type": "string"
            }
          },
          "metadata": {},
          "execution_count": 32
        }
      ]
    },
    {
      "cell_type": "code",
      "source": [
        "print(len(log_message))"
      ],
      "metadata": {
        "id": "Mw5briAZ7kiJ",
        "outputId": "0d98ae7a-76cb-402a-efa9-bf6feed944b9",
        "colab": {
          "base_uri": "https://localhost:8080/"
        }
      },
      "execution_count": null,
      "outputs": [
        {
          "output_type": "stream",
          "name": "stdout",
          "text": [
            "38\n"
          ]
        }
      ]
    },
    {
      "cell_type": "code",
      "source": [
        "print(log_message.strip().split('f'))"
      ],
      "metadata": {
        "colab": {
          "base_uri": "https://localhost:8080/"
        },
        "id": "aoezlGvPOvUX",
        "outputId": "42b7689a-bb42-44cf-da15-69f41bbf51b8"
      },
      "execution_count": null,
      "outputs": [
        {
          "output_type": "stream",
          "name": "stdout",
          "text": [
            "['Deployment completed success', 'ully!']\n"
          ]
        }
      ]
    },
    {
      "cell_type": "code",
      "source": [
        "# String operations relevant to log processing\n",
        "print(log_message.strip())                         # 'Deployment completed successfully!'\n",
        "print(log_message.lower())                         # '  deployment completed successfully!  '\n",
        "print(log_message.upper())                         # '  DEPLOYMENT COMPLETED SUCCESSFULLY!  '\n",
        "print(log_message.replace(\"completed\", \"failed\"))  # '  Deployment failed successfully!  '\n",
        "print(log_message.startswith(\"  Dep\"))             # True\n",
        "print(log_message.endswith(\"!\"))                   # False (trailing space)\n",
        "print(log_message.find(\"completed\"))               # 13 (starting index of 'completed')\n",
        "print(log_message.strip().split())                 # ['Deployment', 'completed', 'successfully!'] # Splits into words → ['Python', 'is', 'Amazing!']"
      ],
      "metadata": {
        "id": "pM-nrq32B3XK",
        "colab": {
          "base_uri": "https://localhost:8080/"
        },
        "outputId": "1afba4f3-edfb-4f37-9c59-1dc7cebca79b"
      },
      "execution_count": null,
      "outputs": [
        {
          "output_type": "stream",
          "name": "stdout",
          "text": [
            "Deployment completed successfully!\n",
            "  deployment completed successfully!  \n",
            "  DEPLOYMENT COMPLETED SUCCESSFULLY!  \n",
            "  Deployment failed successfully!  \n",
            "True\n",
            "False\n",
            "13\n",
            "['Deployment', 'completed', 'successfully!']\n"
          ]
        }
      ]
    },
    {
      "cell_type": "markdown",
      "source": [
        "join()"
      ],
      "metadata": {
        "id": "5imVI-l3CSvC"
      }
    },
    {
      "cell_type": "markdown",
      "source": [
        "1. Joining a list with spaces"
      ],
      "metadata": {
        "id": "RReSFDd-CcL2"
      }
    },
    {
      "cell_type": "code",
      "source": [
        "log_parts = ['Deployment', 'was', 'successful']\n",
        "log_entry = ' '.join(log_parts)\n",
        "print(log_entry)  # Output: Deployment was successful"
      ],
      "metadata": {
        "id": "LV94dk5-CT9f",
        "colab": {
          "base_uri": "https://localhost:8080/"
        },
        "outputId": "bb0d6aa4-93e9-4327-ef8d-fdc3c54c5d93"
      },
      "execution_count": null,
      "outputs": [
        {
          "output_type": "stream",
          "name": "stdout",
          "text": [
            "Deployment was successful\n"
          ]
        }
      ]
    },
    {
      "cell_type": "markdown",
      "source": [
        "Joining with commas"
      ],
      "metadata": {
        "id": "OAzWCpaACbD9"
      }
    },
    {
      "cell_type": "code",
      "source": [
        "installed_packages = ['nginx', 'docker', 'nodejs']\n",
        "package_list = ','.join(installed_packages)\n",
        "print(package_list)  # Output: nginx,docker,nodejs"
      ],
      "metadata": {
        "colab": {
          "base_uri": "https://localhost:8080/"
        },
        "id": "NMTjRz2OCVai",
        "outputId": "812611bd-8cd4-4128-d9dd-0329ff4254b5"
      },
      "execution_count": null,
      "outputs": [
        {
          "output_type": "stream",
          "name": "stdout",
          "text": [
            "nginx,docker,nodejs\n"
          ]
        }
      ]
    },
    {
      "cell_type": "markdown",
      "source": [
        "Joining with no separator\n",
        "\n"
      ],
      "metadata": {
        "id": "jO4XDhlaCabc"
      }
    },
    {
      "cell_type": "code",
      "source": [
        "tool_name_chars = ['D', 'o', 'c', 'k', 'e', 'r']\n",
        "tool_name = ''.join(tool_name_chars)\n",
        "print(tool_name)  # Output: Docker"
      ],
      "metadata": {
        "id": "LjHpVo_zCWpL",
        "colab": {
          "base_uri": "https://localhost:8080/"
        },
        "outputId": "00fac981-25e1-49d2-f12f-5c6014877191"
      },
      "execution_count": null,
      "outputs": [
        {
          "output_type": "stream",
          "name": "stdout",
          "text": [
            "Docker\n"
          ]
        }
      ]
    },
    {
      "cell_type": "markdown",
      "source": [
        "4. Joining with newline characters"
      ],
      "metadata": {
        "id": "fWJVBh53CnbB"
      }
    },
    {
      "cell_type": "code",
      "source": [
        "log_entries = ['Build started', 'Running tests', 'Deployment completed']\n",
        "formatted_log = '\\n'.join(log_entries)\n",
        "print(formatted_log)"
      ],
      "metadata": {
        "id": "UeuFkWtJCpKF",
        "colab": {
          "base_uri": "https://localhost:8080/"
        },
        "outputId": "ba62a742-e669-4e92-86c2-b9fd980536f4"
      },
      "execution_count": null,
      "outputs": [
        {
          "output_type": "stream",
          "name": "stdout",
          "text": [
            "Build started\n",
            "Running tests\n",
            "Deployment completed\n"
          ]
        }
      ]
    },
    {
      "cell_type": "markdown",
      "source": [
        "https://docs.python.org/3/tutorial/datastructures.html#the-del-statement"
      ],
      "metadata": {
        "id": "wWdq4MVOEEjN"
      }
    }
  ]
}