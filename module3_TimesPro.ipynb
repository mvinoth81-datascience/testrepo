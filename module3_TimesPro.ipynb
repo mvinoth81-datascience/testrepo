{
  "nbformat": 4,
  "nbformat_minor": 0,
  "metadata": {
    "colab": {
      "provenance": []
    },
    "kernelspec": {
      "name": "python3",
      "display_name": "Python 3"
    },
    "language_info": {
      "name": "python"
    }
  },
  "cells": [
    {
      "cell_type": "markdown",
      "source": [
        "# **Control Structures**\n",
        "\n",
        "Control structures in Python are used to control the flow of execution in a program. They determine the order in which statements are executed based on conditions and loops. Control structures help in decision-making, looping, and function execution."
      ],
      "metadata": {
        "id": "FX-ZfsqBY-Hj"
      }
    },
    {
      "cell_type": "markdown",
      "source": [
        "\n",
        "1.<u>Conditional Statement</u>\n",
        "   \n",
        "\n",
        "   *  if Statement\n",
        "   *  if-else Statement\n",
        "   *  if-elif-else Statement\n",
        "   *  Nested if Statements\n"
      ],
      "metadata": {
        "id": "G_6hBF3npD0Z"
      }
    },
    {
      "cell_type": "markdown",
      "source": [
        "## Conditional Statement:\n",
        "\n",
        "  A conditional statement is a programming construct that allows a program to make decisions based on certain conditions. It helps execute different code blocks depending on whether a condition is True or False."
      ],
      "metadata": {
        "id": "PiP0TSIRpH4o"
      }
    },
    {
      "cell_type": "markdown",
      "source": [
        "The keywords are:\n",
        "\n",
        "if → check a condition\n",
        "\n",
        "elif → check another condition (optional, can be multiple)\n",
        "\n",
        "else → fallback when nothing else is true"
      ],
      "metadata": {
        "id": "CKNCD77zqqTw"
      }
    },
    {
      "cell_type": "markdown",
      "source": [
        "**SYNTAX:**\n",
        "\n"
      ],
      "metadata": {
        "id": "t7ZZ5qV8qxZo"
      }
    },
    {
      "cell_type": "markdown",
      "source": [
        "```\n",
        "if [condition-1]:\n",
        "    action-1\n",
        "elif [condition-2]:\n",
        "    action-2\n",
        ".\n",
        ".\n",
        ".\n",
        "elif [condition n - 1]:\n",
        "    action n - 1\n",
        "else:\n",
        "    action-n\n",
        "```"
      ],
      "metadata": {
        "id": "hTjMm64nb83Q"
      }
    },
    {
      "cell_type": "markdown",
      "source": [
        "**Different Forms of If-Else in Python:**\n",
        "\n",
        "a) if Statement – Executes a block of code if the condition is True\n",
        "\n",
        "b) if-else Statement – Executes one block if the condition is True and another block if False\n",
        "\n",
        "c) if-elif-else Statement – Checks multiple conditions sequentially\n",
        "\n",
        "d) Nested if Statements – if statements inside another if"
      ],
      "metadata": {
        "id": "zyKRTMTtsKE3"
      }
    },
    {
      "cell_type": "markdown",
      "source": [
        "### if statement"
      ],
      "metadata": {
        "id": "U3ID7Wm6sx9w"
      }
    },
    {
      "cell_type": "markdown",
      "source": [
        "**Scenario : Checking Outstanding Payments**\n",
        "\n",
        "The given code is used to check whether a company has outstanding payments and raise an audit alert if the outstanding amount is greater than zero."
      ],
      "metadata": {
        "id": "V-ziOyQts75z"
      }
    },
    {
      "cell_type": "code",
      "execution_count": null,
      "metadata": {
        "id": "7Ej7MCa_YhE3"
      },
      "outputs": [],
      "source": [
        "outstanding_amount = 0  # Amount in dollars\n",
        "\n",
        "if outstanding_amount > 0:\n",
        "  print(\"Audit Alert: The company has outstanding payments that need to be cleared.\")\n",
        "  print(\"Check\")"
      ]
    },
    {
      "cell_type": "markdown",
      "source": [
        "### if-else Statement  \n",
        "Executes one block if the condition is True and another block if False"
      ],
      "metadata": {
        "id": "9Dujxwn8tZQf"
      }
    },
    {
      "cell_type": "markdown",
      "source": [
        "**Scenario : Checking Tax Filing Status**\n",
        "\n",
        "This code is used to check whether a company has filed its tax returns and issue an audit status message accordingly. If the tax is not filed, it generates an alert, warning about potential penalties."
      ],
      "metadata": {
        "id": "0d4_CZWQttge"
      }
    },
    {
      "cell_type": "code",
      "source": [
        "# Checking tax filing status\n",
        "tax_filed = True  # Change to True if the tax is filed\n",
        "if tax_filed:\n",
        "    print(\"Audit Status: The company has filed its tax returns on time.\")\n",
        "else:\n",
        "    print(\"Audit Alert: The company has NOT filed its tax returns! Penalties may apply.\")\n"
      ],
      "metadata": {
        "colab": {
          "base_uri": "https://localhost:8080/"
        },
        "id": "TjGloKyGtgxW",
        "outputId": "15d19dbe-845c-40e1-88c6-aa770679ea03"
      },
      "execution_count": null,
      "outputs": [
        {
          "output_type": "stream",
          "name": "stdout",
          "text": [
            "Audit Status: The company has filed its tax returns on time.\n"
          ]
        }
      ]
    },
    {
      "cell_type": "markdown",
      "source": [
        "### if-elif-else Statement – Checks multiple conditions sequentially"
      ],
      "metadata": {
        "id": "rIGK2TCMt13f"
      }
    },
    {
      "cell_type": "markdown",
      "source": [
        "**Scenario : Loan Eligibility**\n",
        "\n",
        "A bank needs to decide what type of loan a customer qualifies for based on their monthly income."
      ],
      "metadata": {
        "id": "P5sPiQCtupK7"
      }
    },
    {
      "cell_type": "code",
      "source": [
        "income = int(input(\"Enter your monthly income: \"))\n",
        "\n",
        "if income >= 100000:\n",
        "    print(\"Eligible for Premium Loan\")\n",
        "\n",
        "if income >= 50000:\n",
        "    print(\"Eligible for Standard Loan\")\n",
        "\n",
        "if income >= 20000:\n",
        "    print(\"Eligible for Basic Loan\")\n"
      ],
      "metadata": {
        "colab": {
          "base_uri": "https://localhost:8080/"
        },
        "id": "ArGT06_hufJe",
        "outputId": "7187550c-0db1-47f8-8e56-9b9318fcec61"
      },
      "execution_count": null,
      "outputs": [
        {
          "output_type": "stream",
          "name": "stdout",
          "text": [
            "Enter your monthly income: 70000\n",
            "Eligible for Standard Loan\n",
            "Eligible for Basic Loan\n"
          ]
        }
      ]
    },
    {
      "cell_type": "markdown",
      "source": [
        "### Nested if Statements\n",
        "\n",
        "\n",
        "\n",
        "An e-commerce site gives discounts only if the customer is a member — and within that, the discount depends on their purchase amount."
      ],
      "metadata": {
        "id": "umI4cm7gu3Cl"
      }
    },
    {
      "cell_type": "code",
      "source": [
        "member = input(\"Are you a member? (yes/no): \")\n",
        "amount = int(input(\"Enter purchase amount: \"))\n",
        "\n",
        "if member == \"yes\":\n",
        "    if amount >= 5000:\n",
        "        print(\"You get a 20% discount\")\n",
        "    else:\n",
        "        print(\"You get a 10% discount\")\n",
        "else:\n",
        "    print(\"No discount. Please sign up for membership!\")\n"
      ],
      "metadata": {
        "colab": {
          "base_uri": "https://localhost:8080/"
        },
        "id": "-MSm80SOu6kl",
        "outputId": "175f54e5-57c8-4199-9c9b-509b971efa21"
      },
      "execution_count": null,
      "outputs": [
        {
          "output_type": "stream",
          "name": "stdout",
          "text": [
            "Are you a member? (yes/no): yes\n",
            "Enter purchase amount: 10000\n",
            "You get a 20% discount 🎉\n"
          ]
        }
      ]
    },
    {
      "cell_type": "markdown",
      "source": [
        "**Practice Question 1:**\n",
        "\n",
        "A telecom company charges customers based on their monthly data usage.\n",
        "\n",
        "Write a Python program that:\n",
        "\n",
        "Asks the user to enter their data usage in GB.\n",
        "\n",
        "  If usage is 10 GB or less, print \"Basic Plan\".\n",
        "\n",
        "  If usage is between 11 and 50 GB, print \"Standard Plan\".\n",
        "\n",
        "  If usage is more than 50 GB, print \"Premium Plan\"."
      ],
      "metadata": {
        "id": "ybbklH0nwg7k"
      }
    },
    {
      "cell_type": "markdown",
      "source": [
        "**Practice Question 2:**\n",
        "\n",
        "A university provides scholarships to students based on both academic performance and attendance.\n",
        "\n",
        "Write a Python program that:\n",
        "\n",
        "Asks the student for their exam score (0–100).\n",
        "\n",
        "Asks for their attendance percentage.\n",
        "\n",
        "If the score is 75 or above, then check attendance:\n",
        "\n",
        "If attendance is 80% or more, print \"Eligible for scholarship\".\n",
        "\n",
        "Otherwise, print \"Not eligible – Attendance too low\".\n",
        "\n",
        "If the score is less than 75, print \"Not eligible – Score too low\"."
      ],
      "metadata": {
        "id": "hvKSE8jqwkqm"
      }
    },
    {
      "cell_type": "markdown",
      "source": [
        "2.<u>Loops in Python</u>\n",
        "\n",
        "  *   For Loop\n",
        "  *   While Loop"
      ],
      "metadata": {
        "id": "5G074WX4aysp"
      }
    },
    {
      "cell_type": "markdown",
      "source": [
        "## Loops in Python\n",
        "\n",
        "A loop in Python is a programming construct that allows you to repeatedly execute a block of code as long as a certain condition is met, essentially performing repetitive tasks without writing the same code multiple times, making it a crucial tool for efficient coding in Python"
      ],
      "metadata": {
        "id": "y57DV8bixbP8"
      }
    },
    {
      "cell_type": "markdown",
      "source": [
        "### For Loop\n",
        "\n",
        "A for loop in Python is used to iterate over a sequence (list, tuple, dictionary, string, or range) and execute a block of code for each item in the sequence."
      ],
      "metadata": {
        "id": "QVqddBIbxy08"
      }
    },
    {
      "cell_type": "markdown",
      "source": [
        "**Syntax**\n",
        "\n",
        "\n",
        "\n",
        "```\n",
        "for item in iterable:\n",
        "     Code block to execute\n",
        "```\n"
      ],
      "metadata": {
        "id": "gmmxRFmkx4AU"
      }
    },
    {
      "cell_type": "markdown",
      "source": [
        "\n",
        "\n",
        "*   \"for\" → This is used to iterate over an iterable (like a list, tuple, dictionary, or string) and execute a block of code for each item in that iterable.\n",
        "\n",
        "\n",
        "*   item → Represents each element in the iterable (changes with every iteration).\n",
        "*   iterable → A collection of elements (list, tuple, dictionary, string, etc.)\n",
        "\n",
        "\n",
        "*   Indentation → we use indentation (spaces at the beginning of a line) to define a block of code,\n",
        "\n",
        "\n",
        "\n",
        "\n",
        "*   Code block to execute → The indented code runs for each item in the iterable.\n",
        "\n",
        "\n",
        "\n"
      ],
      "metadata": {
        "id": "Pu3OL83hyCk8"
      }
    },
    {
      "cell_type": "markdown",
      "source": [
        "#### Iterating over List"
      ],
      "metadata": {
        "id": "b1R3LKKwy3pE"
      }
    },
    {
      "cell_type": "markdown",
      "source": [
        "Displaying All Transaction Amounts using for loop"
      ],
      "metadata": {
        "id": "oLlSOSE8y0qN"
      }
    },
    {
      "cell_type": "code",
      "source": [
        "# List of transaction amounts\n",
        "transactions = [200, 500, 1200, 450, 3000]\n",
        "\n",
        "# Loop through transactions and print each one\n",
        "for i in transactions:\n",
        "    print(\"Transaction amount: $\",i)"
      ],
      "metadata": {
        "colab": {
          "base_uri": "https://localhost:8080/"
        },
        "id": "g6sWjntIw9vs",
        "outputId": "ce2b5b57-5673-47fa-87a3-2b3d6973e434"
      },
      "execution_count": null,
      "outputs": [
        {
          "output_type": "stream",
          "name": "stdout",
          "text": [
            "Transaction amount: $ 200\n",
            "Transaction amount: $ 500\n",
            "Transaction amount: $ 1200\n",
            "Transaction amount: $ 450\n",
            "Transaction amount: $ 3000\n"
          ]
        }
      ]
    },
    {
      "cell_type": "markdown",
      "source": [
        "**Using Enumerate in a for loop:**\n",
        "\n",
        "enumerate() is a built-in Python function.\n",
        "\n",
        "It lets you loop through a sequence (like a list, tuple, or string) and automatically gives you both:\n",
        "\n",
        "The index (position number)\n",
        "\n",
        "The value (the item itself)\n",
        "\n",
        "👉 In simple words: “It’s like numbering items in a list while looping through them.”"
      ],
      "metadata": {
        "id": "Y8zAr--U3VHT"
      }
    },
    {
      "cell_type": "code",
      "source": [
        "\n",
        "for i, t in enumerate(transactions):\n",
        "    print(\"Transaction ID:\", i, \"Amount:\", t)"
      ],
      "metadata": {
        "colab": {
          "base_uri": "https://localhost:8080/"
        },
        "id": "fbNfJxVO3BhX",
        "outputId": "b2e0a1c1-77f0-4327-c08d-32b7b7b7a833"
      },
      "execution_count": null,
      "outputs": [
        {
          "output_type": "stream",
          "name": "stdout",
          "text": [
            "Transaction ID: 0 Amount: 200\n",
            "Transaction ID: 1 Amount: 500\n",
            "Transaction ID: 2 Amount: 1200\n",
            "Transaction ID: 3 Amount: 450\n",
            "Transaction ID: 4 Amount: 3000\n"
          ]
        }
      ]
    },
    {
      "cell_type": "markdown",
      "source": [
        "#### Iteration using range function\n",
        "\n",
        "Scenario: A company assigns employee IDs automatically starting from 501."
      ],
      "metadata": {
        "id": "jfDimv1e4iFL"
      }
    },
    {
      "cell_type": "code",
      "source": [
        "for i in range(501, 506):\n",
        "    print(\"Employee ID:\", i)\n"
      ],
      "metadata": {
        "colab": {
          "base_uri": "https://localhost:8080/"
        },
        "id": "4LKr_2ma4u53",
        "outputId": "03741954-fb0a-414d-dce4-f02e4fe52600"
      },
      "execution_count": null,
      "outputs": [
        {
          "output_type": "stream",
          "name": "stdout",
          "text": [
            "Employee ID: 501\n",
            "Employee ID: 502\n",
            "Employee ID: 503\n",
            "Employee ID: 504\n",
            "Employee ID: 505\n"
          ]
        }
      ]
    },
    {
      "cell_type": "markdown",
      "source": [
        "**Practice Question 3:**\n",
        "\n",
        "A company wants to audit its financial transactions to detect potential fraud. The finance team has set a fraud threshold of $10,000.\n",
        "\n",
        "Write a Python program that:\n",
        "\n",
        "Stores a list of transaction amounts.\n",
        "\n",
        "Iterates through the list using a loop.\n",
        "\n",
        "If a transaction exceeds $10,000, print an alert message saying \"ALERT: Fraud detected!\" along with the transaction amount.\n",
        "\n",
        "Otherwise, print \"Verified: Normal transaction\" along with the amount."
      ],
      "metadata": {
        "id": "WTniSL-j5BlO"
      }
    },
    {
      "cell_type": "markdown",
      "source": [
        "### While loop\n",
        "\n",
        "\n",
        "A 'while' loop is a crucial control structure in programming. It allows the execution of a block of code repeatedly while a specified condition is true. A 'while' loop is ideal for situations where the number of iterations is not predetermined and depends on some dynamic condition."
      ],
      "metadata": {
        "id": "_V5xsppP5miP"
      }
    },
    {
      "cell_type": "markdown",
      "source": [
        "Syntax of While loop:\n",
        "\n",
        "\n",
        "```\n",
        "  while expression:\n",
        "   statement(s)\n",
        "```"
      ],
      "metadata": {
        "id": "qv5bOOus5rpT"
      }
    },
    {
      "cell_type": "markdown",
      "source": [
        "Components of the while Loop:\n",
        "\n",
        "*   While      - \tKeyword that starts the loop\n",
        "\n",
        "*   Expression -  A condition that is checked before each iteration. If True, the loop runs; if False, the loop stops\n",
        "*   Statements   -The block of code executed repeatedly as long as the condition remains True\n"
      ],
      "metadata": {
        "id": "PT2EraBc5xGz"
      }
    },
    {
      "cell_type": "markdown",
      "source": [
        "Scenario: Checking Pending Transactions\n",
        "\n",
        "The given Python code helps in the auditing process by ensuring that each pending transaction is reviewed one by one\n",
        "\n"
      ],
      "metadata": {
        "id": "Ng4TeIWO6Vqb"
      }
    },
    {
      "cell_type": "code",
      "source": [
        "pending_transactions = 5  # Number of transactions left to audit\n",
        "\n",
        "while pending_transactions > 0:\n",
        "    print(f\"Auditing transaction... {pending_transactions} pending\")\n",
        "    pending_transactions -= 1  # Reduce count after each audit\n",
        "\n",
        "print(\"\\nAll transactions have been audited.\")"
      ],
      "metadata": {
        "colab": {
          "base_uri": "https://localhost:8080/"
        },
        "id": "558CQOqQ5mSc",
        "outputId": "ac285a58-eb79-4936-e643-6755497ee6ec"
      },
      "execution_count": null,
      "outputs": [
        {
          "output_type": "stream",
          "name": "stdout",
          "text": [
            "Auditing transaction... 5 pending\n",
            "Auditing transaction... 4 pending\n",
            "Auditing transaction... 3 pending\n",
            "Auditing transaction... 2 pending\n",
            "Auditing transaction... 1 pending\n",
            "\n",
            "All transactions have been audited.\n"
          ]
        }
      ]
    },
    {
      "cell_type": "markdown",
      "source": [
        "Scenario: A bank ATM allows a customer 3 attempts to enter the correct PIN."
      ],
      "metadata": {
        "id": "gheAOZki6EVq"
      }
    },
    {
      "cell_type": "code",
      "source": [
        "correct_pin = \"1234\"\n",
        "attempts = 0\n",
        "max_attempts = 3\n",
        "\n",
        "while attempts < max_attempts:\n",
        "    pin = input(\"Enter your PIN: \")\n",
        "\n",
        "    if pin == correct_pin:\n",
        "        print(\"Access Granted ✅\")\n",
        "        break\n",
        "    else:\n",
        "        print(\"Incorrect PIN ❌\")\n",
        "        attempts += 1\n",
        "\n",
        "if attempts == max_attempts:\n",
        "    print(\"Account Locked. Please contact the bank.\")\n"
      ],
      "metadata": {
        "colab": {
          "base_uri": "https://localhost:8080/"
        },
        "id": "Ior5TKov5ZD6",
        "outputId": "f6441149-a00e-4855-e379-2190e1eb395d"
      },
      "execution_count": null,
      "outputs": [
        {
          "output_type": "stream",
          "name": "stdout",
          "text": [
            "Enter your PIN: 5555\n",
            "Incorrect PIN ❌\n",
            "Enter your PIN: 4444\n",
            "Incorrect PIN ❌\n",
            "Enter your PIN: 7777\n",
            "Incorrect PIN ❌\n",
            "Account Locked. Please contact the bank.\n"
          ]
        }
      ]
    },
    {
      "cell_type": "markdown",
      "source": [
        "**Practice Question 4:**\n",
        "\n",
        "A customer service chatbot keeps asking the user for input. The conversation should continue until the user types \"exit\".\n",
        "\n",
        "👉 Write a Python program that:\n",
        "\n",
        "Uses a while loop to repeatedly ask the user for input.\n",
        "\n",
        "If the user types anything other than \"exit\", print \"You said: <message>\".\n",
        "\n",
        "If the user types \"exit\", print \"Goodbye!\" and stop the loop."
      ],
      "metadata": {
        "id": "upVSth8a6605"
      }
    },
    {
      "cell_type": "markdown",
      "source": [
        "3.<u>Loop Control Statements</u>\n",
        "\n",
        " * Break\n",
        " * Continue\n",
        " * Pass"
      ],
      "metadata": {
        "id": "n3ymR3Xha4gX"
      }
    },
    {
      "cell_type": "markdown",
      "source": [
        "## Loop Control Statements\n",
        "\n",
        "To control the flow of the loop or to alter the execution based on a few specified conditions we use the loop control statements.The control statements are used to alter the execution based on the conditions.\n",
        "\n",
        "*   Break\n",
        "*   Continue\n",
        "*   Pass\n"
      ],
      "metadata": {
        "id": "hpHQF1a_7bUa"
      }
    },
    {
      "cell_type": "markdown",
      "source": [
        "**Break Statement**\n",
        "\n",
        "Exits the loop completely, even if the loop condition is still true.\n",
        "It is commonly used in for and while loops to stop execution early."
      ],
      "metadata": {
        "id": "oXHKKgWb71ay"
      }
    },
    {
      "cell_type": "code",
      "source": [
        "transactions = [2000, 5000, 15000, 3000]\n",
        "\n",
        "for t in transactions:\n",
        "    if t > 10000:\n",
        "        print(\"ALERT 🚨 Fraud transaction detected:\", t)\n",
        "        break   # stop checking further\n",
        "    print(\"Verified:\", t)\n"
      ],
      "metadata": {
        "id": "wRPyJDyY75Di"
      },
      "execution_count": null,
      "outputs": []
    },
    {
      "cell_type": "markdown",
      "source": [
        "**Continue**\n",
        "\n",
        "Skips the current iteration and goes to the next one"
      ],
      "metadata": {
        "id": "Y-yWB3q974sR"
      }
    },
    {
      "cell_type": "code",
      "source": [
        "employees = [\"Rahul\", \"\", \"Priya\", \"Amit\"]\n",
        "\n",
        "for emp in employees:\n",
        "    if emp == \"\":\n",
        "        continue   # skip blank names\n",
        "    print(\"Processing employee:\", emp)\n"
      ],
      "metadata": {
        "colab": {
          "base_uri": "https://localhost:8080/"
        },
        "id": "cBWnT8_e8f8p",
        "outputId": "c4982dd7-a590-41f2-c5a9-32f5c0343a44"
      },
      "execution_count": null,
      "outputs": [
        {
          "output_type": "stream",
          "name": "stdout",
          "text": [
            "Processing employee: Rahul\n",
            "Processing employee: Priya\n",
            "Processing employee: Amit\n"
          ]
        }
      ]
    },
    {
      "cell_type": "markdown",
      "source": [
        "**Pass**\n",
        "\n",
        " Does nothing — acts as a placeholder when you need a statement but don’t want any action."
      ],
      "metadata": {
        "id": "OZR1MfRJ8oz8"
      }
    },
    {
      "cell_type": "code",
      "source": [
        "#Skipping Low-Value Transactions (for Loop)\n",
        "#The system skips transactions below ₹50,000 to focus on high-value ones.\n",
        "\n",
        "transactions = [\n",
        "    {\"id\": 201, \"amount\": 25000},   # Low-value transaction\n",
        "    {\"id\": 202, \"amount\": 200000},\n",
        "    {\"id\": 203, \"amount\": 1500000}, # Fraudulent transaction\n",
        "    {\"id\": 204, \"amount\": 40000},   # Low-value transaction\n",
        "    {\"id\": 205, \"amount\": 300000}\n",
        "]\n",
        "\n",
        "for txn in transactions:\n",
        "    if txn[\"amount\"] < 50000:\n",
        "        # For now, we are ignoring low-value transactions.Later we might log them into a separate report\n",
        "        pass\n",
        "    elif txn[\"amount\"] > 1000000:\n",
        "        print(f\" ALERT: Fraudulent transaction detected! ID {txn['id']} (₹{txn['amount']})\")\n",
        "    else:\n",
        "        print(f\"Auditing Transaction {txn['id']}: ₹{txn['amount']}\")\n",
        "\n",
        "print(\"\\nAudit process completed.\")"
      ],
      "metadata": {
        "id": "kIWPAIHV8sfq"
      },
      "execution_count": null,
      "outputs": []
    },
    {
      "cell_type": "markdown",
      "source": [
        "**Practice Question 5:**\n",
        "\n",
        "A school is processing student names for certificates. If a name is blank, it should be skipped.\n",
        "\n",
        "Write a program that:\n",
        "\n",
        "Iterates over a list of student names.\n",
        "\n",
        "If the name is empty (\"\"), skip it.\n",
        "\n",
        "Print \"Certificate issued for <name>\" for all valid names."
      ],
      "metadata": {
        "id": "O7biQvl0-QIo"
      }
    },
    {
      "cell_type": "markdown",
      "source": [
        "4.<u>List Comprehension in Loops</u>\n",
        "\n",
        " * Basics of List Comprehension\n",
        " * List Comprehension with Conditions using if,else.\n",
        " * Using zip() in List Comprehension"
      ],
      "metadata": {
        "id": "gbkY5jPUa8an"
      }
    },
    {
      "cell_type": "markdown",
      "source": [
        "### List Comprehension in Python:\n",
        "\n",
        "A compact way to create lists using a loop inside square brackets.\n",
        "\n",
        "Instead of writing multiple lines with for loops, you can do it in one line.\n",
        "\n",
        "**Syntax**\n",
        "```\n",
        "[expression for item in iterable if condition]\n",
        "```\n",
        "expression → what to store in the new list\n",
        "\n",
        "item → current element from iterable (list, range, etc.)\n",
        "\n",
        "condition (optional) → filter which elements to include"
      ],
      "metadata": {
        "id": "vEw-3Rko_ifJ"
      }
    },
    {
      "cell_type": "code",
      "source": [
        "#normal loop\n",
        "numbers = [1, 2, 3, 4, 5, 6]\n",
        "evens = []\n",
        "for n in numbers:\n",
        "    if n % 2 == 0:\n",
        "        evens.append(n)\n",
        "print(evens)\n"
      ],
      "metadata": {
        "colab": {
          "base_uri": "https://localhost:8080/"
        },
        "id": "Qag_CbEN-V-p",
        "outputId": "624412a0-661c-4a5b-f46d-cee1bd7044f9"
      },
      "execution_count": null,
      "outputs": [
        {
          "output_type": "stream",
          "name": "stdout",
          "text": [
            "[2, 4, 6]\n"
          ]
        }
      ]
    },
    {
      "cell_type": "code",
      "source": [
        "#List Comprehension:\n",
        "numbers = [1, 2, 3, 4, 5, 6]\n",
        "evens = [n for n in numbers if n % 2 == 0]\n",
        "print(evens)\n"
      ],
      "metadata": {
        "colab": {
          "base_uri": "https://localhost:8080/"
        },
        "id": "WxYdGkJIAmR3",
        "outputId": "5c8cff30-21aa-46a2-9f7f-748f29c5b670"
      },
      "execution_count": null,
      "outputs": [
        {
          "output_type": "stream",
          "name": "stdout",
          "text": [
            "[2, 4, 6]\n"
          ]
        }
      ]
    },
    {
      "cell_type": "markdown",
      "source": [
        "### List Comprehension with Conditions using if,else"
      ],
      "metadata": {
        "id": "q4W04F7eigly"
      }
    },
    {
      "cell_type": "markdown",
      "source": [
        "Scenario: A company wants to calculate a 10% bonus for employees who earn more than ₹50,000."
      ],
      "metadata": {
        "id": "Zj4I7tWJAySu"
      }
    },
    {
      "cell_type": "code",
      "source": [
        "salaries = [45000, 52000, 60000, 30000, 75000]\n",
        "\n",
        "bonuses = [sal * 0.1 if sal > 50000 else 0 for sal in salaries]\n",
        "print(bonuses)\n"
      ],
      "metadata": {
        "colab": {
          "base_uri": "https://localhost:8080/"
        },
        "id": "I8QQjCW7Ay_P",
        "outputId": "441ddd3e-afbe-4832-f456-abd717047a91"
      },
      "execution_count": null,
      "outputs": [
        {
          "output_type": "stream",
          "name": "stdout",
          "text": [
            "[0, 5200.0, 6000.0, 0, 7500.0]\n"
          ]
        }
      ]
    },
    {
      "cell_type": "markdown",
      "source": [
        "### zip() in List Comprehension\n",
        "\n",
        "What is zip()?\n",
        "\n",
        "zip() pairs up elements from two (or more) lists into tuples.\n",
        "\n",
        "It stops at the shortest list length."
      ],
      "metadata": {
        "id": "-oTozb5WCzkG"
      }
    },
    {
      "cell_type": "code",
      "source": [
        "names = [\"Rahul\", \"Priya\", \"Amit\"]\n",
        "scores = [85, 90, 78]\n",
        "\n",
        "print(list(zip(names, scores)))\n"
      ],
      "metadata": {
        "colab": {
          "base_uri": "https://localhost:8080/"
        },
        "id": "XleT_nGZD60y",
        "outputId": "9c04b09b-d085-4b21-8cdc-180e30a09715"
      },
      "execution_count": null,
      "outputs": [
        {
          "output_type": "stream",
          "name": "stdout",
          "text": [
            "[('Rahul', 85), ('Priya', 90), ('Amit', 78)]\n"
          ]
        }
      ]
    },
    {
      "cell_type": "code",
      "source": [
        "names = [\"Rahul\", \"Priya\", \"Amit\"]\n",
        "scores = [85, 90, 78]\n",
        "\n",
        "report = [f\"{name} scored {score}\" for name, score in zip(names, scores)]\n",
        "print(report)\n"
      ],
      "metadata": {
        "colab": {
          "base_uri": "https://localhost:8080/"
        },
        "id": "F0PygGAtD-wU",
        "outputId": "f4dc854f-27ba-4f61-9938-a897075e73c4"
      },
      "execution_count": null,
      "outputs": [
        {
          "output_type": "stream",
          "name": "stdout",
          "text": [
            "['Rahul scored 85', 'Priya scored 90', 'Amit scored 78']\n"
          ]
        }
      ]
    },
    {
      "cell_type": "markdown",
      "source": [
        "# **Functions**"
      ],
      "metadata": {
        "id": "9CQoM0xiFF40"
      }
    },
    {
      "cell_type": "markdown",
      "source": [
        "## 1.Introduction to Functions"
      ],
      "metadata": {
        "id": "OE4SBzpNFHIV"
      }
    },
    {
      "cell_type": "markdown",
      "source": [
        "### What is function?"
      ],
      "metadata": {
        "id": "hYeMjXY5FNh0"
      }
    },
    {
      "cell_type": "markdown",
      "source": [
        "A function is a block of reusable code that performs a specific task.\n",
        "\n",
        "Instead of writing the same code again and again, we define it once and call it whenever needed.\n",
        "\n",
        "In simple words:\n",
        "\n",
        "“A function is like a machine — you give it input, it processes it, and gives you output.”"
      ],
      "metadata": {
        "id": "couImNalFPou"
      }
    },
    {
      "cell_type": "markdown",
      "source": [
        "Why use Functions?\n",
        "\n",
        "✅ Reusability → write once, use many times\n",
        "\n",
        "✅ Readability → code is cleaner and structured\n",
        "\n",
        "✅ Maintainability → easier to fix/modify\n",
        "\n",
        "✅ Collaboration → large projects are divided into small tasks using functions"
      ],
      "metadata": {
        "id": "C3Af5VJKFr40"
      }
    },
    {
      "cell_type": "markdown",
      "source": [
        "def → keyword to define a function\n",
        "\n",
        "function_name → name of the function\n",
        "\n",
        "parameters → inputs (optional)\n",
        "\n",
        "return → output (optional)"
      ],
      "metadata": {
        "id": "vXMOBvowHK_b"
      }
    },
    {
      "cell_type": "markdown",
      "source": [
        "### Types of function\n",
        "\n",
        "There are 2 types of functions in python:\n",
        "\n",
        "*   Built-in functions\n",
        "*   User defined functions\n",
        "\n",
        "**1.Built-in functions:**\n",
        "\n",
        "sum(), len(), max()\n",
        "\n",
        "The function is readily available without any need to be written.\n",
        "\n",
        "\n",
        "**2.User-defined functions:**\n",
        "\n",
        "A user-defined function, also known as a custom function or user function, is a function that is created and defined by the user to perform a specific task or set of tasks.\n",
        "\n",
        " User-defined functions can take input parameters and return output values, and they can be called multiple times within a program, making it easier to reuse code and improve the structure and organization of a program.\n",
        "\n"
      ],
      "metadata": {
        "id": "VYmBEDqmHvnf"
      }
    },
    {
      "cell_type": "markdown",
      "source": [
        "![image.png](data:image/png;base64,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)"
      ],
      "metadata": {
        "id": "2j1NMfuZITLT"
      }
    },
    {
      "cell_type": "markdown",
      "source": [
        "**Syntax:**\n",
        "```\n",
        "def function_name(parameters):\n",
        "    # code block\n",
        "    return value\n",
        "```"
      ],
      "metadata": {
        "id": "_IsI-ukHFwvV"
      }
    },
    {
      "cell_type": "markdown",
      "source": [
        "**Function without Parameters**"
      ],
      "metadata": {
        "id": "fOnApUGrJWsr"
      }
    },
    {
      "cell_type": "code",
      "source": [
        "\n",
        "def audit_log():\n",
        "    print(\"Audit Log: A new transaction has been recorded.\")"
      ],
      "metadata": {
        "id": "IKf4lZv5HMCE"
      },
      "execution_count": null,
      "outputs": []
    },
    {
      "cell_type": "code",
      "source": [
        "audit_log()"
      ],
      "metadata": {
        "id": "tmMsv_QuJAla"
      },
      "execution_count": null,
      "outputs": []
    },
    {
      "cell_type": "markdown",
      "source": [
        "**Function with Parameters**"
      ],
      "metadata": {
        "id": "fI3eWefBJVjq"
      }
    },
    {
      "cell_type": "markdown",
      "source": [
        "| Feature     | Parameters (params)    | Arguments (args)  |\n",
        "| ----------- | ---------------------- | ----------------- |\n",
        "| **Defined** | In function definition | In function call  |\n",
        "| **Nature**  | Placeholder variable   | Actual value/data |\n",
        "| **When**    | At definition time     | At execution time |\n",
        "| **Example** | `def add(a, b):`       | `add(10, 20)`     |\n"
      ],
      "metadata": {
        "id": "odwdS00QM71Q"
      }
    },
    {
      "cell_type": "code",
      "source": [
        "def audit_log_with_details(user, action):\n",
        "    \"\"\"Logs an audit message with user and action details.\"\"\"\n",
        "    print(f\"Audit Log: User '{user}' performed action : '{action}'.\")\n",
        "\n",
        "# Calling the function with parameters\n",
        "audit_log_with_details(\"John\", \"Approved Financial Report\")\n",
        "audit_log_with_details(\"Smith\", \"Updated Risk Assessment\")"
      ],
      "metadata": {
        "id": "posdh0lLHQgn"
      },
      "execution_count": null,
      "outputs": []
    },
    {
      "cell_type": "markdown",
      "source": [
        "### 1.Positional Arguments\n",
        "\n",
        "Values are passed in order (position matters).\n",
        "\n",
        "The first argument goes to the first parameter, second to second, and so on."
      ],
      "metadata": {
        "id": "R8CgR7oZJpAq"
      }
    },
    {
      "cell_type": "code",
      "source": [
        "def audit_report(auditor_name, company_name, audit_year, risk_rating):\n",
        "    print(f\"Auditor: {auditor_name}\")\n",
        "    print(f\"Company: {company_name}\")\n",
        "    print(f\"Audit Year: {audit_year}\")\n",
        "    print(f\"Risk Rating: {risk_rating}\")\n",
        "\n",
        "# Calling the function with positional arguments\n",
        "audit_report(\"John Doe\", \"ABC Corp\", 2024, \"High\")"
      ],
      "metadata": {
        "id": "QGp96AQDJcab"
      },
      "execution_count": null,
      "outputs": []
    },
    {
      "cell_type": "markdown",
      "source": [
        "Incorrect examples"
      ],
      "metadata": {
        "id": "6V1Ng_kAJzoq"
      }
    },
    {
      "cell_type": "code",
      "source": [
        "audit_report(2024, \"High\", \"John Doe\", \"ABC Corp\")"
      ],
      "metadata": {
        "id": "Kf-NF7o4JxHc"
      },
      "execution_count": null,
      "outputs": []
    },
    {
      "cell_type": "markdown",
      "source": [
        "WRONG mapping because order changed!"
      ],
      "metadata": {
        "id": "g-Ni8AmHORrf"
      }
    },
    {
      "cell_type": "markdown",
      "source": [
        "### 2.Default arguments\n",
        "\n",
        "In the below  function log_audit logs an action performed by a user.It uses a default argument (user=\"System\"), meaning if no user is specified, it assumes the action was performed by the system."
      ],
      "metadata": {
        "id": "smAYOvnEJ2jy"
      }
    },
    {
      "cell_type": "code",
      "source": [
        "def log_audit(action, user=\"System\"):\n",
        "    \"\"\"Logs an audit entry with a default user.\"\"\"\n",
        "    print(f\"User: {user} performed '{action}'.\")\n"
      ],
      "metadata": {
        "id": "wG8D178CKMEy"
      },
      "execution_count": null,
      "outputs": []
    },
    {
      "cell_type": "code",
      "source": [
        "log_audit(\"Updated Record\")\n",
        "# Output: User: System performed 'Updated Record'.\n",
        "\n",
        "log_audit(\"Deleted Entry\", \"Admin\")\n",
        "# Output: User: Admin performed 'Deleted Entry'."
      ],
      "metadata": {
        "id": "SSfKtwd6KsU6"
      },
      "execution_count": null,
      "outputs": []
    },
    {
      "cell_type": "markdown",
      "source": [
        "### 3.Keyword arguments:\n",
        "\n",
        "Values are passed with the parameter name.\n",
        "\n",
        "Order does not matter, since names are matched."
      ],
      "metadata": {
        "id": "dEJzKbrQKztq"
      }
    },
    {
      "cell_type": "markdown",
      "source": [
        "Points to remember:\n",
        "\n",
        "\n",
        "\n",
        "*   Since arguments are explicitly named, they can be passed in any order\n",
        "\n",
        "*   Functions can define default values for keyword arguments.\n",
        "*    Using **kwargs, functions can accept a variable number of keyword arguments."
      ],
      "metadata": {
        "id": "S42PX13RK3BE"
      }
    },
    {
      "cell_type": "code",
      "source": [
        "def audit_transaction(transaction_id, amount, auditor, status):\n",
        "    print(f\"Transaction ID: {transaction_id}\")\n",
        "    print(f\"Amount: ${amount}\")\n",
        "    print(f\"Audited by: {auditor}\")\n",
        "    print(f\"Status: {status}\")\n",
        "\n",
        "\n",
        "audit_transaction(transaction_id=102, amount=10000, auditor=\"External Auditor\", status=\"Approved\")"
      ],
      "metadata": {
        "id": "w-VyuQQbPLmX"
      },
      "execution_count": null,
      "outputs": []
    },
    {
      "cell_type": "code",
      "source": [
        "def audit_transaction(transaction_id, amount, auditor=\"Internal Auditor\", status=\"Pending\"):\n",
        "    print(f\"Transaction ID: {transaction_id}\")\n",
        "    print(f\"Amount: ${amount}\")\n",
        "    print(f\"Audited by: {auditor}\")\n",
        "    print(f\"Status: {status}\")\n",
        "\n",
        "# Calling function using keyword arguments\n",
        "audit_transaction(transaction_id=101, amount=5000)\n",
        "# audit_transaction(amount=5000,transaction_id=101) # Change order and check\n",
        "# # Calling function with a different auditor and status\n",
        "audit_transaction(transaction_id=102, amount=10000, auditor=\"External Auditor\", status=\"Approved\")\n"
      ],
      "metadata": {
        "id": "94benYy1Kv7s"
      },
      "execution_count": null,
      "outputs": []
    },
    {
      "cell_type": "markdown",
      "source": [
        "### 4.Variable Arguments – *args\n",
        "\n",
        "Allows you to pass a variable number of positional arguments.\n",
        "\n",
        "Inside the function, *args is treated as a tuple."
      ],
      "metadata": {
        "id": "FkKaKf2fPo2G"
      }
    },
    {
      "cell_type": "code",
      "source": [
        "def total_sales(*amounts):\n",
        "    print(\"All sales:\", amounts)\n",
        "    print(\"Total =\", sum(amounts))\n",
        "\n",
        "total_sales(2000, 3000, 1500)\n",
        "total_sales(5000, 10000)\n"
      ],
      "metadata": {
        "id": "THYmNohOPXUv"
      },
      "execution_count": null,
      "outputs": []
    },
    {
      "cell_type": "markdown",
      "source": [
        "### 5.Keyword Variable Arguments – **kwargs\n",
        "\n",
        "Allows you to pass a variable number of keyword arguments.\n",
        "\n",
        "Inside the function, **kwargs is treated as a dictionary."
      ],
      "metadata": {
        "id": "45vZuxgaPvmI"
      }
    },
    {
      "cell_type": "code",
      "source": [
        "def employee_profile(**details):\n",
        "    for key, value in details.items():\n",
        "        print(key, \":\", value)\n",
        "\n",
        "employee_profile(name=\"Rahul\", dept=\"Finance\", location=\"Mumbai\")\n"
      ],
      "metadata": {
        "id": "rrjYhTXJP2IZ"
      },
      "execution_count": null,
      "outputs": []
    },
    {
      "cell_type": "markdown",
      "source": [
        "### Lambda Functions in Python"
      ],
      "metadata": {
        "id": "4772Kr8tQttV"
      }
    },
    {
      "cell_type": "markdown",
      "source": [
        "What is a Lambda Function?\n",
        "\n",
        "A small, anonymous (nameless) function defined using the lambda keyword.\n",
        "\n",
        "Typically used for short, one-time tasks where defining a full function is unnecessary."
      ],
      "metadata": {
        "id": "QCFdSJLyQqu2"
      }
    },
    {
      "cell_type": "markdown",
      "source": [
        "**Syntax**\n",
        "```\n",
        "lambda arguments: expression\n",
        "```\n",
        "\n",
        "arguments → input values\n",
        "\n",
        "expression → single line of code that gets evaluated & returned"
      ],
      "metadata": {
        "id": "KFf5Q0WlRNgP"
      }
    },
    {
      "cell_type": "code",
      "source": [
        "# Add two numbers\n",
        "add = lambda a, b: a + b\n",
        "print(add(10, 20))\n"
      ],
      "metadata": {
        "id": "iLOrE7XZQyZW"
      },
      "execution_count": null,
      "outputs": []
    },
    {
      "cell_type": "code",
      "source": [
        "def add(a, b):\n",
        "    return a + b\n",
        "print(add(10, 20))"
      ],
      "metadata": {
        "id": "E0c9HvprTdm2"
      },
      "execution_count": null,
      "outputs": []
    },
    {
      "cell_type": "markdown",
      "source": [
        "**Practice Question 6**\n",
        "\n",
        "A company gives employees a 20% annual bonus on their salary.\n",
        "\n",
        "Write a Python function to calculate the bonus for a given salary.\n",
        "\n",
        "1.Traditional Function (using def)\n",
        "\n",
        "Define a function calculate_bonus(salary) that returns 10% of the salary.\n",
        "\n",
        "Example: Input → 60000, Output → 6000.\n",
        "\n",
        "2.Lambda Function\n",
        "\n",
        "Rewrite the same logic using a lambda function."
      ],
      "metadata": {
        "id": "ahyfiRXcRn-9"
      }
    },
    {
      "cell_type": "markdown",
      "source": [
        "**Practice Question 7**\n",
        "\n",
        "Write a function check_eligibility(age) that returns:\n",
        "\n",
        "\"Eligible to vote\" if age ≥ 18\n",
        "\n",
        "\"Not eligible\" otherwise"
      ],
      "metadata": {
        "id": "jkivKjb0UGZt"
      }
    },
    {
      "cell_type": "code",
      "source": [],
      "metadata": {
        "id": "qUcqkYZ5UMvG"
      },
      "execution_count": null,
      "outputs": []
    },
    {
      "cell_type": "code",
      "source": [],
      "metadata": {
        "id": "qAiWQglQUOwG"
      },
      "execution_count": null,
      "outputs": []
    }
  ]
}