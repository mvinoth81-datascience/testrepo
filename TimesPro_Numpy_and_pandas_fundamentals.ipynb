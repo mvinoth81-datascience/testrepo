{
  "cells": [
    {
      "cell_type": "markdown",
      "metadata": {
        "id": "OYLK_CqhdAsj"
      },
      "source": [
        "# **TimesPro NumPy and Pandas Fundamentals**\n",
        "\n",
        "## **Training Overview**\n",
        "\n",
        "This 1.5-hour hands-on training module covers the fundamentals of NumPy and Pandas libraries for data manipulation and analysis. The session is designed for beginners with basic Python knowledge, with some content suitable for those with prior experience.\n",
        "\n",
        "## **Learning Objectives**\n",
        "\n",
        "- Understand NumPy arrays and their role as the foundation for Pandas\n",
        "- Master Pandas Series and DataFrame structures\n",
        "- Learn essential data operations: indexing, selection, filtering, and grouping\n",
        "- Perform basic data cleaning and preparation\n",
        "- Create simple visualizations directly from DataFrames\n",
        "\n",
        "## **Table of Contents**\n",
        "\n",
        "1. [NumPy Fundamentals](#numpy-fundamentals)\n",
        "    - [Creating Arrays](#creating-arrays)\n",
        "    - [Array Operations](#array-operations)\n",
        "    - [NumPy as Foundation for Pandas](#numpy-foundation)\n",
        "\n",
        "2. [Pandas Library](#pandas-library)\n",
        "    - [Series and DataFrames](#series-and-dataframes)\n",
        "    - [Importing and Exporting Data](#importing-exporting-data)\n",
        "    - [Exploring Data](#exploring-data)\n",
        "    - [Indexing and Selection](#indexing-selection)\n",
        "    - [Filtering and Querying](#filtering-querying)\n",
        "    - [Data Cleaning](#data-cleaning)\n",
        "    - [Grouping and Aggregation](#grouping-aggregation)\n",
        "    - [Basic Data Visualization](#data-visualization)\n",
        "\n",
        "---"
      ]
    },
    {
      "cell_type": "markdown",
      "metadata": {
        "id": "qPrfNaSKdAsk"
      },
      "source": [
        "## **1. NumPy Fundamentals** <a name=\"numpy-fundamentals\"></a>\n",
        "\n",
        "NumPy (Numerical Python) is the foundational library for scientific computing in Python. It provides support for large, multi-dimensional arrays and matrices, along with a collection of mathematical functions to operate on these arrays.\n",
        "\n",
        "**Why NumPy matters for Pandas:**\n",
        "- Pandas is built on top of NumPy\n",
        "- NumPy arrays provide the underlying data structure for Pandas\n",
        "- Understanding NumPy helps with performance optimization in Pandas\n",
        "\n",
        "> **Advanced Learning:** NumPy offers advanced features like vectorization, broadcasting, and memory-efficient operations. Learn more at [NumPy Documentation](https://numpy.org/doc/stable/)"
      ]
    },
    {
      "cell_type": "code",
      "execution_count": null,
      "metadata": {
        "colab": {
          "base_uri": "https://localhost:8080/"
        },
        "id": "O0mmZT6GdAsk",
        "outputId": "9fd0815e-6f45-4367-d687-214db3bf3b4b"
      },
      "outputs": [
        {
          "output_type": "stream",
          "name": "stdout",
          "text": [
            "Requirement already satisfied: numpy in /usr/local/lib/python3.12/dist-packages (2.0.2)\n"
          ]
        }
      ],
      "source": [
        "# Installing NumPy\n",
        "!pip install numpy"
      ]
    },
    {
      "cell_type": "code",
      "execution_count": null,
      "metadata": {
        "id": "gSBFTFaQdAsl"
      },
      "outputs": [],
      "source": [
        "# Importing NumPy\n",
        "import numpy as np"
      ]
    },
    {
      "cell_type": "markdown",
      "metadata": {
        "id": "SVGG_20idAsl"
      },
      "source": [
        "### **Creating Arrays** <a name=\"creating-arrays\"></a>"
      ]
    },
    {
      "cell_type": "code",
      "execution_count": null,
      "metadata": {
        "colab": {
          "base_uri": "https://localhost:8080/"
        },
        "id": "yAOPKy3NdAsl",
        "outputId": "8a969595-c819-4c6e-edc0-cb4f53215b84"
      },
      "outputs": [
        {
          "output_type": "stream",
          "name": "stdout",
          "text": [
            "Vector: [1 2 3 4 5]\n",
            "Shape: (5,)\n",
            "Data type: int64\n"
          ]
        }
      ],
      "source": [
        "# Creating a 1D array (vector)\n",
        "vector = np.array([1, 2, 3, 4, 5])\n",
        "print(\"Vector:\", vector)\n",
        "print(\"Shape:\", vector.shape)\n",
        "print(\"Data type:\", vector.dtype)"
      ]
    },
    {
      "cell_type": "code",
      "execution_count": null,
      "metadata": {
        "colab": {
          "base_uri": "https://localhost:8080/"
        },
        "id": "-Fie1B2MdAsl",
        "outputId": "a3defc43-08b7-40d7-e94b-62d46c503b86"
      },
      "outputs": [
        {
          "output_type": "stream",
          "name": "stdout",
          "text": [
            "Matrix:\n",
            "[[1 2 3]\n",
            " [4 5 6]\n",
            " [7 8 9]]\n",
            "Shape: (3, 3)\n",
            "5\n"
          ]
        }
      ],
      "source": [
        "# Creating a 2D array (matrix)\n",
        "matrix = np.array([\n",
        "    [1, 2, 3],\n",
        "    [4, 5, 6],\n",
        "    [7, 8, 9]\n",
        "])\n",
        "print(\"Matrix:\")\n",
        "print(matrix)\n",
        "print(\"Shape:\", matrix.shape)\n",
        "print(matrix[1][1])"
      ]
    },
    {
      "cell_type": "code",
      "execution_count": null,
      "metadata": {
        "colab": {
          "base_uri": "https://localhost:8080/"
        },
        "id": "khyL27HodAsl",
        "outputId": "fd6a2553-c426-47c6-c8d4-63a510586b45"
      },
      "outputs": [
        {
          "output_type": "stream",
          "name": "stdout",
          "text": [
            "Zeros array:\n",
            "[[0. 0. 0.]\n",
            " [0. 0. 0.]]\n",
            "\n",
            "Ones array:\n",
            "[[1. 1. 1.]\n",
            " [1. 1. 1.]]\n",
            "\n",
            "Random array:\n",
            "[[0.5380538  0.33949001 0.54983457]\n",
            " [0.87196023 0.29295026 0.56653788]]\n"
          ]
        }
      ],
      "source": [
        "# Creating arrays with built-in functions\n",
        "zeros_array = np.zeros((2, 3))\n",
        "print(\"Zeros array:\")\n",
        "print(zeros_array)\n",
        "\n",
        "ones_array = np.ones((2, 3))\n",
        "print(\"\\nOnes array:\")\n",
        "print(ones_array)\n",
        "\n",
        "random_array = np.random.rand(2, 3)\n",
        "print(\"\\nRandom array:\")\n",
        "print(random_array)"
      ]
    },
    {
      "cell_type": "markdown",
      "metadata": {
        "id": "G4r3tJV8dAsl"
      },
      "source": [
        "### **Array Operations** <a name=\"array-operations\"></a>"
      ]
    },
    {
      "cell_type": "code",
      "execution_count": null,
      "metadata": {
        "colab": {
          "base_uri": "https://localhost:8080/"
        },
        "id": "nyZz0igIdAsm",
        "outputId": "4673a35c-4333-4a4e-d849-978ba0e73a91"
      },
      "outputs": [
        {
          "output_type": "stream",
          "name": "stdout",
          "text": [
            "Addition: [ 6  8 10 12]\n",
            "Subtraction: [-4 -4 -4 -4]\n",
            "Multiplication: [ 5 12 21 32]\n",
            "Division: [0.2        0.33333333 0.42857143 0.5       ]\n"
          ]
        }
      ],
      "source": [
        "# Basic arithmetic operations\n",
        "a = np.array([1, 2, 3, 4])\n",
        "b = np.array([5, 6, 7, 8])\n",
        "\n",
        "print(\"Addition:\", a + b)\n",
        "print(\"Subtraction:\", a - b)\n",
        "print(\"Multiplication:\", a * b)\n",
        "print(\"Division:\", a / b)"
      ]
    },
    {
      "cell_type": "code",
      "execution_count": null,
      "metadata": {
        "colab": {
          "base_uri": "https://localhost:8080/"
        },
        "id": "0w9-EB6mdAsm",
        "outputId": "3dc0597f-49f9-49e7-f0f8-f89bea153c4b"
      },
      "outputs": [
        {
          "output_type": "stream",
          "name": "stdout",
          "text": [
            "Sum: 55\n",
            "Mean: 5.5\n",
            "Standard deviation: 2.8722813232690143\n",
            "Min: 1\n",
            "Max: 10\n"
          ]
        }
      ],
      "source": [
        "# Aggregate functions\n",
        "data = np.array([1, 2, 3, 4, 5, 6, 7, 8, 9, 10])\n",
        "\n",
        "print(\"Sum:\", np.sum(data))\n",
        "print(\"Mean:\", np.mean(data))\n",
        "print(\"Standard deviation:\", np.std(data))\n",
        "print(\"Min:\", np.min(data))\n",
        "print(\"Max:\", np.max(data))"
      ]
    },
    {
      "cell_type": "code",
      "execution_count": null,
      "metadata": {
        "colab": {
          "base_uri": "https://localhost:8080/"
        },
        "id": "5CrdKIobdAsm",
        "outputId": "7e4a54c9-806b-4142-c2f6-8c3401e59a14"
      },
      "outputs": [
        {
          "output_type": "stream",
          "name": "stdout",
          "text": [
            "First element: 10\n",
            "Last element: 50\n",
            "Slice [1:4]: [20 30 40]\n",
            "Every other element: [10 30 50]\n"
          ]
        }
      ],
      "source": [
        "# Indexing and slicing\n",
        "arr = np.array([10, 20, 30, 40, 50])\n",
        "\n",
        "print(\"First element:\", arr[0])\n",
        "print(\"Last element:\", arr[-1])\n",
        "print(\"Slice [1:4]:\", arr[1:4])\n",
        "print(\"Every other element:\", arr[::2])"
      ]
    },
    {
      "cell_type": "code",
      "source": [],
      "metadata": {
        "id": "EnXPO3fJxVKx"
      },
      "execution_count": null,
      "outputs": []
    },
    {
      "cell_type": "markdown",
      "metadata": {
        "id": "lUSk5ottdAsm"
      },
      "source": [
        "### **NumPy as Foundation for Pandas** <a name=\"numpy-foundation\"></a>\n",
        "\n",
        "NumPy arrays provide the backbone for Pandas data structures. Understanding NumPy is crucial for:\n",
        "- Efficient data manipulation\n",
        "- Memory optimization\n",
        "- Performance tuning in Pandas\n",
        "\n",
        "> **Advanced Learning:** Explore advanced NumPy features like structured arrays, memory mapping, and integration with C/C++/Fortran code at [NumPy Advanced Techniques](https://numpy.org/doc/stable/user/advanced.html)"
      ]
    },
    {
      "cell_type": "markdown",
      "metadata": {
        "id": "Sba3vYG7dAsm"
      },
      "source": [
        "---\n",
        "## **2. Pandas Library** <a name=\"pandas-library\"></a>\n",
        "\n",
        "Pandas is an open-source library that provides high-performance, easy-to-use data structures and data analysis tools for Python. It's built on top of NumPy and is designed for practical, real-world data analysis.\n",
        "\n",
        "**Key Features:**\n",
        "- DataFrame object for data manipulation with integrated indexing\n",
        "- Tools for reading and writing data between in-memory data structures and different file formats\n",
        "- Data alignment and integrated handling of missing data\n",
        "- Reshaping, pivoting, and joining datasets\n",
        "\n",
        "> **Advanced Learning:** Pandas integrates with other libraries like Dask for out-of-core computation and Modin for parallel processing. Learn more at [Pandas Ecosystem](https://pandas.pydata.org/docs/ecosystem.html)"
      ]
    },
    {
      "cell_type": "code",
      "execution_count": null,
      "metadata": {
        "colab": {
          "base_uri": "https://localhost:8080/"
        },
        "id": "2F--pMxodAsm",
        "outputId": "748314fc-4c93-47de-e24f-062f941a5439"
      },
      "outputs": [
        {
          "output_type": "stream",
          "name": "stdout",
          "text": [
            "Requirement already satisfied: pandas in /usr/local/lib/python3.12/dist-packages (2.2.2)\n",
            "Requirement already satisfied: numpy>=1.26.0 in /usr/local/lib/python3.12/dist-packages (from pandas) (2.0.2)\n",
            "Requirement already satisfied: python-dateutil>=2.8.2 in /usr/local/lib/python3.12/dist-packages (from pandas) (2.9.0.post0)\n",
            "Requirement already satisfied: pytz>=2020.1 in /usr/local/lib/python3.12/dist-packages (from pandas) (2025.2)\n",
            "Requirement already satisfied: tzdata>=2022.7 in /usr/local/lib/python3.12/dist-packages (from pandas) (2025.2)\n",
            "Requirement already satisfied: six>=1.5 in /usr/local/lib/python3.12/dist-packages (from python-dateutil>=2.8.2->pandas) (1.17.0)\n"
          ]
        }
      ],
      "source": [
        "# Installing Pandas\n",
        "!pip install pandas"
      ]
    },
    {
      "cell_type": "code",
      "execution_count": null,
      "metadata": {
        "id": "Y-Q03_14dAsm"
      },
      "outputs": [],
      "source": [
        "# Importing Pandas\n",
        "import pandas as pd"
      ]
    },
    {
      "cell_type": "markdown",
      "metadata": {
        "id": "3BLI2oW6dAsm"
      },
      "source": [
        "### **Series and DataFrames** <a name=\"series-and-dataframes\"></a>"
      ]
    },
    {
      "cell_type": "code",
      "execution_count": null,
      "metadata": {
        "colab": {
          "base_uri": "https://localhost:8080/"
        },
        "id": "ZQpnke6idAsm",
        "outputId": "b24490eb-7b4b-4493-c55c-b2fdd2e1ad5e"
      },
      "outputs": [
        {
          "output_type": "stream",
          "name": "stdout",
          "text": [
            "Series:\n",
            "0    1\n",
            "1    2\n",
            "2    3\n",
            "3    4\n",
            "4    5\n",
            "Name: Numbers, dtype: int64\n",
            "Type: <class 'pandas.core.series.Series'>\n"
          ]
        }
      ],
      "source": [
        "# Creating a Pandas Series\n",
        "series = pd.Series([1, 2, 3, 4, 5], name=\"Numbers\")\n",
        "print(\"Series:\")\n",
        "print(series)\n",
        "print(\"Type:\", type(series))"
      ]
    },
    {
      "cell_type": "code",
      "execution_count": null,
      "metadata": {
        "colab": {
          "base_uri": "https://localhost:8080/"
        },
        "id": "tGs4y0oFdAsm",
        "outputId": "918980e9-dc1f-4cdb-f640-66c3fd889897"
      },
      "outputs": [
        {
          "output_type": "stream",
          "name": "stdout",
          "text": [
            "DataFrame:\n",
            "      Name  Age      City\n",
            "0    Alice   25  New York\n",
            "1      Bob   30    London\n",
            "2  Charlie   35     Paris\n",
            "3    David   40     Tokyo\n",
            "Type: <class 'pandas.core.frame.DataFrame'>\n"
          ]
        }
      ],
      "source": [
        "# Creating a DataFrame from a dictionary\n",
        "data = {\n",
        "    \"Name\": [\"Alice\", \"Bob\", \"Charlie\", \"David\"],\n",
        "    \"Age\": [25, 30, 35, 40],\n",
        "    \"City\": [\"New York\", \"London\", \"Paris\", \"Tokyo\"]\n",
        "}\n",
        "df = pd.DataFrame(data)\n",
        "print(\"DataFrame:\")\n",
        "print(df)\n",
        "print(\"Type:\", type(df))"
      ]
    },
    {
      "cell_type": "markdown",
      "metadata": {
        "id": "fKVS2YGgdAsn"
      },
      "source": [
        "### **Importing and Exporting Data** <a name=\"importing-exporting-data\"></a>"
      ]
    },
    {
      "cell_type": "code",
      "execution_count": null,
      "metadata": {
        "colab": {
          "base_uri": "https://localhost:8080/",
          "height": 224
        },
        "id": "kQetqj_odAsn",
        "outputId": "212e912c-0aea-4033-8739-b3c9c043da66"
      },
      "outputs": [
        {
          "output_type": "stream",
          "name": "stdout",
          "text": [
            "Products DataFrame:\n"
          ]
        },
        {
          "output_type": "execute_result",
          "data": {
            "text/plain": [
              "  Product_ID Product_Name     Category  Price  Units_Sold  Rating\n",
              "0       P001       Laptop  Electronics   1200          50     4.5\n",
              "1       P002        Mouse  Accessories     25         200     4.2\n",
              "2       P003     Keyboard  Accessories     45         150     4.0\n",
              "3       P004      Monitor  Electronics    300          80     4.7\n",
              "4       P005    USB Cable  Accessories     10         500     3.8"
            ],
            "text/html": [
              "\n",
              "  <div id=\"df-d9fdd00a-56cf-49fd-b2c7-034274a997d0\" class=\"colab-df-container\">\n",
              "    <div>\n",
              "<style scoped>\n",
              "    .dataframe tbody tr th:only-of-type {\n",
              "        vertical-align: middle;\n",
              "    }\n",
              "\n",
              "    .dataframe tbody tr th {\n",
              "        vertical-align: top;\n",
              "    }\n",
              "\n",
              "    .dataframe thead th {\n",
              "        text-align: right;\n",
              "    }\n",
              "</style>\n",
              "<table border=\"1\" class=\"dataframe\">\n",
              "  <thead>\n",
              "    <tr style=\"text-align: right;\">\n",
              "      <th></th>\n",
              "      <th>Product_ID</th>\n",
              "      <th>Product_Name</th>\n",
              "      <th>Category</th>\n",
              "      <th>Price</th>\n",
              "      <th>Units_Sold</th>\n",
              "      <th>Rating</th>\n",
              "    </tr>\n",
              "  </thead>\n",
              "  <tbody>\n",
              "    <tr>\n",
              "      <th>0</th>\n",
              "      <td>P001</td>\n",
              "      <td>Laptop</td>\n",
              "      <td>Electronics</td>\n",
              "      <td>1200</td>\n",
              "      <td>50</td>\n",
              "      <td>4.5</td>\n",
              "    </tr>\n",
              "    <tr>\n",
              "      <th>1</th>\n",
              "      <td>P002</td>\n",
              "      <td>Mouse</td>\n",
              "      <td>Accessories</td>\n",
              "      <td>25</td>\n",
              "      <td>200</td>\n",
              "      <td>4.2</td>\n",
              "    </tr>\n",
              "    <tr>\n",
              "      <th>2</th>\n",
              "      <td>P003</td>\n",
              "      <td>Keyboard</td>\n",
              "      <td>Accessories</td>\n",
              "      <td>45</td>\n",
              "      <td>150</td>\n",
              "      <td>4.0</td>\n",
              "    </tr>\n",
              "    <tr>\n",
              "      <th>3</th>\n",
              "      <td>P004</td>\n",
              "      <td>Monitor</td>\n",
              "      <td>Electronics</td>\n",
              "      <td>300</td>\n",
              "      <td>80</td>\n",
              "      <td>4.7</td>\n",
              "    </tr>\n",
              "    <tr>\n",
              "      <th>4</th>\n",
              "      <td>P005</td>\n",
              "      <td>USB Cable</td>\n",
              "      <td>Accessories</td>\n",
              "      <td>10</td>\n",
              "      <td>500</td>\n",
              "      <td>3.8</td>\n",
              "    </tr>\n",
              "  </tbody>\n",
              "</table>\n",
              "</div>\n",
              "    <div class=\"colab-df-buttons\">\n",
              "\n",
              "  <div class=\"colab-df-container\">\n",
              "    <button class=\"colab-df-convert\" onclick=\"convertToInteractive('df-d9fdd00a-56cf-49fd-b2c7-034274a997d0')\"\n",
              "            title=\"Convert this dataframe to an interactive table.\"\n",
              "            style=\"display:none;\">\n",
              "\n",
              "  <svg xmlns=\"http://www.w3.org/2000/svg\" height=\"24px\" viewBox=\"0 -960 960 960\">\n",
              "    <path d=\"M120-120v-720h720v720H120Zm60-500h600v-160H180v160Zm220 220h160v-160H400v160Zm0 220h160v-160H400v160ZM180-400h160v-160H180v160Zm440 0h160v-160H620v160ZM180-180h160v-160H180v160Zm440 0h160v-160H620v160Z\"/>\n",
              "  </svg>\n",
              "    </button>\n",
              "\n",
              "  <style>\n",
              "    .colab-df-container {\n",
              "      display:flex;\n",
              "      gap: 12px;\n",
              "    }\n",
              "\n",
              "    .colab-df-convert {\n",
              "      background-color: #E8F0FE;\n",
              "      border: none;\n",
              "      border-radius: 50%;\n",
              "      cursor: pointer;\n",
              "      display: none;\n",
              "      fill: #1967D2;\n",
              "      height: 32px;\n",
              "      padding: 0 0 0 0;\n",
              "      width: 32px;\n",
              "    }\n",
              "\n",
              "    .colab-df-convert:hover {\n",
              "      background-color: #E2EBFA;\n",
              "      box-shadow: 0px 1px 2px rgba(60, 64, 67, 0.3), 0px 1px 3px 1px rgba(60, 64, 67, 0.15);\n",
              "      fill: #174EA6;\n",
              "    }\n",
              "\n",
              "    .colab-df-buttons div {\n",
              "      margin-bottom: 4px;\n",
              "    }\n",
              "\n",
              "    [theme=dark] .colab-df-convert {\n",
              "      background-color: #3B4455;\n",
              "      fill: #D2E3FC;\n",
              "    }\n",
              "\n",
              "    [theme=dark] .colab-df-convert:hover {\n",
              "      background-color: #434B5C;\n",
              "      box-shadow: 0px 1px 3px 1px rgba(0, 0, 0, 0.15);\n",
              "      filter: drop-shadow(0px 1px 2px rgba(0, 0, 0, 0.3));\n",
              "      fill: #FFFFFF;\n",
              "    }\n",
              "  </style>\n",
              "\n",
              "    <script>\n",
              "      const buttonEl =\n",
              "        document.querySelector('#df-d9fdd00a-56cf-49fd-b2c7-034274a997d0 button.colab-df-convert');\n",
              "      buttonEl.style.display =\n",
              "        google.colab.kernel.accessAllowed ? 'block' : 'none';\n",
              "\n",
              "      async function convertToInteractive(key) {\n",
              "        const element = document.querySelector('#df-d9fdd00a-56cf-49fd-b2c7-034274a997d0');\n",
              "        const dataTable =\n",
              "          await google.colab.kernel.invokeFunction('convertToInteractive',\n",
              "                                                    [key], {});\n",
              "        if (!dataTable) return;\n",
              "\n",
              "        const docLinkHtml = 'Like what you see? Visit the ' +\n",
              "          '<a target=\"_blank\" href=https://colab.research.google.com/notebooks/data_table.ipynb>data table notebook</a>'\n",
              "          + ' to learn more about interactive tables.';\n",
              "        element.innerHTML = '';\n",
              "        dataTable['output_type'] = 'display_data';\n",
              "        await google.colab.output.renderOutput(dataTable, element);\n",
              "        const docLink = document.createElement('div');\n",
              "        docLink.innerHTML = docLinkHtml;\n",
              "        element.appendChild(docLink);\n",
              "      }\n",
              "    </script>\n",
              "  </div>\n",
              "\n",
              "\n",
              "    <div id=\"df-82ced8fe-d9e9-47f5-a71a-a2a4ebc5bf42\">\n",
              "      <button class=\"colab-df-quickchart\" onclick=\"quickchart('df-82ced8fe-d9e9-47f5-a71a-a2a4ebc5bf42')\"\n",
              "                title=\"Suggest charts\"\n",
              "                style=\"display:none;\">\n",
              "\n",
              "<svg xmlns=\"http://www.w3.org/2000/svg\" height=\"24px\"viewBox=\"0 0 24 24\"\n",
              "     width=\"24px\">\n",
              "    <g>\n",
              "        <path d=\"M19 3H5c-1.1 0-2 .9-2 2v14c0 1.1.9 2 2 2h14c1.1 0 2-.9 2-2V5c0-1.1-.9-2-2-2zM9 17H7v-7h2v7zm4 0h-2V7h2v10zm4 0h-2v-4h2v4z\"/>\n",
              "    </g>\n",
              "</svg>\n",
              "      </button>\n",
              "\n",
              "<style>\n",
              "  .colab-df-quickchart {\n",
              "      --bg-color: #E8F0FE;\n",
              "      --fill-color: #1967D2;\n",
              "      --hover-bg-color: #E2EBFA;\n",
              "      --hover-fill-color: #174EA6;\n",
              "      --disabled-fill-color: #AAA;\n",
              "      --disabled-bg-color: #DDD;\n",
              "  }\n",
              "\n",
              "  [theme=dark] .colab-df-quickchart {\n",
              "      --bg-color: #3B4455;\n",
              "      --fill-color: #D2E3FC;\n",
              "      --hover-bg-color: #434B5C;\n",
              "      --hover-fill-color: #FFFFFF;\n",
              "      --disabled-bg-color: #3B4455;\n",
              "      --disabled-fill-color: #666;\n",
              "  }\n",
              "\n",
              "  .colab-df-quickchart {\n",
              "    background-color: var(--bg-color);\n",
              "    border: none;\n",
              "    border-radius: 50%;\n",
              "    cursor: pointer;\n",
              "    display: none;\n",
              "    fill: var(--fill-color);\n",
              "    height: 32px;\n",
              "    padding: 0;\n",
              "    width: 32px;\n",
              "  }\n",
              "\n",
              "  .colab-df-quickchart:hover {\n",
              "    background-color: var(--hover-bg-color);\n",
              "    box-shadow: 0 1px 2px rgba(60, 64, 67, 0.3), 0 1px 3px 1px rgba(60, 64, 67, 0.15);\n",
              "    fill: var(--button-hover-fill-color);\n",
              "  }\n",
              "\n",
              "  .colab-df-quickchart-complete:disabled,\n",
              "  .colab-df-quickchart-complete:disabled:hover {\n",
              "    background-color: var(--disabled-bg-color);\n",
              "    fill: var(--disabled-fill-color);\n",
              "    box-shadow: none;\n",
              "  }\n",
              "\n",
              "  .colab-df-spinner {\n",
              "    border: 2px solid var(--fill-color);\n",
              "    border-color: transparent;\n",
              "    border-bottom-color: var(--fill-color);\n",
              "    animation:\n",
              "      spin 1s steps(1) infinite;\n",
              "  }\n",
              "\n",
              "  @keyframes spin {\n",
              "    0% {\n",
              "      border-color: transparent;\n",
              "      border-bottom-color: var(--fill-color);\n",
              "      border-left-color: var(--fill-color);\n",
              "    }\n",
              "    20% {\n",
              "      border-color: transparent;\n",
              "      border-left-color: var(--fill-color);\n",
              "      border-top-color: var(--fill-color);\n",
              "    }\n",
              "    30% {\n",
              "      border-color: transparent;\n",
              "      border-left-color: var(--fill-color);\n",
              "      border-top-color: var(--fill-color);\n",
              "      border-right-color: var(--fill-color);\n",
              "    }\n",
              "    40% {\n",
              "      border-color: transparent;\n",
              "      border-right-color: var(--fill-color);\n",
              "      border-top-color: var(--fill-color);\n",
              "    }\n",
              "    60% {\n",
              "      border-color: transparent;\n",
              "      border-right-color: var(--fill-color);\n",
              "    }\n",
              "    80% {\n",
              "      border-color: transparent;\n",
              "      border-right-color: var(--fill-color);\n",
              "      border-bottom-color: var(--fill-color);\n",
              "    }\n",
              "    90% {\n",
              "      border-color: transparent;\n",
              "      border-bottom-color: var(--fill-color);\n",
              "    }\n",
              "  }\n",
              "</style>\n",
              "\n",
              "      <script>\n",
              "        async function quickchart(key) {\n",
              "          const quickchartButtonEl =\n",
              "            document.querySelector('#' + key + ' button');\n",
              "          quickchartButtonEl.disabled = true;  // To prevent multiple clicks.\n",
              "          quickchartButtonEl.classList.add('colab-df-spinner');\n",
              "          try {\n",
              "            const charts = await google.colab.kernel.invokeFunction(\n",
              "                'suggestCharts', [key], {});\n",
              "          } catch (error) {\n",
              "            console.error('Error during call to suggestCharts:', error);\n",
              "          }\n",
              "          quickchartButtonEl.classList.remove('colab-df-spinner');\n",
              "          quickchartButtonEl.classList.add('colab-df-quickchart-complete');\n",
              "        }\n",
              "        (() => {\n",
              "          let quickchartButtonEl =\n",
              "            document.querySelector('#df-82ced8fe-d9e9-47f5-a71a-a2a4ebc5bf42 button');\n",
              "          quickchartButtonEl.style.display =\n",
              "            google.colab.kernel.accessAllowed ? 'block' : 'none';\n",
              "        })();\n",
              "      </script>\n",
              "    </div>\n",
              "\n",
              "  <div id=\"id_266600cb-dc63-4edc-bdec-42d959a15159\">\n",
              "    <style>\n",
              "      .colab-df-generate {\n",
              "        background-color: #E8F0FE;\n",
              "        border: none;\n",
              "        border-radius: 50%;\n",
              "        cursor: pointer;\n",
              "        display: none;\n",
              "        fill: #1967D2;\n",
              "        height: 32px;\n",
              "        padding: 0 0 0 0;\n",
              "        width: 32px;\n",
              "      }\n",
              "\n",
              "      .colab-df-generate:hover {\n",
              "        background-color: #E2EBFA;\n",
              "        box-shadow: 0px 1px 2px rgba(60, 64, 67, 0.3), 0px 1px 3px 1px rgba(60, 64, 67, 0.15);\n",
              "        fill: #174EA6;\n",
              "      }\n",
              "\n",
              "      [theme=dark] .colab-df-generate {\n",
              "        background-color: #3B4455;\n",
              "        fill: #D2E3FC;\n",
              "      }\n",
              "\n",
              "      [theme=dark] .colab-df-generate:hover {\n",
              "        background-color: #434B5C;\n",
              "        box-shadow: 0px 1px 3px 1px rgba(0, 0, 0, 0.15);\n",
              "        filter: drop-shadow(0px 1px 2px rgba(0, 0, 0, 0.3));\n",
              "        fill: #FFFFFF;\n",
              "      }\n",
              "    </style>\n",
              "    <button class=\"colab-df-generate\" onclick=\"generateWithVariable('products_df')\"\n",
              "            title=\"Generate code using this dataframe.\"\n",
              "            style=\"display:none;\">\n",
              "\n",
              "  <svg xmlns=\"http://www.w3.org/2000/svg\" height=\"24px\"viewBox=\"0 0 24 24\"\n",
              "       width=\"24px\">\n",
              "    <path d=\"M7,19H8.4L18.45,9,17,7.55,7,17.6ZM5,21V16.75L18.45,3.32a2,2,0,0,1,2.83,0l1.4,1.43a1.91,1.91,0,0,1,.58,1.4,1.91,1.91,0,0,1-.58,1.4L9.25,21ZM18.45,9,17,7.55Zm-12,3A5.31,5.31,0,0,0,4.9,8.1,5.31,5.31,0,0,0,1,6.5,5.31,5.31,0,0,0,4.9,4.9,5.31,5.31,0,0,0,6.5,1,5.31,5.31,0,0,0,8.1,4.9,5.31,5.31,0,0,0,12,6.5,5.46,5.46,0,0,0,6.5,12Z\"/>\n",
              "  </svg>\n",
              "    </button>\n",
              "    <script>\n",
              "      (() => {\n",
              "      const buttonEl =\n",
              "        document.querySelector('#id_266600cb-dc63-4edc-bdec-42d959a15159 button.colab-df-generate');\n",
              "      buttonEl.style.display =\n",
              "        google.colab.kernel.accessAllowed ? 'block' : 'none';\n",
              "\n",
              "      buttonEl.onclick = () => {\n",
              "        google.colab.notebook.generateWithVariable('products_df');\n",
              "      }\n",
              "      })();\n",
              "    </script>\n",
              "  </div>\n",
              "\n",
              "    </div>\n",
              "  </div>\n"
            ],
            "application/vnd.google.colaboratory.intrinsic+json": {
              "type": "dataframe",
              "variable_name": "products_df",
              "summary": "{\n  \"name\": \"products_df\",\n  \"rows\": 5,\n  \"fields\": [\n    {\n      \"column\": \"Product_ID\",\n      \"properties\": {\n        \"dtype\": \"string\",\n        \"num_unique_values\": 5,\n        \"samples\": [\n          \"P002\",\n          \"P005\",\n          \"P003\"\n        ],\n        \"semantic_type\": \"\",\n        \"description\": \"\"\n      }\n    },\n    {\n      \"column\": \"Product_Name\",\n      \"properties\": {\n        \"dtype\": \"string\",\n        \"num_unique_values\": 5,\n        \"samples\": [\n          \"Mouse\",\n          \"USB Cable\",\n          \"Keyboard\"\n        ],\n        \"semantic_type\": \"\",\n        \"description\": \"\"\n      }\n    },\n    {\n      \"column\": \"Category\",\n      \"properties\": {\n        \"dtype\": \"category\",\n        \"num_unique_values\": 2,\n        \"samples\": [\n          \"Accessories\",\n          \"Electronics\"\n        ],\n        \"semantic_type\": \"\",\n        \"description\": \"\"\n      }\n    },\n    {\n      \"column\": \"Price\",\n      \"properties\": {\n        \"dtype\": \"number\",\n        \"std\": 508,\n        \"min\": 10,\n        \"max\": 1200,\n        \"num_unique_values\": 5,\n        \"samples\": [\n          25,\n          10\n        ],\n        \"semantic_type\": \"\",\n        \"description\": \"\"\n      }\n    },\n    {\n      \"column\": \"Units_Sold\",\n      \"properties\": {\n        \"dtype\": \"number\",\n        \"std\": 179,\n        \"min\": 50,\n        \"max\": 500,\n        \"num_unique_values\": 5,\n        \"samples\": [\n          200,\n          500\n        ],\n        \"semantic_type\": \"\",\n        \"description\": \"\"\n      }\n    },\n    {\n      \"column\": \"Rating\",\n      \"properties\": {\n        \"dtype\": \"number\",\n        \"std\": 0.36469165057620945,\n        \"min\": 3.8,\n        \"max\": 4.7,\n        \"num_unique_values\": 5,\n        \"samples\": [\n          4.2,\n          3.8\n        ],\n        \"semantic_type\": \"\",\n        \"description\": \"\"\n      }\n    }\n  ]\n}"
            }
          },
          "metadata": {},
          "execution_count": 50
        }
      ],
      "source": [
        "# For this training, we'll create a sample dataset\n",
        "# In real scenarios, you would use pd.read_csv(), pd.read_excel(), etc.\n",
        "sample_data = {\n",
        "    \"Product_ID\": [\"P001\", \"P002\", \"P003\", \"P004\", \"P005\"],\n",
        "    \"Product_Name\": [\"Laptop\", \"Mouse\", \"Keyboard\", \"Monitor\", \"USB Cable\"],\n",
        "    \"Category\": [\"Electronics\", \"Accessories\", \"Accessories\", \"Electronics\", \"Accessories\"],\n",
        "    \"Price\": [1200, 25, 45, 300, 10],\n",
        "    \"Units_Sold\": [50, 200, 150, 80, 500],\n",
        "    \"Rating\": [4.5, 4.2, 4.0, 4.7, 3.8]\n",
        "}\n",
        "products_df = pd.DataFrame(sample_data)\n",
        "print(\"Products DataFrame:\")\n",
        "products_df"
      ]
    },
    {
      "cell_type": "code",
      "execution_count": null,
      "metadata": {
        "colab": {
          "base_uri": "https://localhost:8080/"
        },
        "id": "FlCOvzTTdAsn",
        "outputId": "4be1631d-7f00-49ca-9cbf-2f62609b1ff4"
      },
      "outputs": [
        {
          "output_type": "stream",
          "name": "stdout",
          "text": [
            "DataFrame exported to CSV file.\n"
          ]
        }
      ],
      "source": [
        "# Exporting DataFrame to CSV\n",
        "products_df.to_csv(\"products_data.csv\", index=False)\n",
        "print(\"DataFrame exported to CSV file.\")"
      ]
    },
    {
      "cell_type": "markdown",
      "metadata": {
        "id": "G1FBxzokdAsn"
      },
      "source": [
        "> **Advanced Learning:** Pandas supports various file formats including Excel, JSON, SQL, Parquet, and HDF5. For large datasets, consider using chunking with `chunksize` parameter or alternative formats like Parquet for better performance. Learn more at [Pandas IO Tools](https://pandas.pydata.org/docs/user_guide/io.html)"
      ]
    },
    {
      "cell_type": "markdown",
      "metadata": {
        "id": "IUzNRZ6tdAsn"
      },
      "source": [
        "### **Exploring Data** <a name=\"exploring-data\"></a>"
      ]
    },
    {
      "cell_type": "code",
      "execution_count": null,
      "metadata": {
        "colab": {
          "base_uri": "https://localhost:8080/",
          "height": 161
        },
        "id": "2SnfGephdAsn",
        "outputId": "4a7df373-a7fa-4a77-d3f0-074014d9cf22"
      },
      "outputs": [
        {
          "output_type": "stream",
          "name": "stdout",
          "text": [
            "First 3 rows:\n"
          ]
        },
        {
          "output_type": "execute_result",
          "data": {
            "text/plain": [
              "  Product_ID Product_Name     Category  Price  Units_Sold  Rating\n",
              "0       P001       Laptop  Electronics   1200          50     4.5\n",
              "1       P002        Mouse  Accessories     25         200     4.2\n",
              "2       P003     Keyboard  Accessories     45         150     4.0"
            ],
            "text/html": [
              "\n",
              "  <div id=\"df-d6cb1e43-d40b-41ba-b0a3-cc94132371d6\" class=\"colab-df-container\">\n",
              "    <div>\n",
              "<style scoped>\n",
              "    .dataframe tbody tr th:only-of-type {\n",
              "        vertical-align: middle;\n",
              "    }\n",
              "\n",
              "    .dataframe tbody tr th {\n",
              "        vertical-align: top;\n",
              "    }\n",
              "\n",
              "    .dataframe thead th {\n",
              "        text-align: right;\n",
              "    }\n",
              "</style>\n",
              "<table border=\"1\" class=\"dataframe\">\n",
              "  <thead>\n",
              "    <tr style=\"text-align: right;\">\n",
              "      <th></th>\n",
              "      <th>Product_ID</th>\n",
              "      <th>Product_Name</th>\n",
              "      <th>Category</th>\n",
              "      <th>Price</th>\n",
              "      <th>Units_Sold</th>\n",
              "      <th>Rating</th>\n",
              "    </tr>\n",
              "  </thead>\n",
              "  <tbody>\n",
              "    <tr>\n",
              "      <th>0</th>\n",
              "      <td>P001</td>\n",
              "      <td>Laptop</td>\n",
              "      <td>Electronics</td>\n",
              "      <td>1200</td>\n",
              "      <td>50</td>\n",
              "      <td>4.5</td>\n",
              "    </tr>\n",
              "    <tr>\n",
              "      <th>1</th>\n",
              "      <td>P002</td>\n",
              "      <td>Mouse</td>\n",
              "      <td>Accessories</td>\n",
              "      <td>25</td>\n",
              "      <td>200</td>\n",
              "      <td>4.2</td>\n",
              "    </tr>\n",
              "    <tr>\n",
              "      <th>2</th>\n",
              "      <td>P003</td>\n",
              "      <td>Keyboard</td>\n",
              "      <td>Accessories</td>\n",
              "      <td>45</td>\n",
              "      <td>150</td>\n",
              "      <td>4.0</td>\n",
              "    </tr>\n",
              "  </tbody>\n",
              "</table>\n",
              "</div>\n",
              "    <div class=\"colab-df-buttons\">\n",
              "\n",
              "  <div class=\"colab-df-container\">\n",
              "    <button class=\"colab-df-convert\" onclick=\"convertToInteractive('df-d6cb1e43-d40b-41ba-b0a3-cc94132371d6')\"\n",
              "            title=\"Convert this dataframe to an interactive table.\"\n",
              "            style=\"display:none;\">\n",
              "\n",
              "  <svg xmlns=\"http://www.w3.org/2000/svg\" height=\"24px\" viewBox=\"0 -960 960 960\">\n",
              "    <path d=\"M120-120v-720h720v720H120Zm60-500h600v-160H180v160Zm220 220h160v-160H400v160Zm0 220h160v-160H400v160ZM180-400h160v-160H180v160Zm440 0h160v-160H620v160ZM180-180h160v-160H180v160Zm440 0h160v-160H620v160Z\"/>\n",
              "  </svg>\n",
              "    </button>\n",
              "\n",
              "  <style>\n",
              "    .colab-df-container {\n",
              "      display:flex;\n",
              "      gap: 12px;\n",
              "    }\n",
              "\n",
              "    .colab-df-convert {\n",
              "      background-color: #E8F0FE;\n",
              "      border: none;\n",
              "      border-radius: 50%;\n",
              "      cursor: pointer;\n",
              "      display: none;\n",
              "      fill: #1967D2;\n",
              "      height: 32px;\n",
              "      padding: 0 0 0 0;\n",
              "      width: 32px;\n",
              "    }\n",
              "\n",
              "    .colab-df-convert:hover {\n",
              "      background-color: #E2EBFA;\n",
              "      box-shadow: 0px 1px 2px rgba(60, 64, 67, 0.3), 0px 1px 3px 1px rgba(60, 64, 67, 0.15);\n",
              "      fill: #174EA6;\n",
              "    }\n",
              "\n",
              "    .colab-df-buttons div {\n",
              "      margin-bottom: 4px;\n",
              "    }\n",
              "\n",
              "    [theme=dark] .colab-df-convert {\n",
              "      background-color: #3B4455;\n",
              "      fill: #D2E3FC;\n",
              "    }\n",
              "\n",
              "    [theme=dark] .colab-df-convert:hover {\n",
              "      background-color: #434B5C;\n",
              "      box-shadow: 0px 1px 3px 1px rgba(0, 0, 0, 0.15);\n",
              "      filter: drop-shadow(0px 1px 2px rgba(0, 0, 0, 0.3));\n",
              "      fill: #FFFFFF;\n",
              "    }\n",
              "  </style>\n",
              "\n",
              "    <script>\n",
              "      const buttonEl =\n",
              "        document.querySelector('#df-d6cb1e43-d40b-41ba-b0a3-cc94132371d6 button.colab-df-convert');\n",
              "      buttonEl.style.display =\n",
              "        google.colab.kernel.accessAllowed ? 'block' : 'none';\n",
              "\n",
              "      async function convertToInteractive(key) {\n",
              "        const element = document.querySelector('#df-d6cb1e43-d40b-41ba-b0a3-cc94132371d6');\n",
              "        const dataTable =\n",
              "          await google.colab.kernel.invokeFunction('convertToInteractive',\n",
              "                                                    [key], {});\n",
              "        if (!dataTable) return;\n",
              "\n",
              "        const docLinkHtml = 'Like what you see? Visit the ' +\n",
              "          '<a target=\"_blank\" href=https://colab.research.google.com/notebooks/data_table.ipynb>data table notebook</a>'\n",
              "          + ' to learn more about interactive tables.';\n",
              "        element.innerHTML = '';\n",
              "        dataTable['output_type'] = 'display_data';\n",
              "        await google.colab.output.renderOutput(dataTable, element);\n",
              "        const docLink = document.createElement('div');\n",
              "        docLink.innerHTML = docLinkHtml;\n",
              "        element.appendChild(docLink);\n",
              "      }\n",
              "    </script>\n",
              "  </div>\n",
              "\n",
              "\n",
              "    <div id=\"df-aa5f12b1-5b9f-4ee3-9c49-73fda12fcd86\">\n",
              "      <button class=\"colab-df-quickchart\" onclick=\"quickchart('df-aa5f12b1-5b9f-4ee3-9c49-73fda12fcd86')\"\n",
              "                title=\"Suggest charts\"\n",
              "                style=\"display:none;\">\n",
              "\n",
              "<svg xmlns=\"http://www.w3.org/2000/svg\" height=\"24px\"viewBox=\"0 0 24 24\"\n",
              "     width=\"24px\">\n",
              "    <g>\n",
              "        <path d=\"M19 3H5c-1.1 0-2 .9-2 2v14c0 1.1.9 2 2 2h14c1.1 0 2-.9 2-2V5c0-1.1-.9-2-2-2zM9 17H7v-7h2v7zm4 0h-2V7h2v10zm4 0h-2v-4h2v4z\"/>\n",
              "    </g>\n",
              "</svg>\n",
              "      </button>\n",
              "\n",
              "<style>\n",
              "  .colab-df-quickchart {\n",
              "      --bg-color: #E8F0FE;\n",
              "      --fill-color: #1967D2;\n",
              "      --hover-bg-color: #E2EBFA;\n",
              "      --hover-fill-color: #174EA6;\n",
              "      --disabled-fill-color: #AAA;\n",
              "      --disabled-bg-color: #DDD;\n",
              "  }\n",
              "\n",
              "  [theme=dark] .colab-df-quickchart {\n",
              "      --bg-color: #3B4455;\n",
              "      --fill-color: #D2E3FC;\n",
              "      --hover-bg-color: #434B5C;\n",
              "      --hover-fill-color: #FFFFFF;\n",
              "      --disabled-bg-color: #3B4455;\n",
              "      --disabled-fill-color: #666;\n",
              "  }\n",
              "\n",
              "  .colab-df-quickchart {\n",
              "    background-color: var(--bg-color);\n",
              "    border: none;\n",
              "    border-radius: 50%;\n",
              "    cursor: pointer;\n",
              "    display: none;\n",
              "    fill: var(--fill-color);\n",
              "    height: 32px;\n",
              "    padding: 0;\n",
              "    width: 32px;\n",
              "  }\n",
              "\n",
              "  .colab-df-quickchart:hover {\n",
              "    background-color: var(--hover-bg-color);\n",
              "    box-shadow: 0 1px 2px rgba(60, 64, 67, 0.3), 0 1px 3px 1px rgba(60, 64, 67, 0.15);\n",
              "    fill: var(--button-hover-fill-color);\n",
              "  }\n",
              "\n",
              "  .colab-df-quickchart-complete:disabled,\n",
              "  .colab-df-quickchart-complete:disabled:hover {\n",
              "    background-color: var(--disabled-bg-color);\n",
              "    fill: var(--disabled-fill-color);\n",
              "    box-shadow: none;\n",
              "  }\n",
              "\n",
              "  .colab-df-spinner {\n",
              "    border: 2px solid var(--fill-color);\n",
              "    border-color: transparent;\n",
              "    border-bottom-color: var(--fill-color);\n",
              "    animation:\n",
              "      spin 1s steps(1) infinite;\n",
              "  }\n",
              "\n",
              "  @keyframes spin {\n",
              "    0% {\n",
              "      border-color: transparent;\n",
              "      border-bottom-color: var(--fill-color);\n",
              "      border-left-color: var(--fill-color);\n",
              "    }\n",
              "    20% {\n",
              "      border-color: transparent;\n",
              "      border-left-color: var(--fill-color);\n",
              "      border-top-color: var(--fill-color);\n",
              "    }\n",
              "    30% {\n",
              "      border-color: transparent;\n",
              "      border-left-color: var(--fill-color);\n",
              "      border-top-color: var(--fill-color);\n",
              "      border-right-color: var(--fill-color);\n",
              "    }\n",
              "    40% {\n",
              "      border-color: transparent;\n",
              "      border-right-color: var(--fill-color);\n",
              "      border-top-color: var(--fill-color);\n",
              "    }\n",
              "    60% {\n",
              "      border-color: transparent;\n",
              "      border-right-color: var(--fill-color);\n",
              "    }\n",
              "    80% {\n",
              "      border-color: transparent;\n",
              "      border-right-color: var(--fill-color);\n",
              "      border-bottom-color: var(--fill-color);\n",
              "    }\n",
              "    90% {\n",
              "      border-color: transparent;\n",
              "      border-bottom-color: var(--fill-color);\n",
              "    }\n",
              "  }\n",
              "</style>\n",
              "\n",
              "      <script>\n",
              "        async function quickchart(key) {\n",
              "          const quickchartButtonEl =\n",
              "            document.querySelector('#' + key + ' button');\n",
              "          quickchartButtonEl.disabled = true;  // To prevent multiple clicks.\n",
              "          quickchartButtonEl.classList.add('colab-df-spinner');\n",
              "          try {\n",
              "            const charts = await google.colab.kernel.invokeFunction(\n",
              "                'suggestCharts', [key], {});\n",
              "          } catch (error) {\n",
              "            console.error('Error during call to suggestCharts:', error);\n",
              "          }\n",
              "          quickchartButtonEl.classList.remove('colab-df-spinner');\n",
              "          quickchartButtonEl.classList.add('colab-df-quickchart-complete');\n",
              "        }\n",
              "        (() => {\n",
              "          let quickchartButtonEl =\n",
              "            document.querySelector('#df-aa5f12b1-5b9f-4ee3-9c49-73fda12fcd86 button');\n",
              "          quickchartButtonEl.style.display =\n",
              "            google.colab.kernel.accessAllowed ? 'block' : 'none';\n",
              "        })();\n",
              "      </script>\n",
              "    </div>\n",
              "\n",
              "    </div>\n",
              "  </div>\n"
            ],
            "application/vnd.google.colaboratory.intrinsic+json": {
              "type": "dataframe",
              "variable_name": "products_df",
              "summary": "{\n  \"name\": \"products_df\",\n  \"rows\": 5,\n  \"fields\": [\n    {\n      \"column\": \"Product_ID\",\n      \"properties\": {\n        \"dtype\": \"string\",\n        \"num_unique_values\": 5,\n        \"samples\": [\n          \"P002\",\n          \"P005\",\n          \"P003\"\n        ],\n        \"semantic_type\": \"\",\n        \"description\": \"\"\n      }\n    },\n    {\n      \"column\": \"Product_Name\",\n      \"properties\": {\n        \"dtype\": \"string\",\n        \"num_unique_values\": 5,\n        \"samples\": [\n          \"Mouse\",\n          \"USB Cable\",\n          \"Keyboard\"\n        ],\n        \"semantic_type\": \"\",\n        \"description\": \"\"\n      }\n    },\n    {\n      \"column\": \"Category\",\n      \"properties\": {\n        \"dtype\": \"category\",\n        \"num_unique_values\": 2,\n        \"samples\": [\n          \"Accessories\",\n          \"Electronics\"\n        ],\n        \"semantic_type\": \"\",\n        \"description\": \"\"\n      }\n    },\n    {\n      \"column\": \"Price\",\n      \"properties\": {\n        \"dtype\": \"number\",\n        \"std\": 508,\n        \"min\": 10,\n        \"max\": 1200,\n        \"num_unique_values\": 5,\n        \"samples\": [\n          25,\n          10\n        ],\n        \"semantic_type\": \"\",\n        \"description\": \"\"\n      }\n    },\n    {\n      \"column\": \"Units_Sold\",\n      \"properties\": {\n        \"dtype\": \"number\",\n        \"std\": 179,\n        \"min\": 50,\n        \"max\": 500,\n        \"num_unique_values\": 5,\n        \"samples\": [\n          200,\n          500\n        ],\n        \"semantic_type\": \"\",\n        \"description\": \"\"\n      }\n    },\n    {\n      \"column\": \"Rating\",\n      \"properties\": {\n        \"dtype\": \"number\",\n        \"std\": 0.36469165057620945,\n        \"min\": 3.8,\n        \"max\": 4.7,\n        \"num_unique_values\": 5,\n        \"samples\": [\n          4.2,\n          3.8\n        ],\n        \"semantic_type\": \"\",\n        \"description\": \"\"\n      }\n    }\n  ]\n}"
            }
          },
          "metadata": {},
          "execution_count": 56
        }
      ],
      "source": [
        "# Viewing the first few rows\n",
        "print(\"First 3 rows:\")\n",
        "products_df.head(3)"
      ]
    },
    {
      "cell_type": "code",
      "source": [
        "products_df.tail(3)"
      ],
      "metadata": {
        "colab": {
          "base_uri": "https://localhost:8080/",
          "height": 143
        },
        "id": "r5ZkBZ-z0Pep",
        "outputId": "d02f9193-242f-42da-9635-ba6c6a018d24"
      },
      "execution_count": null,
      "outputs": [
        {
          "output_type": "execute_result",
          "data": {
            "text/plain": [
              "  Product_ID Product_Name     Category  Price  Units_Sold  Rating\n",
              "2       P003     Keyboard  Accessories     45         150     4.0\n",
              "3       P004      Monitor  Electronics    300          80     4.7\n",
              "4       P005    USB Cable  Accessories     10         500     3.8"
            ],
            "text/html": [
              "\n",
              "  <div id=\"df-851b86cf-e2ad-4786-89a8-9291131eb7ad\" class=\"colab-df-container\">\n",
              "    <div>\n",
              "<style scoped>\n",
              "    .dataframe tbody tr th:only-of-type {\n",
              "        vertical-align: middle;\n",
              "    }\n",
              "\n",
              "    .dataframe tbody tr th {\n",
              "        vertical-align: top;\n",
              "    }\n",
              "\n",
              "    .dataframe thead th {\n",
              "        text-align: right;\n",
              "    }\n",
              "</style>\n",
              "<table border=\"1\" class=\"dataframe\">\n",
              "  <thead>\n",
              "    <tr style=\"text-align: right;\">\n",
              "      <th></th>\n",
              "      <th>Product_ID</th>\n",
              "      <th>Product_Name</th>\n",
              "      <th>Category</th>\n",
              "      <th>Price</th>\n",
              "      <th>Units_Sold</th>\n",
              "      <th>Rating</th>\n",
              "    </tr>\n",
              "  </thead>\n",
              "  <tbody>\n",
              "    <tr>\n",
              "      <th>2</th>\n",
              "      <td>P003</td>\n",
              "      <td>Keyboard</td>\n",
              "      <td>Accessories</td>\n",
              "      <td>45</td>\n",
              "      <td>150</td>\n",
              "      <td>4.0</td>\n",
              "    </tr>\n",
              "    <tr>\n",
              "      <th>3</th>\n",
              "      <td>P004</td>\n",
              "      <td>Monitor</td>\n",
              "      <td>Electronics</td>\n",
              "      <td>300</td>\n",
              "      <td>80</td>\n",
              "      <td>4.7</td>\n",
              "    </tr>\n",
              "    <tr>\n",
              "      <th>4</th>\n",
              "      <td>P005</td>\n",
              "      <td>USB Cable</td>\n",
              "      <td>Accessories</td>\n",
              "      <td>10</td>\n",
              "      <td>500</td>\n",
              "      <td>3.8</td>\n",
              "    </tr>\n",
              "  </tbody>\n",
              "</table>\n",
              "</div>\n",
              "    <div class=\"colab-df-buttons\">\n",
              "\n",
              "  <div class=\"colab-df-container\">\n",
              "    <button class=\"colab-df-convert\" onclick=\"convertToInteractive('df-851b86cf-e2ad-4786-89a8-9291131eb7ad')\"\n",
              "            title=\"Convert this dataframe to an interactive table.\"\n",
              "            style=\"display:none;\">\n",
              "\n",
              "  <svg xmlns=\"http://www.w3.org/2000/svg\" height=\"24px\" viewBox=\"0 -960 960 960\">\n",
              "    <path d=\"M120-120v-720h720v720H120Zm60-500h600v-160H180v160Zm220 220h160v-160H400v160Zm0 220h160v-160H400v160ZM180-400h160v-160H180v160Zm440 0h160v-160H620v160ZM180-180h160v-160H180v160Zm440 0h160v-160H620v160Z\"/>\n",
              "  </svg>\n",
              "    </button>\n",
              "\n",
              "  <style>\n",
              "    .colab-df-container {\n",
              "      display:flex;\n",
              "      gap: 12px;\n",
              "    }\n",
              "\n",
              "    .colab-df-convert {\n",
              "      background-color: #E8F0FE;\n",
              "      border: none;\n",
              "      border-radius: 50%;\n",
              "      cursor: pointer;\n",
              "      display: none;\n",
              "      fill: #1967D2;\n",
              "      height: 32px;\n",
              "      padding: 0 0 0 0;\n",
              "      width: 32px;\n",
              "    }\n",
              "\n",
              "    .colab-df-convert:hover {\n",
              "      background-color: #E2EBFA;\n",
              "      box-shadow: 0px 1px 2px rgba(60, 64, 67, 0.3), 0px 1px 3px 1px rgba(60, 64, 67, 0.15);\n",
              "      fill: #174EA6;\n",
              "    }\n",
              "\n",
              "    .colab-df-buttons div {\n",
              "      margin-bottom: 4px;\n",
              "    }\n",
              "\n",
              "    [theme=dark] .colab-df-convert {\n",
              "      background-color: #3B4455;\n",
              "      fill: #D2E3FC;\n",
              "    }\n",
              "\n",
              "    [theme=dark] .colab-df-convert:hover {\n",
              "      background-color: #434B5C;\n",
              "      box-shadow: 0px 1px 3px 1px rgba(0, 0, 0, 0.15);\n",
              "      filter: drop-shadow(0px 1px 2px rgba(0, 0, 0, 0.3));\n",
              "      fill: #FFFFFF;\n",
              "    }\n",
              "  </style>\n",
              "\n",
              "    <script>\n",
              "      const buttonEl =\n",
              "        document.querySelector('#df-851b86cf-e2ad-4786-89a8-9291131eb7ad button.colab-df-convert');\n",
              "      buttonEl.style.display =\n",
              "        google.colab.kernel.accessAllowed ? 'block' : 'none';\n",
              "\n",
              "      async function convertToInteractive(key) {\n",
              "        const element = document.querySelector('#df-851b86cf-e2ad-4786-89a8-9291131eb7ad');\n",
              "        const dataTable =\n",
              "          await google.colab.kernel.invokeFunction('convertToInteractive',\n",
              "                                                    [key], {});\n",
              "        if (!dataTable) return;\n",
              "\n",
              "        const docLinkHtml = 'Like what you see? Visit the ' +\n",
              "          '<a target=\"_blank\" href=https://colab.research.google.com/notebooks/data_table.ipynb>data table notebook</a>'\n",
              "          + ' to learn more about interactive tables.';\n",
              "        element.innerHTML = '';\n",
              "        dataTable['output_type'] = 'display_data';\n",
              "        await google.colab.output.renderOutput(dataTable, element);\n",
              "        const docLink = document.createElement('div');\n",
              "        docLink.innerHTML = docLinkHtml;\n",
              "        element.appendChild(docLink);\n",
              "      }\n",
              "    </script>\n",
              "  </div>\n",
              "\n",
              "\n",
              "    <div id=\"df-d83328a9-d1bb-4211-9916-6f684be582bb\">\n",
              "      <button class=\"colab-df-quickchart\" onclick=\"quickchart('df-d83328a9-d1bb-4211-9916-6f684be582bb')\"\n",
              "                title=\"Suggest charts\"\n",
              "                style=\"display:none;\">\n",
              "\n",
              "<svg xmlns=\"http://www.w3.org/2000/svg\" height=\"24px\"viewBox=\"0 0 24 24\"\n",
              "     width=\"24px\">\n",
              "    <g>\n",
              "        <path d=\"M19 3H5c-1.1 0-2 .9-2 2v14c0 1.1.9 2 2 2h14c1.1 0 2-.9 2-2V5c0-1.1-.9-2-2-2zM9 17H7v-7h2v7zm4 0h-2V7h2v10zm4 0h-2v-4h2v4z\"/>\n",
              "    </g>\n",
              "</svg>\n",
              "      </button>\n",
              "\n",
              "<style>\n",
              "  .colab-df-quickchart {\n",
              "      --bg-color: #E8F0FE;\n",
              "      --fill-color: #1967D2;\n",
              "      --hover-bg-color: #E2EBFA;\n",
              "      --hover-fill-color: #174EA6;\n",
              "      --disabled-fill-color: #AAA;\n",
              "      --disabled-bg-color: #DDD;\n",
              "  }\n",
              "\n",
              "  [theme=dark] .colab-df-quickchart {\n",
              "      --bg-color: #3B4455;\n",
              "      --fill-color: #D2E3FC;\n",
              "      --hover-bg-color: #434B5C;\n",
              "      --hover-fill-color: #FFFFFF;\n",
              "      --disabled-bg-color: #3B4455;\n",
              "      --disabled-fill-color: #666;\n",
              "  }\n",
              "\n",
              "  .colab-df-quickchart {\n",
              "    background-color: var(--bg-color);\n",
              "    border: none;\n",
              "    border-radius: 50%;\n",
              "    cursor: pointer;\n",
              "    display: none;\n",
              "    fill: var(--fill-color);\n",
              "    height: 32px;\n",
              "    padding: 0;\n",
              "    width: 32px;\n",
              "  }\n",
              "\n",
              "  .colab-df-quickchart:hover {\n",
              "    background-color: var(--hover-bg-color);\n",
              "    box-shadow: 0 1px 2px rgba(60, 64, 67, 0.3), 0 1px 3px 1px rgba(60, 64, 67, 0.15);\n",
              "    fill: var(--button-hover-fill-color);\n",
              "  }\n",
              "\n",
              "  .colab-df-quickchart-complete:disabled,\n",
              "  .colab-df-quickchart-complete:disabled:hover {\n",
              "    background-color: var(--disabled-bg-color);\n",
              "    fill: var(--disabled-fill-color);\n",
              "    box-shadow: none;\n",
              "  }\n",
              "\n",
              "  .colab-df-spinner {\n",
              "    border: 2px solid var(--fill-color);\n",
              "    border-color: transparent;\n",
              "    border-bottom-color: var(--fill-color);\n",
              "    animation:\n",
              "      spin 1s steps(1) infinite;\n",
              "  }\n",
              "\n",
              "  @keyframes spin {\n",
              "    0% {\n",
              "      border-color: transparent;\n",
              "      border-bottom-color: var(--fill-color);\n",
              "      border-left-color: var(--fill-color);\n",
              "    }\n",
              "    20% {\n",
              "      border-color: transparent;\n",
              "      border-left-color: var(--fill-color);\n",
              "      border-top-color: var(--fill-color);\n",
              "    }\n",
              "    30% {\n",
              "      border-color: transparent;\n",
              "      border-left-color: var(--fill-color);\n",
              "      border-top-color: var(--fill-color);\n",
              "      border-right-color: var(--fill-color);\n",
              "    }\n",
              "    40% {\n",
              "      border-color: transparent;\n",
              "      border-right-color: var(--fill-color);\n",
              "      border-top-color: var(--fill-color);\n",
              "    }\n",
              "    60% {\n",
              "      border-color: transparent;\n",
              "      border-right-color: var(--fill-color);\n",
              "    }\n",
              "    80% {\n",
              "      border-color: transparent;\n",
              "      border-right-color: var(--fill-color);\n",
              "      border-bottom-color: var(--fill-color);\n",
              "    }\n",
              "    90% {\n",
              "      border-color: transparent;\n",
              "      border-bottom-color: var(--fill-color);\n",
              "    }\n",
              "  }\n",
              "</style>\n",
              "\n",
              "      <script>\n",
              "        async function quickchart(key) {\n",
              "          const quickchartButtonEl =\n",
              "            document.querySelector('#' + key + ' button');\n",
              "          quickchartButtonEl.disabled = true;  // To prevent multiple clicks.\n",
              "          quickchartButtonEl.classList.add('colab-df-spinner');\n",
              "          try {\n",
              "            const charts = await google.colab.kernel.invokeFunction(\n",
              "                'suggestCharts', [key], {});\n",
              "          } catch (error) {\n",
              "            console.error('Error during call to suggestCharts:', error);\n",
              "          }\n",
              "          quickchartButtonEl.classList.remove('colab-df-spinner');\n",
              "          quickchartButtonEl.classList.add('colab-df-quickchart-complete');\n",
              "        }\n",
              "        (() => {\n",
              "          let quickchartButtonEl =\n",
              "            document.querySelector('#df-d83328a9-d1bb-4211-9916-6f684be582bb button');\n",
              "          quickchartButtonEl.style.display =\n",
              "            google.colab.kernel.accessAllowed ? 'block' : 'none';\n",
              "        })();\n",
              "      </script>\n",
              "    </div>\n",
              "\n",
              "    </div>\n",
              "  </div>\n"
            ],
            "application/vnd.google.colaboratory.intrinsic+json": {
              "type": "dataframe",
              "summary": "{\n  \"name\": \"products_df\",\n  \"rows\": 3,\n  \"fields\": [\n    {\n      \"column\": \"Product_ID\",\n      \"properties\": {\n        \"dtype\": \"string\",\n        \"num_unique_values\": 3,\n        \"samples\": [\n          \"P003\",\n          \"P004\",\n          \"P005\"\n        ],\n        \"semantic_type\": \"\",\n        \"description\": \"\"\n      }\n    },\n    {\n      \"column\": \"Product_Name\",\n      \"properties\": {\n        \"dtype\": \"string\",\n        \"num_unique_values\": 3,\n        \"samples\": [\n          \"Keyboard\",\n          \"Monitor\",\n          \"USB Cable\"\n        ],\n        \"semantic_type\": \"\",\n        \"description\": \"\"\n      }\n    },\n    {\n      \"column\": \"Category\",\n      \"properties\": {\n        \"dtype\": \"string\",\n        \"num_unique_values\": 2,\n        \"samples\": [\n          \"Electronics\",\n          \"Accessories\"\n        ],\n        \"semantic_type\": \"\",\n        \"description\": \"\"\n      }\n    },\n    {\n      \"column\": \"Price\",\n      \"properties\": {\n        \"dtype\": \"number\",\n        \"std\": 158,\n        \"min\": 10,\n        \"max\": 300,\n        \"num_unique_values\": 3,\n        \"samples\": [\n          45,\n          300\n        ],\n        \"semantic_type\": \"\",\n        \"description\": \"\"\n      }\n    },\n    {\n      \"column\": \"Units_Sold\",\n      \"properties\": {\n        \"dtype\": \"number\",\n        \"std\": 225,\n        \"min\": 80,\n        \"max\": 500,\n        \"num_unique_values\": 3,\n        \"samples\": [\n          150,\n          80\n        ],\n        \"semantic_type\": \"\",\n        \"description\": \"\"\n      }\n    },\n    {\n      \"column\": \"Rating\",\n      \"properties\": {\n        \"dtype\": \"number\",\n        \"std\": 0.472581562625261,\n        \"min\": 3.8,\n        \"max\": 4.7,\n        \"num_unique_values\": 3,\n        \"samples\": [\n          4.0,\n          4.7\n        ],\n        \"semantic_type\": \"\",\n        \"description\": \"\"\n      }\n    }\n  ]\n}"
            }
          },
          "metadata": {},
          "execution_count": 57
        }
      ]
    },
    {
      "cell_type": "code",
      "execution_count": null,
      "metadata": {
        "colab": {
          "base_uri": "https://localhost:8080/"
        },
        "id": "3wBrX7z2dAsn",
        "outputId": "1abe7ef3-c280-4ed7-9bd1-f601fe90511a"
      },
      "outputs": [
        {
          "output_type": "stream",
          "name": "stdout",
          "text": [
            "DataFrame Info:\n",
            "<class 'pandas.core.frame.DataFrame'>\n",
            "RangeIndex: 5 entries, 0 to 4\n",
            "Data columns (total 6 columns):\n",
            " #   Column        Non-Null Count  Dtype  \n",
            "---  ------        --------------  -----  \n",
            " 0   Product_ID    5 non-null      object \n",
            " 1   Product_Name  5 non-null      object \n",
            " 2   Category      5 non-null      object \n",
            " 3   Price         5 non-null      int64  \n",
            " 4   Units_Sold    5 non-null      int64  \n",
            " 5   Rating        5 non-null      float64\n",
            "dtypes: float64(1), int64(2), object(3)\n",
            "memory usage: 372.0+ bytes\n"
          ]
        }
      ],
      "source": [
        "# Getting basic information about the DataFrame\n",
        "print(\"DataFrame Info:\")\n",
        "products_df.info()"
      ]
    },
    {
      "cell_type": "code",
      "execution_count": null,
      "metadata": {
        "colab": {
          "base_uri": "https://localhost:8080/"
        },
        "id": "SYVGxps_dAsn",
        "outputId": "311cfc97-2de9-4e24-e0b1-a756e4692687"
      },
      "outputs": [
        {
          "output_type": "stream",
          "name": "stdout",
          "text": [
            "Descriptive Statistics:\n",
            "             Price  Units_Sold    Rating\n",
            "count     5.000000     5.00000  5.000000\n",
            "mean    316.000000   196.00000  4.240000\n",
            "std     508.298633   179.80545  0.364692\n",
            "min      10.000000    50.00000  3.800000\n",
            "25%      25.000000    80.00000  4.000000\n",
            "50%      45.000000   150.00000  4.200000\n",
            "75%     300.000000   200.00000  4.500000\n",
            "max    1200.000000   500.00000  4.700000\n"
          ]
        }
      ],
      "source": [
        "# Getting descriptive statistics\n",
        "print(\"Descriptive Statistics:\")\n",
        "print(products_df.describe())"
      ]
    },
    {
      "cell_type": "code",
      "execution_count": null,
      "metadata": {
        "colab": {
          "base_uri": "https://localhost:8080/"
        },
        "id": "v01HU_SsdAsn",
        "outputId": "ce8b6672-30e7-4460-86ac-ef5d6fc29e88"
      },
      "outputs": [
        {
          "output_type": "stream",
          "name": "stdout",
          "text": [
            "Data Types:\n",
            "Product_ID       object\n",
            "Product_Name     object\n",
            "Category         object\n",
            "Price             int64\n",
            "Units_Sold        int64\n",
            "Rating          float64\n",
            "dtype: object\n"
          ]
        }
      ],
      "source": [
        "# Checking data types of columns\n",
        "print(\"Data Types:\")\n",
        "print(products_df.dtypes)"
      ]
    },
    {
      "cell_type": "markdown",
      "metadata": {
        "id": "KAfGp25sdAsn"
      },
      "source": [
        "### **Indexing and Selection** <a name=\"indexing-selection\"></a>"
      ]
    },
    {
      "cell_type": "code",
      "execution_count": null,
      "metadata": {
        "colab": {
          "base_uri": "https://localhost:8080/"
        },
        "id": "C4rDZg1YdAsn",
        "outputId": "42537ba3-3fe4-4372-d124-27d27d5eaa0b"
      },
      "outputs": [
        {
          "output_type": "stream",
          "name": "stdout",
          "text": [
            "Product Name column:\n",
            "0       Laptop\n",
            "1        Mouse\n",
            "2     Keyboard\n",
            "3      Monitor\n",
            "4    USB Cable\n",
            "Name: Product_Name, dtype: object\n",
            "<class 'pandas.core.series.Series'>\n"
          ]
        }
      ],
      "source": [
        "# Selecting a single column\n",
        "print(\"Product Name column:\")\n",
        "print(products_df[\"Product_Name\"])\n",
        "print(type(products_df[\"Product_Name\"]))"
      ]
    },
    {
      "cell_type": "code",
      "execution_count": null,
      "metadata": {
        "colab": {
          "base_uri": "https://localhost:8080/"
        },
        "id": "Nd17ZzPOdAso",
        "outputId": "7503ef8a-03ca-4339-fcef-68855c03224c"
      },
      "outputs": [
        {
          "output_type": "stream",
          "name": "stdout",
          "text": [
            "Product Name and Price columns:\n",
            "  Product_Name  Price\n",
            "0       Laptop   1200\n",
            "1        Mouse     25\n",
            "2     Keyboard     45\n",
            "3      Monitor    300\n",
            "4    USB Cable     10\n"
          ]
        }
      ],
      "source": [
        "# Selecting multiple columns\n",
        "print(\"Product Name and Price columns:\")\n",
        "print(products_df[[\"Product_Name\", \"Price\"]])"
      ]
    },
    {
      "cell_type": "code",
      "execution_count": null,
      "metadata": {
        "colab": {
          "base_uri": "https://localhost:8080/"
        },
        "id": "jBfpXRrOdAso",
        "outputId": "a64bfaf4-e018-4929-90e7-03795e5c9d40"
      },
      "outputs": [
        {
          "output_type": "stream",
          "name": "stdout",
          "text": [
            "Using .loc to select rows 1-3 and specific columns:\n",
            "  Product_Name  Price\n",
            "1        Mouse     25\n",
            "2     Keyboard     45\n",
            "3      Monitor    300\n"
          ]
        }
      ],
      "source": [
        "# Using .loc for label-based indexing\n",
        "print(\"Using .loc to select rows 1-3 and specific columns:\")\n",
        "print(products_df.loc[1:3, [\"Product_Name\", \"Price\"]])"
      ]
    },
    {
      "cell_type": "code",
      "execution_count": null,
      "metadata": {
        "colab": {
          "base_uri": "https://localhost:8080/"
        },
        "id": "GZIFe75DdAso",
        "outputId": "5f8818ca-c1e4-4a89-ea0d-6530ba1b8587"
      },
      "outputs": [
        {
          "output_type": "stream",
          "name": "stdout",
          "text": [
            "Using .iloc to select rows 1-3 and columns 1-3:\n",
            "  Product_Name     Category  Price\n",
            "1        Mouse  Accessories     25\n",
            "2     Keyboard  Accessories     45\n",
            "3      Monitor  Electronics    300\n"
          ]
        }
      ],
      "source": [
        "# Using .iloc for integer-based indexing\n",
        "print(\"Using .iloc to select rows 1-3 and columns 1-3:\")\n",
        "print(products_df.iloc[1:4, 1:4])"
      ]
    },
    {
      "cell_type": "markdown",
      "metadata": {
        "id": "WgbUchUOdAso"
      },
      "source": [
        "> **Advanced Learning:** Pandas offers advanced indexing techniques including MultiIndex for hierarchical data, boolean indexing for complex conditions, and cross-section selection. Learn more at [Pandas Advanced Indexing](https://pandas.pydata.org/docs/user_guide/advanced.html)"
      ]
    },
    {
      "cell_type": "markdown",
      "metadata": {
        "id": "cAihmRqKdAso"
      },
      "source": [
        "### **Filtering and Querying** <a name=\"filtering-querying\"></a>"
      ]
    },
    {
      "cell_type": "code",
      "execution_count": null,
      "metadata": {
        "colab": {
          "base_uri": "https://localhost:8080/"
        },
        "id": "UdQgcr9FdAso",
        "outputId": "3e49e2b1-dd9a-41be-e45e-171157f1d0b0"
      },
      "outputs": [
        {
          "output_type": "stream",
          "name": "stdout",
          "text": [
            "Products with Price > 100:\n",
            "  Product_ID Product_Name     Category  Price  Units_Sold  Rating\n",
            "0       P001       Laptop  Electronics   1200          50     4.5\n",
            "3       P004      Monitor  Electronics    300          80     4.7\n"
          ]
        }
      ],
      "source": [
        "# Filtering based on a condition\n",
        "print(\"Products with Price > 100:\")\n",
        "expensive_products = products_df[products_df[\"Price\"] > 100]\n",
        "print(expensive_products)"
      ]
    },
    {
      "cell_type": "code",
      "source": [
        "products_df[\"Category\"] == \"Electronics\""
      ],
      "metadata": {
        "colab": {
          "base_uri": "https://localhost:8080/",
          "height": 241
        },
        "id": "Ip4w9R3B4Na-",
        "outputId": "c2db37e4-2ae0-4d1b-ddfc-c5a7d9e53077"
      },
      "execution_count": null,
      "outputs": [
        {
          "output_type": "execute_result",
          "data": {
            "text/plain": [
              "0     True\n",
              "1    False\n",
              "2    False\n",
              "3     True\n",
              "4    False\n",
              "Name: Category, dtype: bool"
            ],
            "text/html": [
              "<div>\n",
              "<style scoped>\n",
              "    .dataframe tbody tr th:only-of-type {\n",
              "        vertical-align: middle;\n",
              "    }\n",
              "\n",
              "    .dataframe tbody tr th {\n",
              "        vertical-align: top;\n",
              "    }\n",
              "\n",
              "    .dataframe thead th {\n",
              "        text-align: right;\n",
              "    }\n",
              "</style>\n",
              "<table border=\"1\" class=\"dataframe\">\n",
              "  <thead>\n",
              "    <tr style=\"text-align: right;\">\n",
              "      <th></th>\n",
              "      <th>Category</th>\n",
              "    </tr>\n",
              "  </thead>\n",
              "  <tbody>\n",
              "    <tr>\n",
              "      <th>0</th>\n",
              "      <td>True</td>\n",
              "    </tr>\n",
              "    <tr>\n",
              "      <th>1</th>\n",
              "      <td>False</td>\n",
              "    </tr>\n",
              "    <tr>\n",
              "      <th>2</th>\n",
              "      <td>False</td>\n",
              "    </tr>\n",
              "    <tr>\n",
              "      <th>3</th>\n",
              "      <td>True</td>\n",
              "    </tr>\n",
              "    <tr>\n",
              "      <th>4</th>\n",
              "      <td>False</td>\n",
              "    </tr>\n",
              "  </tbody>\n",
              "</table>\n",
              "</div><br><label><b>dtype:</b> bool</label>"
            ]
          },
          "metadata": {},
          "execution_count": 62
        }
      ]
    },
    {
      "cell_type": "code",
      "execution_count": null,
      "metadata": {
        "colab": {
          "base_uri": "https://localhost:8080/"
        },
        "id": "idtvU_k4dAso",
        "outputId": "c2738f42-5dee-4cb2-e517-5a5364b353d3"
      },
      "outputs": [
        {
          "output_type": "stream",
          "name": "stdout",
          "text": [
            "Electronics products with Price > 100:\n",
            "  Product_ID Product_Name     Category  Price  Units_Sold  Rating\n",
            "0       P001       Laptop  Electronics   1200          50     4.5\n",
            "3       P004      Monitor  Electronics    300          80     4.7\n"
          ]
        }
      ],
      "source": [
        "# Multiple conditions\n",
        "print(\"Electronics products with Price > 100:\")\n",
        "filtered = products_df[(products_df[\"Category\"] == \"Electronics\") & (products_df[\"Price\"] > 100)]\n",
        "print(filtered)"
      ]
    },
    {
      "cell_type": "code",
      "execution_count": null,
      "metadata": {
        "colab": {
          "base_uri": "https://localhost:8080/"
        },
        "id": "VF7lmu5tdAso",
        "outputId": "ea4abe63-dc98-42d4-b6d1-465a4dc5d26f"
      },
      "outputs": [
        {
          "output_type": "stream",
          "name": "stdout",
          "text": [
            "Using query method:\n",
            "  Product_ID Product_Name     Category  Price  Units_Sold  Rating\n",
            "1       P002        Mouse  Accessories     25         200     4.2\n",
            "4       P005    USB Cable  Accessories     10         500     3.8\n"
          ]
        }
      ],
      "source": [
        "# Using the query method\n",
        "print(\"Using query method:\")\n",
        "query_result = products_df.query(\"Category == 'Accessories' and Units_Sold > 150\")\n",
        "print(query_result)"
      ]
    },
    {
      "cell_type": "markdown",
      "metadata": {
        "id": "6RKifLdPdAso"
      },
      "source": [
        "### **Data Cleaning** <a name=\"data-cleaning\"></a>"
      ]
    },
    {
      "cell_type": "code",
      "execution_count": null,
      "metadata": {
        "colab": {
          "base_uri": "https://localhost:8080/"
        },
        "id": "fRHKrVm7dAsr",
        "outputId": "8293b06d-2b5b-491f-e678-f332c18917b6"
      },
      "outputs": [
        {
          "output_type": "stream",
          "name": "stdout",
          "text": [
            "DataFrame with missing values:\n",
            "   ID   Name   Age   Salary Department\n",
            "0   1  Alice  25.0  50000.0         HR\n",
            "1   2    Bob  30.0  60000.0         IT\n",
            "2   3   None  35.0  70000.0    Finance\n",
            "3   4  David   NaN  80000.0         IT\n",
            "4   5    Eve  40.0      NaN         HR\n"
          ]
        }
      ],
      "source": [
        "# Create a DataFrame with missing values for demonstration\n",
        "dirty_data = {\n",
        "    \"ID\": [1, 2, 3, 4, 5],\n",
        "    \"Name\": [\"Alice\", \"Bob\", None, \"David\", \"Eve\"],\n",
        "    \"Age\": [25, 30, 35, None, 40],\n",
        "    \"Salary\": [50000, 60000, 70000, 80000, None],\n",
        "    \"Department\": [\"HR\", \"IT\", \"Finance\", \"IT\", \"HR\"]\n",
        "}\n",
        "dirty_df = pd.DataFrame(dirty_data)\n",
        "print(\"DataFrame with missing values:\")\n",
        "print(dirty_df)"
      ]
    },
    {
      "cell_type": "code",
      "execution_count": null,
      "metadata": {
        "colab": {
          "base_uri": "https://localhost:8080/"
        },
        "id": "d2WRL9WFdAss",
        "outputId": "71d8b9dc-08bb-4b5e-9de9-394d5bb88f89"
      },
      "outputs": [
        {
          "output_type": "stream",
          "name": "stdout",
          "text": [
            "Missing values count:\n",
            "ID            0\n",
            "Name          1\n",
            "Age           1\n",
            "Salary        1\n",
            "Department    0\n",
            "dtype: int64\n"
          ]
        }
      ],
      "source": [
        "# Checking for missing values\n",
        "print(\"Missing values count:\")\n",
        "print(dirty_df.isnull().sum())"
      ]
    },
    {
      "cell_type": "code",
      "execution_count": null,
      "metadata": {
        "colab": {
          "base_uri": "https://localhost:8080/"
        },
        "id": "vaiNfRezdAss",
        "outputId": "60399b44-6aa8-4a15-e08f-3c0275151caa"
      },
      "outputs": [
        {
          "output_type": "stream",
          "name": "stdout",
          "text": [
            "Dropping rows with missing values:\n",
            "   ID   Name   Age   Salary Department\n",
            "0   1  Alice  25.0  50000.0         HR\n",
            "1   2    Bob  30.0  60000.0         IT\n"
          ]
        }
      ],
      "source": [
        "# Handling missing values - drop rows with missing values\n",
        "print(\"Dropping rows with missing values:\")\n",
        "clean_df = dirty_df.dropna()\n",
        "print(clean_df)"
      ]
    },
    {
      "cell_type": "code",
      "execution_count": null,
      "metadata": {
        "colab": {
          "base_uri": "https://localhost:8080/"
        },
        "id": "e-o3TKBydAss",
        "outputId": "f0825c0b-7526-4496-93dc-5c54183b84cc"
      },
      "outputs": [
        {
          "output_type": "stream",
          "name": "stdout",
          "text": [
            "Filling missing values:\n",
            "   ID     Name   Age   Salary Department\n",
            "0   1    Alice  25.0  50000.0         HR\n",
            "1   2      Bob  30.0  60000.0         IT\n",
            "2   3  Unknown  35.0  70000.0    Finance\n",
            "3   4    David  32.5  80000.0         IT\n",
            "4   5      Eve  40.0  65000.0         HR\n"
          ]
        },
        {
          "output_type": "stream",
          "name": "stderr",
          "text": [
            "/tmp/ipython-input-3352152146.py:4: FutureWarning: A value is trying to be set on a copy of a DataFrame or Series through chained assignment using an inplace method.\n",
            "The behavior will change in pandas 3.0. This inplace method will never work because the intermediate object on which we are setting values always behaves as a copy.\n",
            "\n",
            "For example, when doing 'df[col].method(value, inplace=True)', try using 'df.method({col: value}, inplace=True)' or df[col] = df[col].method(value) instead, to perform the operation inplace on the original object.\n",
            "\n",
            "\n",
            "  filled_df[\"Name\"].fillna(\"Unknown\", inplace=True)\n",
            "/tmp/ipython-input-3352152146.py:5: FutureWarning: A value is trying to be set on a copy of a DataFrame or Series through chained assignment using an inplace method.\n",
            "The behavior will change in pandas 3.0. This inplace method will never work because the intermediate object on which we are setting values always behaves as a copy.\n",
            "\n",
            "For example, when doing 'df[col].method(value, inplace=True)', try using 'df.method({col: value}, inplace=True)' or df[col] = df[col].method(value) instead, to perform the operation inplace on the original object.\n",
            "\n",
            "\n",
            "  filled_df[\"Age\"].fillna(dirty_df[\"Age\"].mean(), inplace=True)\n",
            "/tmp/ipython-input-3352152146.py:6: FutureWarning: A value is trying to be set on a copy of a DataFrame or Series through chained assignment using an inplace method.\n",
            "The behavior will change in pandas 3.0. This inplace method will never work because the intermediate object on which we are setting values always behaves as a copy.\n",
            "\n",
            "For example, when doing 'df[col].method(value, inplace=True)', try using 'df.method({col: value}, inplace=True)' or df[col] = df[col].method(value) instead, to perform the operation inplace on the original object.\n",
            "\n",
            "\n",
            "  filled_df[\"Salary\"].fillna(dirty_df[\"Salary\"].median(), inplace=True)\n"
          ]
        }
      ],
      "source": [
        "# Handling missing values - fill with default values\n",
        "print(\"Filling missing values:\")\n",
        "filled_df = dirty_df.copy()\n",
        "filled_df[\"Name\"].fillna(\"Unknown\", inplace=True)\n",
        "filled_df[\"Age\"].fillna(dirty_df[\"Age\"].mean(), inplace=True)\n",
        "filled_df[\"Salary\"].fillna(dirty_df[\"Salary\"].median(), inplace=True)\n",
        "print(filled_df)"
      ]
    },
    {
      "cell_type": "code",
      "execution_count": null,
      "metadata": {
        "colab": {
          "base_uri": "https://localhost:8080/"
        },
        "id": "Z5v28huadAss",
        "outputId": "3e92133b-39e7-4613-b990-afb5b64e7ec0"
      },
      "outputs": [
        {
          "output_type": "stream",
          "name": "stdout",
          "text": [
            "Duplicate rows:\n",
            "0\n"
          ]
        }
      ],
      "source": [
        "# Checking for duplicates\n",
        "print(\"Duplicate rows:\")\n",
        "print(dirty_df.duplicated().sum())"
      ]
    },
    {
      "cell_type": "markdown",
      "metadata": {
        "id": "N5UphEj0dAss"
      },
      "source": [
        "> **Advanced Learning:** For advanced data cleaning, explore techniques like outlier detection using statistical methods, custom imputation strategies, and handling categorical variables with encoding methods. Learn more at [Pandas Data Cleaning](https://pandas.pydata.org/docs/user_guide/missing_data.html)"
      ]
    },
    {
      "cell_type": "markdown",
      "metadata": {
        "id": "AUov1kbjdAss"
      },
      "source": [
        "### **Grouping and Aggregation** <a name=\"grouping-aggregation\"></a>"
      ]
    },
    {
      "cell_type": "code",
      "execution_count": null,
      "metadata": {
        "colab": {
          "base_uri": "https://localhost:8080/"
        },
        "id": "lmhHMOOgdAss",
        "outputId": "e5dc09ae-194d-46cc-f213-39fa63d8c8e7"
      },
      "outputs": [
        {
          "output_type": "stream",
          "name": "stdout",
          "text": [
            "Mean price by category:\n",
            "Category\n",
            "Accessories     26.666667\n",
            "Electronics    750.000000\n",
            "Name: Price, dtype: float64\n"
          ]
        }
      ],
      "source": [
        "# Group by category and calculate mean price\n",
        "print(\"Mean price by category:\")\n",
        "category_mean = products_df.groupby(\"Category\")[\"Price\"].mean()\n",
        "print(category_mean)"
      ]
    },
    {
      "cell_type": "code",
      "execution_count": null,
      "metadata": {
        "colab": {
          "base_uri": "https://localhost:8080/"
        },
        "id": "CBhBEi69dAss",
        "outputId": "30a145a0-d3e5-44a4-8dff-a1ee93f3deac"
      },
      "outputs": [
        {
          "output_type": "stream",
          "name": "stdout",
          "text": [
            "Multiple aggregations by category:\n",
            "                  Price            Units_Sold Rating\n",
            "                   mean   max  min        sum   mean\n",
            "Category                                            \n",
            "Accessories   26.666667    45   10        850    4.0\n",
            "Electronics  750.000000  1200  300        130    4.6\n"
          ]
        }
      ],
      "source": [
        "# Multiple aggregations\n",
        "print(\"Multiple aggregations by category:\")\n",
        "category_stats = products_df.groupby(\"Category\").agg({\n",
        "    \"Price\": [\"mean\", \"max\", \"min\"],\n",
        "    \"Units_Sold\": \"sum\",\n",
        "    \"Rating\": \"mean\"\n",
        "})\n",
        "print(category_stats)"
      ]
    },
    {
      "cell_type": "code",
      "execution_count": null,
      "metadata": {
        "colab": {
          "base_uri": "https://localhost:8080/"
        },
        "id": "NQzG6LYbdAss",
        "outputId": "b78cdd40-2f04-44ba-d521-a97e9f5f3c1f"
      },
      "outputs": [
        {
          "output_type": "stream",
          "name": "stdout",
          "text": [
            "DataFrame with Total Revenue column:\n",
            "  Product_ID Product_Name     Category  Price  Units_Sold  Rating  \\\n",
            "0       P001       Laptop  Electronics   1200          50     4.5   \n",
            "1       P002        Mouse  Accessories     25         200     4.2   \n",
            "2       P003     Keyboard  Accessories     45         150     4.0   \n",
            "3       P004      Monitor  Electronics    300          80     4.7   \n",
            "4       P005    USB Cable  Accessories     10         500     3.8   \n",
            "\n",
            "   Total_Revenue  \n",
            "0          60000  \n",
            "1           5000  \n",
            "2           6750  \n",
            "3          24000  \n",
            "4           5000  \n"
          ]
        }
      ],
      "source": [
        "# Creating new columns based on existing ones\n",
        "products_df[\"Total_Revenue\"] = products_df[\"Price\"] * products_df[\"Units_Sold\"]\n",
        "print(\"DataFrame with Total Revenue column:\")\n",
        "print(products_df)"
      ]
    },
    {
      "cell_type": "markdown",
      "metadata": {
        "id": "uB6MlGjvdAss"
      },
      "source": [
        "> **Advanced Learning:** Pandas supports advanced grouping operations like multi-level grouping, custom aggregation functions, and transform operations. For time-series data, explore resampling and rolling window operations. Learn more at [Pandas GroupBy](https://pandas.pydata.org/docs/user_guide/groupby.html)"
      ]
    },
    {
      "cell_type": "markdown",
      "metadata": {
        "id": "zsBmSVm8dAss"
      },
      "source": [
        "### **Basic Data Visualization** <a name=\"data-visualization\"></a>"
      ]
    },
    {
      "cell_type": "code",
      "execution_count": null,
      "metadata": {
        "colab": {
          "base_uri": "https://localhost:8080/"
        },
        "id": "RpQ3kB8edAss",
        "outputId": "f9cedaad-084c-4814-f4eb-81d978711fd8"
      },
      "outputs": [
        {
          "output_type": "stream",
          "name": "stdout",
          "text": [
            "Requirement already satisfied: matplotlib in /usr/local/lib/python3.12/dist-packages (3.10.0)\n",
            "Requirement already satisfied: contourpy>=1.0.1 in /usr/local/lib/python3.12/dist-packages (from matplotlib) (1.3.3)\n",
            "Requirement already satisfied: cycler>=0.10 in /usr/local/lib/python3.12/dist-packages (from matplotlib) (0.12.1)\n",
            "Requirement already satisfied: fonttools>=4.22.0 in /usr/local/lib/python3.12/dist-packages (from matplotlib) (4.60.1)\n",
            "Requirement already satisfied: kiwisolver>=1.3.1 in /usr/local/lib/python3.12/dist-packages (from matplotlib) (1.4.9)\n",
            "Requirement already satisfied: numpy>=1.23 in /usr/local/lib/python3.12/dist-packages (from matplotlib) (2.0.2)\n",
            "Requirement already satisfied: packaging>=20.0 in /usr/local/lib/python3.12/dist-packages (from matplotlib) (25.0)\n",
            "Requirement already satisfied: pillow>=8 in /usr/local/lib/python3.12/dist-packages (from matplotlib) (11.3.0)\n",
            "Requirement already satisfied: pyparsing>=2.3.1 in /usr/local/lib/python3.12/dist-packages (from matplotlib) (3.2.5)\n",
            "Requirement already satisfied: python-dateutil>=2.7 in /usr/local/lib/python3.12/dist-packages (from matplotlib) (2.9.0.post0)\n",
            "Requirement already satisfied: six>=1.5 in /usr/local/lib/python3.12/dist-packages (from python-dateutil>=2.7->matplotlib) (1.17.0)\n"
          ]
        }
      ],
      "source": [
        "# Installing matplotlib for visualization\n",
        "!pip install matplotlib"
      ]
    },
    {
      "cell_type": "code",
      "execution_count": null,
      "metadata": {
        "colab": {
          "base_uri": "https://localhost:8080/",
          "height": 507
        },
        "id": "lvyCx244dAst",
        "outputId": "07dab5a5-0819-4c87-999d-23161dfcb855"
      },
      "outputs": [
        {
          "output_type": "display_data",
          "data": {
            "text/plain": [
              "<Figure size 1000x500 with 1 Axes>"
            ],
            "image/png": "[encoded data removed]"
          },
          "metadata": {}
        }
      ],
      "source": [
        "import matplotlib.pyplot as plt\n",
        "\n",
        "# Bar chart of products by price\n",
        "products_df.plot.bar(x=\"Product_Name\", y=\"Price\", figsize=(10, 5))\n",
        "plt.title(\"Product Prices\")\n",
        "plt.ylabel(\"Price ($)\")\n",
        "plt.xticks(rotation=45)\n",
        "plt.tight_layout()\n",
        "plt.show()"
      ]
    },
    {
      "cell_type": "code",
      "execution_count": null,
      "metadata": {
        "colab": {
          "base_uri": "https://localhost:8080/",
          "height": 607
        },
        "id": "Mz7kzaLIdAst",
        "outputId": "4310897b-8a3a-4ed3-ffed-533104d405e1"
      },
      "outputs": [
        {
          "output_type": "display_data",
          "data": {
            "text/plain": [
              "<Figure size 800x600 with 1 Axes>"
            ],
            "image/png": "[encoded data removed]"
          },
          "metadata": {}
        }
      ],
      "source": [
        "# Scatter plot of price vs units sold\n",
        "products_df.plot.scatter(x=\"Price\", y=\"Units_Sold\", figsize=(8, 6))\n",
        "plt.title(\"Price vs Units Sold\")\n",
        "plt.xlabel(\"Price ($)\")\n",
        "plt.ylabel(\"Units Sold\")\n",
        "plt.tight_layout()\n",
        "plt.show()"
      ]
    },
    {
      "cell_type": "code",
      "execution_count": null,
      "metadata": {
        "colab": {
          "base_uri": "https://localhost:8080/",
          "height": 797
        },
        "id": "K3AVwNwJdAst",
        "outputId": "bd6ac353-be0c-452e-c1c6-82f54da6f052"
      },
      "outputs": [
        {
          "output_type": "display_data",
          "data": {
            "text/plain": [
              "<Figure size 800x800 with 1 Axes>"
            ],
            "image/png": "[encoded data removed]"
          },
          "metadata": {}
        }
      ],
      "source": [
        "# Pie chart of units sold by category\n",
        "category_sales = products_df.groupby(\"Category\")[\"Units_Sold\"].sum()\n",
        "category_sales.plot.pie(figsize=(8, 8), autopct=\"%1.1f%%\")\n",
        "plt.title(\"Units Sold by Category\")\n",
        "plt.ylabel(\"\")\n",
        "plt.tight_layout()\n",
        "plt.show()"
      ]
    },
    {
      "cell_type": "code",
      "source": [],
      "metadata": {
        "colab": {
          "base_uri": "https://localhost:8080/",
          "height": 310
        },
        "id": "XazD_3lw9dPh",
        "outputId": "34789cd3-113f-472d-b1f0-5dd70979501f"
      },
      "execution_count": null,
      "outputs": [
        {
          "output_type": "error",
          "ename": "TypeError",
          "evalue": "bad operand type for unary ~: 'str'",
          "traceback": [
            "\u001b[0;31m---------------------------------------------------------------------------\u001b[0m",
            "\u001b[0;31mTypeError\u001b[0m                                 Traceback (most recent call last)",
            "\u001b[0;32m/tmp/ipython-input-370506941.py\u001b[0m in \u001b[0;36m<cell line: 0>\u001b[0;34m()\u001b[0m\n\u001b[1;32m      1\u001b[0m \u001b[0mcolumns\u001b[0m \u001b[0;34m=\u001b[0m \u001b[0mproducts_df\u001b[0m\u001b[0;34m.\u001b[0m\u001b[0mcolumns\u001b[0m\u001b[0;34m\u001b[0m\u001b[0;34m\u001b[0m\u001b[0m\n\u001b[0;32m----> 2\u001b[0;31m \u001b[0mproducts_df\u001b[0m\u001b[0;34m[\u001b[0m\u001b[0;34m~\u001b[0m\u001b[0mproducts_df\u001b[0m\u001b[0;34m[\u001b[0m\u001b[0;34m\"Category\"\u001b[0m\u001b[0;34m]\u001b[0m\u001b[0;34m]\u001b[0m\u001b[0;34m\u001b[0m\u001b[0;34m\u001b[0m\u001b[0m\n\u001b[0m",
            "\u001b[0;32m/usr/local/lib/python3.12/dist-packages/pandas/core/generic.py\u001b[0m in \u001b[0;36m__invert__\u001b[0;34m(self)\u001b[0m\n\u001b[1;32m   1569\u001b[0m             \u001b[0;32mreturn\u001b[0m \u001b[0mself\u001b[0m\u001b[0;34m.\u001b[0m\u001b[0mcopy\u001b[0m\u001b[0;34m(\u001b[0m\u001b[0mdeep\u001b[0m\u001b[0;34m=\u001b[0m\u001b[0;32mFalse\u001b[0m\u001b[0;34m)\u001b[0m\u001b[0;34m\u001b[0m\u001b[0;34m\u001b[0m\u001b[0m\n\u001b[1;32m   1570\u001b[0m \u001b[0;34m\u001b[0m\u001b[0m\n\u001b[0;32m-> 1571\u001b[0;31m         \u001b[0mnew_data\u001b[0m \u001b[0;34m=\u001b[0m \u001b[0mself\u001b[0m\u001b[0;34m.\u001b[0m\u001b[0m_mgr\u001b[0m\u001b[0;34m.\u001b[0m\u001b[0mapply\u001b[0m\u001b[0;34m(\u001b[0m\u001b[0moperator\u001b[0m\u001b[0;34m.\u001b[0m\u001b[0minvert\u001b[0m\u001b[0;34m)\u001b[0m\u001b[0;34m\u001b[0m\u001b[0;34m\u001b[0m\u001b[0m\n\u001b[0m\u001b[1;32m   1572\u001b[0m         \u001b[0mres\u001b[0m \u001b[0;34m=\u001b[0m \u001b[0mself\u001b[0m\u001b[0;34m.\u001b[0m\u001b[0m_constructor_from_mgr\u001b[0m\u001b[0;34m(\u001b[0m\u001b[0mnew_data\u001b[0m\u001b[0;34m,\u001b[0m \u001b[0maxes\u001b[0m\u001b[0;34m=\u001b[0m\u001b[0mnew_data\u001b[0m\u001b[0;34m.\u001b[0m\u001b[0maxes\u001b[0m\u001b[0;34m)\u001b[0m\u001b[0;34m\u001b[0m\u001b[0;34m\u001b[0m\u001b[0m\n\u001b[1;32m   1573\u001b[0m         \u001b[0;32mreturn\u001b[0m \u001b[0mres\u001b[0m\u001b[0;34m.\u001b[0m\u001b[0m__finalize__\u001b[0m\u001b[0;34m(\u001b[0m\u001b[0mself\u001b[0m\u001b[0;34m,\u001b[0m \u001b[0mmethod\u001b[0m\u001b[0;34m=\u001b[0m\u001b[0;34m\"__invert__\"\u001b[0m\u001b[0;34m)\u001b[0m\u001b[0;34m\u001b[0m\u001b[0;34m\u001b[0m\u001b[0m\n",
            "\u001b[0;32m/usr/local/lib/python3.12/dist-packages/pandas/core/internals/managers.py\u001b[0m in \u001b[0;36mapply\u001b[0;34m(self, f, align_keys, **kwargs)\u001b[0m\n\u001b[1;32m    359\u001b[0m \u001b[0;34m\u001b[0m\u001b[0m\n\u001b[1;32m    360\u001b[0m             \u001b[0;32mif\u001b[0m \u001b[0mcallable\u001b[0m\u001b[0;34m(\u001b[0m\u001b[0mf\u001b[0m\u001b[0;34m)\u001b[0m\u001b[0;34m:\u001b[0m\u001b[0;34m\u001b[0m\u001b[0;34m\u001b[0m\u001b[0m\n\u001b[0;32m--> 361\u001b[0;31m                 \u001b[0mapplied\u001b[0m \u001b[0;34m=\u001b[0m \u001b[0mb\u001b[0m\u001b[0;34m.\u001b[0m\u001b[0mapply\u001b[0m\u001b[0;34m(\u001b[0m\u001b[0mf\u001b[0m\u001b[0;34m,\u001b[0m \u001b[0;34m**\u001b[0m\u001b[0mkwargs\u001b[0m\u001b[0;34m)\u001b[0m\u001b[0;34m\u001b[0m\u001b[0;34m\u001b[0m\u001b[0m\n\u001b[0m\u001b[1;32m    362\u001b[0m             \u001b[0;32melse\u001b[0m\u001b[0;34m:\u001b[0m\u001b[0;34m\u001b[0m\u001b[0;34m\u001b[0m\u001b[0m\n\u001b[1;32m    363\u001b[0m                 \u001b[0mapplied\u001b[0m \u001b[0;34m=\u001b[0m \u001b[0mgetattr\u001b[0m\u001b[0;34m(\u001b[0m\u001b[0mb\u001b[0m\u001b[0;34m,\u001b[0m \u001b[0mf\u001b[0m\u001b[0;34m)\u001b[0m\u001b[0;34m(\u001b[0m\u001b[0;34m**\u001b[0m\u001b[0mkwargs\u001b[0m\u001b[0;34m)\u001b[0m\u001b[0;34m\u001b[0m\u001b[0;34m\u001b[0m\u001b[0m\n",
            "\u001b[0;32m/usr/local/lib/python3.12/dist-packages/pandas/core/internals/blocks.py\u001b[0m in \u001b[0;36mapply\u001b[0;34m(self, func, **kwargs)\u001b[0m\n\u001b[1;32m    391\u001b[0m         \u001b[0mone\u001b[0m\u001b[0;34m\u001b[0m\u001b[0;34m\u001b[0m\u001b[0m\n\u001b[1;32m    392\u001b[0m         \"\"\"\n\u001b[0;32m--> 393\u001b[0;31m         \u001b[0mresult\u001b[0m \u001b[0;34m=\u001b[0m \u001b[0mfunc\u001b[0m\u001b[0;34m(\u001b[0m\u001b[0mself\u001b[0m\u001b[0;34m.\u001b[0m\u001b[0mvalues\u001b[0m\u001b[0;34m,\u001b[0m \u001b[0;34m**\u001b[0m\u001b[0mkwargs\u001b[0m\u001b[0;34m)\u001b[0m\u001b[0;34m\u001b[0m\u001b[0;34m\u001b[0m\u001b[0m\n\u001b[0m\u001b[1;32m    394\u001b[0m \u001b[0;34m\u001b[0m\u001b[0m\n\u001b[1;32m    395\u001b[0m         \u001b[0mresult\u001b[0m \u001b[0;34m=\u001b[0m \u001b[0mmaybe_coerce_values\u001b[0m\u001b[0;34m(\u001b[0m\u001b[0mresult\u001b[0m\u001b[0;34m)\u001b[0m\u001b[0;34m\u001b[0m\u001b[0;34m\u001b[0m\u001b[0m\n",
            "\u001b[0;31mTypeError\u001b[0m: bad operand type for unary ~: 'str'"
          ]
        }
      ]
    },
    {
      "cell_type": "markdown",
      "metadata": {
        "id": "ETBtpan2dAst"
      },
      "source": [
        "> **Advanced Learning:** For advanced data visualization, explore libraries like Seaborn for statistical plots, Plotly for interactive visualizations, and Matplotlib for custom plots. Learn more at [Pandas Visualization](https://pandas.pydata.org/docs/user_guide/visualization.html)"
      ]
    },
    {
      "cell_type": "markdown",
      "metadata": {
        "id": "PPAl_EiodAst"
      },
      "source": [
        "---\n",
        "## **Summary and Next Steps**\n",
        "\n",
        "In this training module, we've covered:\n",
        "- NumPy fundamentals and their role as the foundation for Pandas\n",
        "- Pandas Series and DataFrame structures\n",
        "- Data import/export operations\n",
        "- Essential data manipulation techniques\n",
        "- Data cleaning and preparation\n",
        "- Grouping and aggregation operations\n",
        "- Basic data visualization\n",
        "\n",
        "## **Further Learning Resources**\n",
        "\n",
        "- [Pandas Official Documentation](https://pandas.pydata.org/docs/)\n",
        "- [NumPy Official Documentation](https://numpy.org/doc/stable/)\n",
        "- [Pandas Cheat Sheet](https://pandas.pydata.org/Pandas_Cheat_Sheet.pdf)\n",
        "- [Real-world Pandas Examples](https://github.com/justmarkham/pandas-videos)\n",
        "\n",
        "## **Advanced Topics to Explore**\n",
        "\n",
        "- Time series analysis with Pandas\n",
        "- Performance optimization techniques\n",
        "- Integration with Dask for big data processing\n",
        "- Advanced indexing and multi-level indexing\n",
        "- Custom functions and apply methods\n",
        "- Memory optimization strategies\n",
        "\n",
        "---\n",
        "\n",
        "**Thank you for attending TimesPro's NumPy and Pandas Fundamentals training!**"
      ]
    }
  ],
  "metadata": {
    "kernelspec": {
      "display_name": ".venv",
      "language": "python",
      "name": "python3"
    },
    "language_info": {
      "codemirror_mode": {
        "name": "ipython",
        "version": 3
      },
      "file_extension": ".py",
      "mimetype": "text/x-python",
      "name": "python",
      "nbconvert_exporter": "python",
      "pygments_lexer": "ipython3",
      "version": "3.13.7"
    },
    "colab": {
      "provenance": []
    }
  },
  "nbformat": 4,
  "nbformat_minor": 0
}