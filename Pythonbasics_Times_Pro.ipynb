{
  "cells": [
    {
      "cell_type": "markdown",
      "metadata": {
        "id": "YCIKZ_PBCI4i"
      },
      "source": [
        "# Introduction to Python"
      ]
    },
    {
      "cell_type": "markdown",
      "metadata": {
        "id": "w_xQ-PPwEuAp"
      },
      "source": [
        "1. [Introduction](#intro)\n",
        "2. [Why Python?](#ypython)\n",
        "3. [Simple Expressions](#exp)\n",
        "4. [Variables](#vari)\n",
        "5. [Basics of DataTypes](#datatypes)\n",
        "    * [int](#int)\n",
        "    * [float](#float)\n",
        "    * [bool](#bool)\n",
        "6. [Data Types Conversions](#dataconv)\n",
        "7. [Operators](#operators)\n",
        "    * [Arithmetic Operators](#aop)\n",
        "    * [Relational Operators](#rop)\n",
        "    * [Logical Operators](#lop)\n"
      ]
    },
    {
      "cell_type": "markdown",
      "metadata": {
        "id": "nAZ0p-m8CU0t"
      },
      "source": [
        "## 1. Introduction\n",
        "\n",
        "---\n",
        "\n",
        "- Python is a high-level programming language, with its design philosophy primarily focused on code readability, reusability, and writing modular code\n",
        "- Python was developed by Guido van Rossum in the late eighties at the ‘National Research Institute for Mathematics and Computer Science’ at Netherlands\n"
      ]
    },
    {
      "cell_type": "markdown",
      "metadata": {
        "id": "wcVSLGWuCbx3"
      },
      "source": [
        "## 2. Why Python?\n",
        "\n",
        "---\n",
        "\n",
        "- It has the feature of dynamic typing, where the data type of the variable is determined only during runtime\n",
        "- Syntax used is simple to understand and code\n",
        "- Supported by a large community\n",
        "- Contains many libraries that can be used for data science tasks, on top of some standard libraries written in Python"
      ]
    },
    {
      "cell_type": "markdown",
      "source": [
        "## 3.Features of Python\n",
        "\n",
        "---"
      ],
      "metadata": {
        "id": "fAyg98RcTqL3"
      }
    },
    {
      "cell_type": "markdown",
      "source": [
        "\n",
        "\n",
        "*   1.Easy to Learn and Readable\n",
        "\n",
        "*   2.Interpreted Language\n",
        "*   3.Dynamically Typed\n",
        "\n",
        "\n",
        "*   4.Extensive Standard Library\n",
        "\n",
        "*   5.Cross-Platform\n",
        "*   6.Large Community & Open Source\n",
        "\n",
        "\n",
        "\n",
        "\n"
      ],
      "metadata": {
        "id": "-HPwWwekToCW"
      }
    },
    {
      "cell_type": "markdown",
      "source": [
        "### Application of Python"
      ],
      "metadata": {
        "id": "CKlXntbIUgfM"
      }
    },
    {
      "cell_type": "markdown",
      "source": [
        "\n",
        "\n",
        "*   Web Development\n",
        "\n",
        "*  Data Analysis\n",
        "*  Machine Learning & Artificial Intelligence\n",
        "*  Automation / Scripting\n",
        "* Game Development\n",
        "* Desktop Applications\n",
        "\n",
        "\n",
        "* Cloud Computing & DevOps\n",
        "\n"
      ],
      "metadata": {
        "id": "t6fa1T7bUkUz"
      }
    },
    {
      "cell_type": "markdown",
      "metadata": {
        "id": "cnOCHRR4Itm5"
      },
      "source": [
        "###  Simple Expressions\n"
      ]
    },
    {
      "cell_type": "code",
      "execution_count": null,
      "metadata": {
        "id": "c29jT8FqFnwI"
      },
      "outputs": [],
      "source": [
        "6 + 1"
      ]
    },
    {
      "cell_type": "code",
      "execution_count": null,
      "metadata": {
        "id": "9hqqxELHJnnh"
      },
      "outputs": [],
      "source": [
        "10 + 10"
      ]
    },
    {
      "cell_type": "code",
      "execution_count": null,
      "metadata": {
        "id": "8QgRSqsdJsj5"
      },
      "outputs": [],
      "source": [
        "2 * 10"
      ]
    },
    {
      "cell_type": "code",
      "execution_count": null,
      "metadata": {
        "id": "XKsmAFMiKDp6"
      },
      "outputs": [],
      "source": [
        "2 * 10 - 1 + 4"
      ]
    },
    {
      "cell_type": "code",
      "execution_count": null,
      "metadata": {
        "id": "95HNJG6yKK1G"
      },
      "outputs": [],
      "source": [
        "2 * (10 - 1)"
      ]
    },
    {
      "cell_type": "markdown",
      "metadata": {
        "id": "_pA3yKAhGvX0"
      },
      "source": [
        "### Rules for Variable Nomenclature\n",
        "\n",
        "---\n",
        "\n",
        "## **2. Variables in Python**  \n",
        "\n",
        "A variable in Python is a named reference to a value stored in memory. It serves as a container for data, allowing values to be stored, modified, and used throughout a program.  \n",
        "\n",
        "#### **Variable Nomenclature:**  \n",
        "- Must begin with a letter or an underscore (`_`).  \n",
        "- Can only contain letters, digits, and underscores.  \n",
        "- Cannot be a reserved Python keyword (Check reserved keywords using `keyword.kwlist`).  \n",
        "- Case-sensitive (e.g., `AuditData` and `auditdata` are different variables).  \n",
        "- Avoid spaces in variable names; use underscores for readability (e.g., `total_revenue`).  "
      ]
    },
    {
      "cell_type": "code",
      "source": [
        "import keyword\n",
        "keyword.kwlist"
      ],
      "metadata": {
        "id": "uEpMF4wRhK2J"
      },
      "execution_count": null,
      "outputs": []
    },
    {
      "cell_type": "code",
      "execution_count": null,
      "metadata": {
        "id": "FhFNhTmgdfHo"
      },
      "outputs": [],
      "source": [
        "tot_balls_per_over = 6\n",
        "print(tot_balls_per_over)"
      ]
    },
    {
      "cell_type": "code",
      "execution_count": null,
      "metadata": {
        "id": "y0AvW0vFQbGP"
      },
      "outputs": [],
      "source": [
        "my_first_name= 'Navin'\n",
        "my_second_name = \"Akash\"\n",
        "print(my_first_name)\n",
        "print(my_second_name)\n",
        "print(my_first_name,my_second_name)"
      ]
    },
    {
      "cell_type": "code",
      "execution_count": null,
      "metadata": {
        "id": "Wodf3O7SCrfE"
      },
      "outputs": [],
      "source": [
        "player1 = 'Virat Kohli'\n",
        "print(player1)"
      ]
    },
    {
      "cell_type": "code",
      "execution_count": null,
      "metadata": {
        "id": "pxcq4qLwH8Tr"
      },
      "outputs": [],
      "source": [
        "1player = 'Virat Kohli'"
      ]
    },
    {
      "cell_type": "code",
      "execution_count": null,
      "metadata": {
        "id": "vVbHgjBQepxx"
      },
      "outputs": [],
      "source": [
        "$player = \"Virat\""
      ]
    },
    {
      "cell_type": "code",
      "execution_count": null,
      "metadata": {
        "id": "5W7pXPspezt3"
      },
      "outputs": [],
      "source": [
        "_player1 = \"Virat\"\n",
        "print(_player1)"
      ]
    },
    {
      "cell_type": "code",
      "execution_count": null,
      "metadata": {
        "id": "NG6asxoxIGOp"
      },
      "outputs": [],
      "source": [
        "player_name = 'Virat Kohli'\n",
        "print(player_name)"
      ]
    },
    {
      "cell_type": "code",
      "execution_count": null,
      "metadata": {
        "id": "7_C89R80Ouia"
      },
      "outputs": [],
      "source": [
        "num_fours = 5\n",
        "num_sixes = 10\n",
        "tot_boundaries_runs = (num_fours * 4) + (num_sixes * 6)"
      ]
    },
    {
      "cell_type": "code",
      "execution_count": null,
      "metadata": {
        "id": "oy1CBa_fQHIH"
      },
      "outputs": [],
      "source": [
        "print(tot_boundaries_runs)"
      ]
    },
    {
      "cell_type": "markdown",
      "metadata": {
        "id": "rsxc8xoTN60s"
      },
      "source": [
        "## 5.Basic data types\n",
        "\n",
        "---\n",
        "\n",
        "| Basic data types | Description | Values | Representation |\n",
        "|------------------|-------------|--------|----------------|\n",
        "| Boolean | represents two values of logic and associated with conditional statements | True and False | bool |\n",
        "| Integer | positive and negative whole numbers | set of all integers, Z | int |\n",
        "| Complex | contains real and imaginary part ($a + jb$) | set of complex numbers | complex |\n",
        "| Float | real numbers | floating point numbers $ ∈ \\mathbb{R}$ | float |\n",
        "| String | Sequence of characters (digits, alphabets, and special characters) | Multiple characters enclosed in a pair of quotations | str"
      ]
    },
    {
      "cell_type": "markdown",
      "metadata": {
        "id": "zvlhTO7wWYl_"
      },
      "source": [
        "### The datatype of an object can be identified using the ``` type()``` method\n",
        "\n",
        "---\n",
        "\n",
        "### Syntax\n",
        "\n",
        "```\n",
        "type(<object>)\n",
        "```\n"
      ]
    },
    {
      "cell_type": "markdown",
      "metadata": {
        "id": "UT-gFRGEXXT1"
      },
      "source": [
        "#### **Integer**"
      ]
    },
    {
      "cell_type": "code",
      "execution_count": null,
      "metadata": {
        "id": "BUku_GMfWYJ5"
      },
      "outputs": [],
      "source": [
        "batsman_score = 50\n",
        "type(batsman_score)"
      ]
    },
    {
      "cell_type": "markdown",
      "metadata": {
        "id": "D-1z9fTYYYxH"
      },
      "source": [
        "#### **Float**"
      ]
    },
    {
      "cell_type": "code",
      "execution_count": null,
      "metadata": {
        "id": "uBKDt8GrYd4A"
      },
      "outputs": [],
      "source": [
        "bowler_economy = 6.4\n",
        "\n",
        "print(type(bowler_economy))"
      ]
    },
    {
      "cell_type": "markdown",
      "metadata": {
        "id": "zx5ceCL_Yphz"
      },
      "source": [
        "#### **Bool**"
      ]
    },
    {
      "cell_type": "markdown",
      "metadata": {
        "id": "1yTuLa-SZJTG"
      },
      "source": [
        "True = 1 and False = 0"
      ]
    },
    {
      "cell_type": "code",
      "execution_count": null,
      "metadata": {
        "id": "ZvUZ0rdZYucn"
      },
      "outputs": [],
      "source": [
        "True + True"
      ]
    },
    {
      "cell_type": "code",
      "execution_count": null,
      "metadata": {
        "id": "J1gL-x-UY30q"
      },
      "outputs": [],
      "source": [
        "False - True"
      ]
    },
    {
      "cell_type": "code",
      "execution_count": null,
      "metadata": {
        "id": "pk-bFAM3ZS0G"
      },
      "outputs": [],
      "source": [
        "qualified = False\n",
        "print(qualified)\n",
        "type(qualified)"
      ]
    },
    {
      "cell_type": "markdown",
      "metadata": {
        "id": "IEz6rg5naXcT"
      },
      "source": [
        "## 6. Data type conversion\n",
        "\n",
        "---\n",
        "We can use built-in functions like int(), float() and complex() to convert between types explicitly.\n",
        "\n",
        "1. float $→$ int $⇒$ ```int(<float-object>)```\n",
        "2. int $→$ float $⇒$ ```float(<int-object>)```"
      ]
    },
    {
      "cell_type": "code",
      "source": [
        "a = int(input(\"Enter the Mark 1: \"))\n",
        "b= int(input(\"Enter the Mark 2: \"))\n",
        "Total = a + b\n",
        "print(Total)\n"
      ],
      "metadata": {
        "id": "WHfP75YLjgW4"
      },
      "execution_count": null,
      "outputs": []
    },
    {
      "cell_type": "code",
      "source": [
        "type(a)"
      ],
      "metadata": {
        "id": "guBXuRQYkUZj"
      },
      "execution_count": null,
      "outputs": []
    },
    {
      "cell_type": "markdown",
      "metadata": {
        "id": "y-uBS69AcRsj"
      },
      "source": [
        "### Conversion of int data type to float:"
      ]
    },
    {
      "cell_type": "code",
      "execution_count": null,
      "metadata": {
        "id": "EfnEK12SaY-u"
      },
      "outputs": [],
      "source": [
        "score = 27\n",
        "\n",
        "print(score,type(score))\n",
        "\n",
        "score_float = float(score)\n",
        "\n",
        "print(score_float,type(score_float))"
      ]
    },
    {
      "cell_type": "code",
      "execution_count": null,
      "metadata": {
        "id": "JZ62VRrM-q2B"
      },
      "outputs": [],
      "source": [
        "team_score = \"270\"\n",
        "type(team_score)\n",
        "player_name = \"Virat\""
      ]
    },
    {
      "cell_type": "markdown",
      "metadata": {
        "id": "dUbgf4mpce04"
      },
      "source": [
        "### Conversion of float data type to int:"
      ]
    },
    {
      "cell_type": "code",
      "execution_count": null,
      "metadata": {
        "id": "4iRImlXNceVr"
      },
      "outputs": [],
      "source": [
        "batting_average = 34.7\n",
        "\n",
        "print(batting_average,type(batting_average))\n",
        "\n",
        "batting_average = int(batting_average)\n",
        "\n",
        "print(batting_average,type(batting_average))"
      ]
    },
    {
      "cell_type": "markdown",
      "metadata": {
        "id": "nhayAFFNqIiq"
      },
      "source": [
        "### Conversion of int data type to string:"
      ]
    },
    {
      "cell_type": "code",
      "execution_count": null,
      "metadata": {
        "id": "EEczqIa9qND1"
      },
      "outputs": [],
      "source": [
        "overs = 6\n",
        "\n",
        "print(overs,type(overs))\n",
        "overs_str = str(overs)\n",
        "\n",
        "\n",
        "print(overs_str,type(overs_str))"
      ]
    },
    {
      "cell_type": "markdown",
      "metadata": {
        "id": "Eah1MlneqS3P"
      },
      "source": [
        "* If the value enclosed within the quotes is a string then conversions will not be possible."
      ]
    },
    {
      "cell_type": "code",
      "execution_count": null,
      "metadata": {
        "id": "hzsanz_qqoat"
      },
      "outputs": [],
      "source": [
        "name = \"10\"\n",
        "print(type(name))\n",
        "name_int = int(name)\n",
        "print(type(name_int))"
      ]
    },
    {
      "cell_type": "markdown",
      "metadata": {
        "id": "L8cN3NUoqvRh"
      },
      "source": [
        "## 7. Operators"
      ]
    },
    {
      "cell_type": "markdown",
      "metadata": {
        "id": "pxfmFzzprU0x"
      },
      "source": [
        "![image.png](data:image/png;base64,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)"
      ]
    },
    {
      "cell_type": "markdown",
      "metadata": {
        "id": "mNTdrMZ9rygY"
      },
      "source": [
        "### Arithmetic Operators\n",
        "\n",
        "---\n",
        "\n",
        "| Symbol | Operation |\n",
        "|--------|-----------|\n",
        "| () | Parentheses |\n",
        "| ** | Exponent |\n",
        "| *, /, %, // | Multiplication, Division, Remainder, Integer Division |\n",
        "| +, - | Addition, Subtraction |"
      ]
    },
    {
      "cell_type": "markdown",
      "metadata": {
        "id": "eYkidBRx6HCX"
      },
      "source": [
        "- **Note: Assignment operator is denoted as `=`**"
      ]
    },
    {
      "cell_type": "markdown",
      "metadata": {
        "id": "k1w9IJHZ64Mk"
      },
      "source": [
        "### Addition(+):\n",
        "* In cricket, addition can be performed to calculate team's overall score."
      ]
    },
    {
      "cell_type": "markdown",
      "metadata": {
        "id": "L6JfMzZS7KEQ"
      },
      "source": [
        "Example:"
      ]
    },
    {
      "cell_type": "code",
      "execution_count": null,
      "metadata": {
        "id": "1rWPpooh7JOX"
      },
      "outputs": [],
      "source": [
        "#Calculate the teams total score\n",
        "player_1 = 14\n",
        "player_2 = 27\n",
        "player_3 = 22\n",
        "\n",
        "total = player_1+player_2+player_3\n",
        "print(total)"
      ]
    },
    {
      "cell_type": "markdown",
      "metadata": {
        "id": "PD-OpqI77S_p"
      },
      "source": [
        "### Subtraction(-):"
      ]
    },
    {
      "cell_type": "markdown",
      "metadata": {
        "id": "O2BkWgW37arx"
      },
      "source": [
        "In cricket, subtraction can be performed to calculate by how many runs a team won."
      ]
    },
    {
      "cell_type": "code",
      "execution_count": null,
      "metadata": {
        "id": "bJxczTMG7cy3"
      },
      "outputs": [],
      "source": [
        "#Calculate the winning runs\n",
        "team_a_score = 257\n",
        "team_b_score = 200\n",
        "\n",
        "diff = team_a_score - team_b_score\n",
        "print(diff)"
      ]
    },
    {
      "cell_type": "markdown",
      "metadata": {
        "id": "gPmsCccL70Ow"
      },
      "source": [
        "### Multiplication(*):"
      ]
    },
    {
      "cell_type": "code",
      "execution_count": null,
      "metadata": {
        "id": "2xz-gERb71U1"
      },
      "outputs": [],
      "source": [
        "#Calculate the number of balls bowled\n",
        "overs = 7\n",
        "balls_per_over = 6\n",
        "\n",
        "deliveries = overs * balls_per_over\n",
        "print(deliveries)"
      ]
    },
    {
      "cell_type": "markdown",
      "metadata": {
        "id": "FQvV8VOwAkhv"
      },
      "source": [
        "### Exponent(**):\n",
        "\n",
        "To compute ${3^2}$"
      ]
    },
    {
      "cell_type": "code",
      "execution_count": null,
      "metadata": {
        "id": "MRAB40SmAgxi"
      },
      "outputs": [],
      "source": [
        "result = 3 ** 2\n",
        "print(result)"
      ]
    },
    {
      "cell_type": "code",
      "source": [
        "result = 15 //2"
      ],
      "metadata": {
        "id": "PrGc6KH_mN9C"
      },
      "execution_count": null,
      "outputs": []
    },
    {
      "cell_type": "markdown",
      "metadata": {
        "id": "4dVbkJ1w_uY_"
      },
      "source": [
        "### Relational operators\n",
        "\n",
        "- Tests numerical equalities/inequalities between different values and returns a boolean\n",
        "\n",
        "- All operators have same precedence\n",
        "\n",
        "---\n",
        "\n",
        "| Symbol | Operation |\n",
        "|--------|-----------|\n",
        "| < | strictly less than |\n",
        "| <= | less than or equal to |\n",
        "| > | strictly greater than |\n",
        "| >= | greater than or equal to |\n",
        "| == | equal to |\n",
        "| != | not equal to |"
      ]
    },
    {
      "cell_type": "markdown",
      "metadata": {
        "id": "4yy4Qbd3_4_-"
      },
      "source": [
        "### Equal to(==):"
      ]
    },
    {
      "cell_type": "code",
      "execution_count": null,
      "metadata": {
        "id": "YP1WNdNV_tW_"
      },
      "outputs": [],
      "source": [
        "#Comparing batsmen scores\n",
        "batsman1_score = 89\n",
        "batsman2_score = 90\n",
        "\n",
        "print(batsman1_score == batsman2_score)"
      ]
    },
    {
      "cell_type": "markdown",
      "metadata": {
        "id": "QyyGyWemACta"
      },
      "source": [
        "### Not Equal to(!=):"
      ]
    },
    {
      "cell_type": "code",
      "execution_count": null,
      "metadata": {
        "id": "cb4CFCifAD8S"
      },
      "outputs": [],
      "source": [
        "#Checking the teams scores\n",
        "team1_score = 230\n",
        "team2_score = 245\n",
        "\n",
        "print(team1_score != team2_score)"
      ]
    },
    {
      "cell_type": "markdown",
      "metadata": {
        "id": "2vFqg5guAHy3"
      },
      "source": [
        "### Greater than or Less than (>/<):"
      ]
    },
    {
      "cell_type": "code",
      "execution_count": null,
      "metadata": {
        "id": "3EI2rZdI8RQD"
      },
      "outputs": [],
      "source": [
        "# Comparing the runs scored by two teams\n",
        "team1_score = 280\n",
        "team2_score = 245\n",
        "\n",
        "print(team1_score >= team2_score)"
      ]
    },
    {
      "cell_type": "markdown",
      "metadata": {
        "id": "NVstn2WiANuc"
      },
      "source": [
        "### Greater than or equal to(>=)"
      ]
    },
    {
      "cell_type": "code",
      "execution_count": null,
      "metadata": {
        "id": "ytObuG1FAQfE"
      },
      "outputs": [],
      "source": [
        "#Comparing bowling averages of two bowlers\n",
        "bowler1_average = 24.50\n",
        "bowler2_average = 26.75\n",
        "\n",
        "print(bowler1_average <= bowler2_average)"
      ]
    },
    {
      "cell_type": "markdown",
      "metadata": {
        "id": "yo5A0YLiATaw"
      },
      "source": [
        "* Relational operators are useful in conditional statements to evaluate whether the condition holds good"
      ]
    },
    {
      "cell_type": "markdown",
      "metadata": {
        "id": "u0pfIL8bAknr"
      },
      "source": [
        "### Logical operators\n",
        "\n",
        "- Used when operands are conditional statements and returns boolean value\n",
        "- In Python, logical operators are designed to work with scalars or boolean\n",
        "values\n",
        "\n",
        "---\n",
        "\n",
        "| Symbol | Operation |\n",
        "|--------|-----------|\n",
        "| or | Logical OR |\n",
        "| and | Logical AND |\n",
        "| not | Logical NOT |"
      ]
    },
    {
      "cell_type": "markdown",
      "metadata": {
        "id": "zZUPD5BTAsLK"
      },
      "source": [
        "### AND Operator(and):"
      ]
    },
    {
      "cell_type": "markdown",
      "metadata": {
        "id": "szHfN9CiAxYb"
      },
      "source": [
        "The AND operator returns True only if both the conditions are True."
      ]
    },
    {
      "cell_type": "code",
      "source": [
        "a = 10\n",
        "b= 30\n",
        "\n",
        "a >=30 or b<=50"
      ],
      "metadata": {
        "id": "cso6AZETpsWJ"
      },
      "execution_count": null,
      "outputs": []
    },
    {
      "cell_type": "code",
      "execution_count": null,
      "metadata": {
        "id": "KU1Towt0AloQ"
      },
      "outputs": [],
      "source": [
        "# Checking if a batsman scored a century and the team won the match\n",
        "batsman_score = 120\n",
        "is_team_won = True\n",
        "\n",
        "if batsman_score >= 100 and is_team_won:\n",
        "    print(\"The batsman scored a century and the team won the match.\")\n",
        "else:\n",
        "    print(\"Either the batsman didn't score a century or the team lost the match.\")"
      ]
    },
    {
      "cell_type": "markdown",
      "metadata": {
        "id": "XO2iOfq6A5nl"
      },
      "source": [
        "### OR Operator(or):"
      ]
    },
    {
      "cell_type": "markdown",
      "metadata": {
        "id": "l171PsOkBC2P"
      },
      "source": [
        "* The OR operator returns True if one of the condition is True"
      ]
    },
    {
      "cell_type": "code",
      "execution_count": null,
      "metadata": {
        "id": "34Mvtx5UAXik"
      },
      "outputs": [],
      "source": [
        "# Checking if a team won the match or the match ended in a tie\n",
        "is_team_won = True\n",
        "is_match_tied = False\n",
        "\n",
        "if is_team_won or is_match_tied:\n",
        "    print(\"The team won the match or the match ended in a tie.\")\n",
        "else:\n",
        "    print(\"The team lost the match.\")\n"
      ]
    },
    {
      "cell_type": "markdown",
      "metadata": {
        "id": "jl-8Nep0BUFv"
      },
      "source": [
        "* The NOT operator is used to negate a boolean value"
      ]
    },
    {
      "cell_type": "markdown",
      "source": [
        "### NOT Operators"
      ],
      "metadata": {
        "id": "lKp2rwZ-RK6N"
      }
    },
    {
      "cell_type": "code",
      "source": [
        "x = 10\n",
        "print(not (x == 10))   # False, because x == 10 is True → NOT True = False\n",
        "print(not (x > 20))"
      ],
      "metadata": {
        "id": "3wuhGlY5RY_L"
      },
      "execution_count": null,
      "outputs": []
    },
    {
      "cell_type": "code",
      "source": [
        "is_sunny = True\n",
        "print(not is_sunny)"
      ],
      "metadata": {
        "id": "705AhnTARZi1"
      },
      "execution_count": null,
      "outputs": []
    },
    {
      "cell_type": "markdown",
      "source": [
        "### Simple Assignment Operators"
      ],
      "metadata": {
        "id": "AmKhuxTbRuG2"
      }
    },
    {
      "cell_type": "code",
      "source": [
        "x = 10   # Assigns the value 10 to variable x\n",
        "print(x)"
      ],
      "metadata": {
        "id": "8hxU1XsERwcA"
      },
      "execution_count": null,
      "outputs": []
    },
    {
      "cell_type": "code",
      "source": [
        "x = 5\n",
        "x += 3   # Same as x = x + 3\n",
        "print(x)"
      ],
      "metadata": {
        "id": "NezntbnAR0Qg"
      },
      "execution_count": null,
      "outputs": []
    },
    {
      "cell_type": "code",
      "source": [
        "y = 4\n",
        "y *= 2   # Same as y = y * 2\n",
        "print(y)"
      ],
      "metadata": {
        "id": "28Um8zBRR5sQ"
      },
      "execution_count": null,
      "outputs": []
    },
    {
      "cell_type": "markdown",
      "source": [
        "### Membership Operators"
      ],
      "metadata": {
        "id": "cnC8zV4gSIpC"
      }
    },
    {
      "cell_type": "markdown",
      "source": [
        "in → returns True if a value exists in a sequence (string, list, tuple, set, dictionary keys).\n",
        "\n",
        "not in → returns True if a value does not exist in a sequence\n",
        "\n"
      ],
      "metadata": {
        "id": "HYRv0jBjSNWd"
      }
    },
    {
      "cell_type": "code",
      "source": [
        "Student ['Peter','Apple']\n",
        "\n",
        "print(\"apple\" in fruits)      # True, because \"apple\" is in the list\n"
      ],
      "metadata": {
        "id": "GAPGL1F0SLFU"
      },
      "execution_count": null,
      "outputs": []
    },
    {
      "cell_type": "code",
      "source": [
        "text = \"Hello World\"\n",
        "\n",
        "print(\"Hello\" in text)     # True, substring exists\n",
        "print(\"bye\" not in text)"
      ],
      "metadata": {
        "id": "UTnkMJCkSUeT"
      },
      "execution_count": null,
      "outputs": []
    },
    {
      "cell_type": "code",
      "source": [
        "import pandas\n"
      ],
      "metadata": {
        "id": "vHRpyhm870MD"
      },
      "execution_count": null,
      "outputs": []
    },
    {
      "cell_type": "markdown",
      "source": [
        "### Identity operators"
      ],
      "metadata": {
        "id": "5C2q46ElSicC"
      }
    },
    {
      "cell_type": "markdown",
      "source": [
        "is → returns True if two variables point to the same object in memory.\n",
        "\n",
        "is not → returns True if they do not point to the same object."
      ],
      "metadata": {
        "id": "uZVoOwzXSkOX"
      }
    },
    {
      "cell_type": "code",
      "source": [
        "a = [1,2,3]\n",
        "b = a\n"
      ],
      "metadata": {
        "id": "qDABUL_hwACX"
      },
      "execution_count": null,
      "outputs": []
    },
    {
      "cell_type": "code",
      "source": [
        "a is b"
      ],
      "metadata": {
        "id": "n26Gtvs4wFsA"
      },
      "execution_count": null,
      "outputs": []
    },
    {
      "cell_type": "code",
      "source": [
        "pin = 1234"
      ],
      "metadata": {
        "id": "vktlKEVgxULP"
      },
      "execution_count": null,
      "outputs": []
    },
    {
      "cell_type": "code",
      "source": [
        "type(pin)"
      ],
      "metadata": {
        "id": "-GCZbgEYxVAc"
      },
      "execution_count": null,
      "outputs": []
    },
    {
      "cell_type": "code",
      "source": [
        "pin=1234\n",
        "Pin_enter =input('Enter Your Pin : ')\n",
        "if pin==int(Pin_enter):\n",
        "  print('Correct Pin')\n",
        "else:\n",
        "  print('Incorrect')"
      ],
      "metadata": {
        "id": "_v29Da5WxipA",
        "outputId": "b09141ce-6f92-4def-be2c-3f3b39053a6c",
        "colab": {
          "base_uri": "https://localhost:8080/"
        }
      },
      "execution_count": null,
      "outputs": [
        {
          "output_type": "stream",
          "name": "stdout",
          "text": [
            "Enter Your Pin : 7890\n",
            "Incorrect\n"
          ]
        }
      ]
    },
    {
      "cell_type": "code",
      "source": [
        "a = [1, 2, 3]\n",
        "b = [1, 2, 3]\n",
        "\n",
        "print(a == b)   # True → because values are equal\n",
        "print(a is b)"
      ],
      "metadata": {
        "id": "AgHEEzCtSqP3"
      },
      "execution_count": null,
      "outputs": []
    },
    {
      "cell_type": "markdown",
      "source": [
        "c = [4, 5, 6]\n",
        "d = c   # d points to the same object as c\n",
        "\n",
        "print(c is d)       # True, both refer to the same list in memory\n",
        "print(c is not d)"
      ],
      "metadata": {
        "id": "YZdhxPmSSwFT"
      }
    },
    {
      "cell_type": "markdown",
      "source": [
        "PEMDAS"
      ],
      "metadata": {
        "id": "lyXxWO6zVmjI"
      }
    },
    {
      "cell_type": "markdown",
      "source": [
        "P → Parentheses\n",
        "\n",
        "E → Exponents\n",
        "\n",
        "M → Multiplication\n",
        "\n",
        "D → Division\n",
        "\n",
        "A → Addition\n",
        "\n",
        "S → Subtraction"
      ],
      "metadata": {
        "id": "9xoYYLlLVrCX"
      }
    },
    {
      "cell_type": "code",
      "source": [
        "result = (2 + 3) * 4\n",
        "print(result)"
      ],
      "metadata": {
        "id": "qtsrNM7bVvYc"
      },
      "execution_count": null,
      "outputs": []
    },
    {
      "cell_type": "code",
      "source": [
        "result = 2 + 3 ** 2\n",
        "print(result)"
      ],
      "metadata": {
        "id": "ZdGUv2T3VxJX"
      },
      "execution_count": null,
      "outputs": []
    },
    {
      "cell_type": "code",
      "source": [
        "result = 10 / 2 * 3\n",
        "print(result)   # 15.0, because 10/2 = 5 → 5*3"
      ],
      "metadata": {
        "id": "DodoxnH3VxqV"
      },
      "execution_count": null,
      "outputs": []
    },
    {
      "cell_type": "code",
      "source": [
        "result = 10 - 2 + 5\n",
        "print(result)"
      ],
      "metadata": {
        "id": "7Gsz-RytV1Se"
      },
      "execution_count": null,
      "outputs": []
    },
    {
      "cell_type": "code",
      "source": [
        "result = 10 - (2 + 3) * 2 ** 2\n",
        "print(result)"
      ],
      "metadata": {
        "id": "a0K4KRgIV4K6"
      },
      "execution_count": null,
      "outputs": []
    },
    {
      "cell_type": "markdown",
      "source": [
        "### User Input in Python\n",
        "The input() function in Python allows users to enter data dynamically during program execution, making the program more interactive instead of relying on hardcoded values."
      ],
      "metadata": {
        "id": "hJWtWQd8V_YB"
      }
    },
    {
      "cell_type": "code",
      "source": [
        "# Prompting the user for input\n",
        "auditor_name = input(\"How many Audithave completed this month\")\n",
        "\n",
        "# Displaying the entered name\n",
        "print(\"No.of Audit:\", auditor_name)"
      ],
      "metadata": {
        "id": "2ZbCIGFEWCUI"
      },
      "execution_count": null,
      "outputs": []
    }
  ],
  "metadata": {
    "colab": {
      "provenance": []
    },
    "kernelspec": {
      "display_name": "Python 3 (ipykernel)",
      "language": "python",
      "name": "python3"
    },
    "language_info": {
      "codemirror_mode": {
        "name": "ipython",
        "version": 3
      },
      "file_extension": ".py",
      "mimetype": "text/x-python",
      "name": "python",
      "nbconvert_exporter": "python",
      "pygments_lexer": "ipython3",
      "version": "3.8.10"
    }
  },
  "nbformat": 4,
  "nbformat_minor": 0
}